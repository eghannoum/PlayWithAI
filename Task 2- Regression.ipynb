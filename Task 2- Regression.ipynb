{
 "cells": [
  {
   "cell_type": "markdown",
   "metadata": {
    "id": "tCjHIT11ALn1"
   },
   "source": [
    "# **Course: Data Science for Decision Support**\n",
    "\n",
    "\n",
    "\n",
    "\n",
    "\n"
   ]
  },
  {
   "cell_type": "markdown",
   "metadata": {
    "id": "-7gSS1NBA3Hz"
   },
   "source": [
    "# Problem: **Regression** "
   ]
  },
  {
   "cell_type": "markdown",
   "metadata": {
    "id": "R2y3CQGlBbDF"
   },
   "source": [
    "# **`Task 1 “Data Analysis”`**"
   ]
  },
  {
   "cell_type": "markdown",
   "metadata": {
    "id": "gHgKrVp0Be12"
   },
   "source": [
    "1)\tRead the data from your individual variant into Python notebook"
   ]
  },
  {
   "cell_type": "code",
   "execution_count": 161,
   "metadata": {},
   "outputs": [],
   "source": [
    "import pandas as pd\n",
    "import numpy as np\n",
    "import matplotlib.pyplot as plt\n",
    "import seaborn as sns\n",
    "import warnings\n",
    "from sklearn.model_selection import train_test_split\n",
    "from sklearn.pipeline import make_pipeline\n",
    "from sklearn.linear_model import LinearRegression\n",
    "from sklearn.tree import DecisionTreeRegressor\n",
    "from sklearn.neighbors import KNeighborsRegressor\n",
    "from sklearn.metrics import mean_absolute_error\n",
    "from sklearn.metrics import mean_squared_error\n",
    "from sklearn.metrics import r2_score\n",
    "from sklearn.model_selection import GridSearchCV\n",
    "from sklearn.svm import SVR\n",
    "from sklearn.preprocessing import StandardScaler\n",
    "from sklearn.preprocessing import MinMaxScaler\n",
    "from sklearn.ensemble import RandomForestRegressor\n",
    "from sklearn.ensemble import RandomForestRegressor\n",
    "import xgboost as xgb\n",
    "import lightgbm as lgb\n",
    "import catboost as cb\n",
    "import ipywidgets as widgets\n",
    "from ipywidgets import HBox, VBox\n",
    "import numpy as np\n",
    "import matplotlib.pyplot as plt\n",
    "from IPython.display import display\n",
    "from ipywidgets import interact, interactive, fixed, interact_manual\n",
    "warnings.filterwarnings('ignore')"
   ]
  },
  {
   "cell_type": "code",
   "execution_count": 163,
   "metadata": {},
   "outputs": [],
   "source": [
    "df = pd.read_csv('house.csv')"
   ]
  },
  {
   "cell_type": "code",
   "execution_count": 169,
   "metadata": {},
   "outputs": [],
   "source": [
    "corr_matrix = df.corr().abs()\n",
    "upper = corr_matrix.where(\n",
    "    np.triu(np.ones(corr_matrix.shape), k=1).astype(np.bool))\n",
    "to_drop = [column for column in upper.columns if any(upper[column] > 0.90)]\n",
    "df.drop(to_drop, axis=1, inplace=True)\n"
   ]
  },
  {
   "cell_type": "code",
   "execution_count": 170,
   "metadata": {},
   "outputs": [],
   "source": [
    "X = df.loc[:, df.columns != 'median_house_value']\n",
    "y = df.loc[:, df.columns == 'median_house_value']\n",
    "X_train, X_test, y_train, y_test = train_test_split(\n",
    "    X, y, test_size=0.2, random_state=30)\n"
   ]
  },
  {
   "cell_type": "code",
   "execution_count": null,
   "metadata": {},
   "outputs": [],
   "source": [
    "l = []"
   ]
  },
  {
   "cell_type": "code",
   "execution_count": 171,
   "metadata": {},
   "outputs": [
    {
     "data": {
      "text/plain": [
       "((13600, 5), (3400, 5), (13600, 1), (3400, 1))"
      ]
     },
     "execution_count": 171,
     "metadata": {},
     "output_type": "execute_result"
    }
   ],
   "source": [
    "X_train.shape, X_test.shape, y_train.shape, y_test.shape"
   ]
  },
  {
   "cell_type": "code",
   "execution_count": 167,
   "metadata": {},
   "outputs": [],
   "source": [
    "def score(y_test, y_pred):\n",
    "    mae = mean_absolute_error(y_test, y_pred)\n",
    "    mse = mean_squared_error(y_test, y_pred)\n",
    "    rmse = np.sqrt(mean_squared_error(y_test, y_pred))\n",
    "    r2 = r2_score(y_test, y_pred)\n",
    "\n",
    "    return {'MAE': mae, 'MSE': mse, 'RMSE': rmse, 'R2': r2}\n"
   ]
  },
  {
   "cell_type": "code",
   "execution_count": 56,
   "metadata": {},
   "outputs": [
    {
     "data": {
      "text/plain": [
       "{'MAE': 59958.598958470444,\n",
       " 'MSE': 6485490671.691809,\n",
       " 'RMSE': 80532.54417744301,\n",
       " 'R2': 0.520692475736292}"
      ]
     },
     "execution_count": 56,
     "metadata": {},
     "output_type": "execute_result"
    }
   ],
   "source": [
    "pipe = make_pipeline(StandardScaler(), LinearRegression())\n",
    "pipe.fit(X_train, y_train.values.ravel())\n",
    "y_pred = pipe.predict(X_test)\n",
    "score(y_test, y_pred)"
   ]
  },
  {
   "cell_type": "code",
   "execution_count": 43,
   "metadata": {},
   "outputs": [
    {
     "data": {
      "text/plain": [
       "{'MAE': 59958.598958470444,\n",
       " 'MSE': 6485490671.691809,\n",
       " 'RMSE': 80532.54417744301,\n",
       " 'R2': 0.520692475736292}"
      ]
     },
     "execution_count": 43,
     "metadata": {},
     "output_type": "execute_result"
    }
   ],
   "source": [
    "pipe = make_pipeline(MinMaxScaler(), LinearRegression())\n",
    "pipe.fit(X_train, y_train.values.ravel())\n",
    "y_pred = pipe.predict(X_test)\n",
    "score(y_test, y_pred)"
   ]
  },
  {
   "cell_type": "code",
   "execution_count": 44,
   "metadata": {},
   "outputs": [
    {
     "data": {
      "text/plain": [
       "{'MAE': 49815.863058823525,\n",
       " 'MSE': 4959058404.369201,\n",
       " 'RMSE': 70420.58224957531,\n",
       " 'R2': 0.6335028254913375}"
      ]
     },
     "execution_count": 44,
     "metadata": {},
     "output_type": "execute_result"
    }
   ],
   "source": [
    "pipe = make_pipeline(StandardScaler(), KNeighborsRegressor())\n",
    "pipe.fit(X_train, y_train.values.ravel())\n",
    "y_pred = pipe.predict(X_test)\n",
    "score(y_test, y_pred)"
   ]
  },
  {
   "cell_type": "code",
   "execution_count": 45,
   "metadata": {},
   "outputs": [
    {
     "data": {
      "text/plain": [
       "{'MAE': 49371.29864705882,\n",
       " 'MSE': 4932168901.779589,\n",
       " 'RMSE': 70229.4019750958,\n",
       " 'R2': 0.6354900831357229}"
      ]
     },
     "execution_count": 45,
     "metadata": {},
     "output_type": "execute_result"
    }
   ],
   "source": [
    "pipe = make_pipeline(MinMaxScaler(), KNeighborsRegressor())\n",
    "pipe.fit(X_train, y_train.values.ravel())\n",
    "y_pred = pipe.predict(X_test)\n",
    "score(y_test, y_pred)"
   ]
  },
  {
   "cell_type": "code",
   "execution_count": 46,
   "metadata": {},
   "outputs": [
    {
     "data": {
      "text/plain": [
       "{'MAE': 58746.345,\n",
       " 'MSE': 7752108931.1685295,\n",
       " 'RMSE': 88046.06141769505,\n",
       " 'R2': 0.4270835735160031}"
      ]
     },
     "execution_count": 46,
     "metadata": {},
     "output_type": "execute_result"
    }
   ],
   "source": [
    "pipe = make_pipeline(StandardScaler(), DecisionTreeRegressor())\n",
    "pipe.fit(X_train, y_train.values.ravel())\n",
    "y_pred = pipe.predict(X_test)\n",
    "score(y_test, y_pred)"
   ]
  },
  {
   "cell_type": "code",
   "execution_count": 47,
   "metadata": {},
   "outputs": [
    {
     "data": {
      "text/plain": [
       "{'MAE': 58639.285,\n",
       " 'MSE': 7747789264.815,\n",
       " 'RMSE': 88021.52728063175,\n",
       " 'R2': 0.4274028166836161}"
      ]
     },
     "execution_count": 47,
     "metadata": {},
     "output_type": "execute_result"
    }
   ],
   "source": [
    "pipe = make_pipeline(MinMaxScaler(), DecisionTreeRegressor())\n",
    "pipe.fit(X_train, y_train.values.ravel())\n",
    "y_pred = pipe.predict(X_test)\n",
    "score(y_test, y_pred)"
   ]
  },
  {
   "cell_type": "code",
   "execution_count": 62,
   "metadata": {},
   "outputs": [
    {
     "data": {
      "text/plain": [
       "{'MAE': 88710.5237964038,\n",
       " 'MSE': 14296088330.654194,\n",
       " 'RMSE': 119566.2508011947,\n",
       " 'R2': -0.05654653615185512}"
      ]
     },
     "execution_count": 62,
     "metadata": {},
     "output_type": "execute_result"
    }
   ],
   "source": [
    "pipe = make_pipeline(StandardScaler(), SVR())\n",
    "pipe.fit(X_train, y_train.values.ravel())\n",
    "y_pred = pipe.predict(X_test)\n",
    "score(y_test, y_pred)"
   ]
  },
  {
   "cell_type": "code",
   "execution_count": 49,
   "metadata": {},
   "outputs": [
    {
     "data": {
      "text/plain": [
       "{'MAE': 88830.50951685417,\n",
       " 'MSE': 14325046693.206938,\n",
       " 'RMSE': 119687.28709936966,\n",
       " 'R2': -0.05868669204205945}"
      ]
     },
     "execution_count": 49,
     "metadata": {},
     "output_type": "execute_result"
    }
   ],
   "source": [
    "pipe = make_pipeline(MinMaxScaler(), SVR())\n",
    "pipe.fit(X_train, y_train.values.ravel())\n",
    "y_pred = pipe.predict(X_test)\n",
    "score(y_test, y_pred)"
   ]
  },
  {
   "cell_type": "code",
   "execution_count": 50,
   "metadata": {},
   "outputs": [
    {
     "data": {
      "text/plain": [
       "{'MAE': 43958.680132352936,\n",
       " 'MSE': 4026836797.7082043,\n",
       " 'RMSE': 63457.36204498422,\n",
       " 'R2': 0.7023982804341877}"
      ]
     },
     "execution_count": 50,
     "metadata": {},
     "output_type": "execute_result"
    }
   ],
   "source": [
    "pipe = make_pipeline(StandardScaler(), RandomForestRegressor())\n",
    "pipe.fit(X_train, y_train.values.ravel())\n",
    "y_pred = pipe.predict(X_test)\n",
    "score(y_test, y_pred)"
   ]
  },
  {
   "cell_type": "code",
   "execution_count": 51,
   "metadata": {},
   "outputs": [
    {
     "data": {
      "text/plain": [
       "{'MAE': 43899.440076470586,\n",
       " 'MSE': 4022969338.2174673,\n",
       " 'RMSE': 63426.88182637916,\n",
       " 'R2': 0.7026841034393438}"
      ]
     },
     "execution_count": 51,
     "metadata": {},
     "output_type": "execute_result"
    }
   ],
   "source": [
    "pipe = make_pipeline(MinMaxScaler(), RandomForestRegressor())\n",
    "pipe.fit(X_train, y_train.values.ravel())\n",
    "y_pred = pipe.predict(X_test)\n",
    "score(y_test, y_pred)"
   ]
  },
  {
   "cell_type": "code",
   "execution_count": 52,
   "metadata": {},
   "outputs": [
    {
     "data": {
      "text/plain": [
       "{'MAE': 43428.84296817555,\n",
       " 'MSE': 3865354116.1494765,\n",
       " 'RMSE': 62171.97211082721,\n",
       " 'R2': 0.7143325916879556}"
      ]
     },
     "execution_count": 52,
     "metadata": {},
     "output_type": "execute_result"
    }
   ],
   "source": [
    "pipe = make_pipeline(StandardScaler(), xgb.XGBRegressor())\n",
    "pipe.fit(X_train, y_train.values.ravel())\n",
    "y_pred = pipe.predict(X_test)\n",
    "score(y_test, y_pred)"
   ]
  },
  {
   "cell_type": "code",
   "execution_count": 53,
   "metadata": {},
   "outputs": [
    {
     "data": {
      "text/plain": [
       "{'MAE': 43410.86452837776,\n",
       " 'MSE': 3863636753.7060776,\n",
       " 'RMSE': 62158.159188525504,\n",
       " 'R2': 0.7144595126539516}"
      ]
     },
     "execution_count": 53,
     "metadata": {},
     "output_type": "execute_result"
    }
   ],
   "source": [
    "pipe = make_pipeline(MinMaxScaler(), xgb.XGBRegressor())\n",
    "pipe.fit(X_train, y_train.values.ravel())\n",
    "y_pred = pipe.predict(X_test)\n",
    "score(y_test, y_pred)"
   ]
  },
  {
   "cell_type": "code",
   "execution_count": 54,
   "metadata": {},
   "outputs": [
    {
     "name": "stdout",
     "output_type": "stream",
     "text": [
      "Learning rate set to 0.061841\n",
      "0:\tlearn: 112486.9390269\ttotal: 168ms\tremaining: 2m 48s\n",
      "1:\tlearn: 109259.4034872\ttotal: 181ms\tremaining: 1m 30s\n",
      "2:\tlearn: 106368.7431433\ttotal: 193ms\tremaining: 1m 4s\n",
      "3:\tlearn: 103781.0134106\ttotal: 210ms\tremaining: 52.3s\n",
      "4:\tlearn: 101253.1466846\ttotal: 223ms\tremaining: 44.3s\n",
      "5:\tlearn: 98989.8164136\ttotal: 235ms\tremaining: 38.9s\n",
      "6:\tlearn: 96806.0683709\ttotal: 246ms\tremaining: 34.8s\n",
      "7:\tlearn: 94960.6127813\ttotal: 257ms\tremaining: 31.9s\n",
      "8:\tlearn: 93243.7528036\ttotal: 269ms\tremaining: 29.6s\n",
      "9:\tlearn: 91385.8533854\ttotal: 280ms\tremaining: 27.7s\n",
      "10:\tlearn: 89930.1334137\ttotal: 291ms\tremaining: 26.2s\n",
      "11:\tlearn: 88535.6877154\ttotal: 303ms\tremaining: 24.9s\n",
      "12:\tlearn: 87258.7461002\ttotal: 314ms\tremaining: 23.8s\n",
      "13:\tlearn: 86145.8768882\ttotal: 324ms\tremaining: 22.8s\n",
      "14:\tlearn: 85079.4673490\ttotal: 335ms\tremaining: 22s\n",
      "15:\tlearn: 83969.7446039\ttotal: 346ms\tremaining: 21.3s\n",
      "16:\tlearn: 83093.4452987\ttotal: 357ms\tremaining: 20.6s\n",
      "17:\tlearn: 82017.9753642\ttotal: 369ms\tremaining: 20.1s\n",
      "18:\tlearn: 81247.5301963\ttotal: 380ms\tremaining: 19.6s\n",
      "19:\tlearn: 80264.3178746\ttotal: 393ms\tremaining: 19.2s\n",
      "20:\tlearn: 79379.9049732\ttotal: 402ms\tremaining: 18.8s\n",
      "21:\tlearn: 78765.9989733\ttotal: 412ms\tremaining: 18.3s\n",
      "22:\tlearn: 78060.7709375\ttotal: 422ms\tremaining: 17.9s\n",
      "23:\tlearn: 77549.4050847\ttotal: 429ms\tremaining: 17.5s\n",
      "24:\tlearn: 77122.0485818\ttotal: 437ms\tremaining: 17s\n",
      "25:\tlearn: 76532.1010340\ttotal: 445ms\tremaining: 16.7s\n",
      "26:\tlearn: 76165.6285149\ttotal: 452ms\tremaining: 16.3s\n",
      "27:\tlearn: 75650.9313817\ttotal: 459ms\tremaining: 15.9s\n",
      "28:\tlearn: 75306.8515944\ttotal: 466ms\tremaining: 15.6s\n",
      "29:\tlearn: 74951.1544846\ttotal: 472ms\tremaining: 15.3s\n",
      "30:\tlearn: 74656.6907282\ttotal: 477ms\tremaining: 14.9s\n",
      "31:\tlearn: 74370.5655977\ttotal: 482ms\tremaining: 14.6s\n",
      "32:\tlearn: 74042.5640285\ttotal: 487ms\tremaining: 14.3s\n",
      "33:\tlearn: 73816.8426186\ttotal: 492ms\tremaining: 14s\n",
      "34:\tlearn: 73549.4909005\ttotal: 496ms\tremaining: 13.7s\n",
      "35:\tlearn: 73303.0474055\ttotal: 500ms\tremaining: 13.4s\n",
      "36:\tlearn: 73000.9505922\ttotal: 505ms\tremaining: 13.1s\n",
      "37:\tlearn: 72772.3749170\ttotal: 510ms\tremaining: 12.9s\n",
      "38:\tlearn: 72462.6281144\ttotal: 514ms\tremaining: 12.7s\n",
      "39:\tlearn: 72273.2874977\ttotal: 520ms\tremaining: 12.5s\n",
      "40:\tlearn: 72025.2933385\ttotal: 525ms\tremaining: 12.3s\n",
      "41:\tlearn: 71759.0181790\ttotal: 531ms\tremaining: 12.1s\n",
      "42:\tlearn: 71559.8541450\ttotal: 535ms\tremaining: 11.9s\n",
      "43:\tlearn: 71387.5518814\ttotal: 539ms\tremaining: 11.7s\n",
      "44:\tlearn: 71218.2763134\ttotal: 541ms\tremaining: 11.5s\n",
      "45:\tlearn: 71090.3163846\ttotal: 544ms\tremaining: 11.3s\n",
      "46:\tlearn: 70951.0032721\ttotal: 548ms\tremaining: 11.1s\n",
      "47:\tlearn: 70720.5343849\ttotal: 553ms\tremaining: 11s\n",
      "48:\tlearn: 70626.0988195\ttotal: 557ms\tremaining: 10.8s\n",
      "49:\tlearn: 70416.2828802\ttotal: 562ms\tremaining: 10.7s\n",
      "50:\tlearn: 70204.9230389\ttotal: 566ms\tremaining: 10.5s\n",
      "51:\tlearn: 70062.9937866\ttotal: 571ms\tremaining: 10.4s\n",
      "52:\tlearn: 69908.5039382\ttotal: 575ms\tremaining: 10.3s\n",
      "53:\tlearn: 69755.0841264\ttotal: 579ms\tremaining: 10.1s\n",
      "54:\tlearn: 69632.6932026\ttotal: 584ms\tremaining: 10s\n",
      "55:\tlearn: 69546.8449993\ttotal: 588ms\tremaining: 9.91s\n",
      "56:\tlearn: 69465.8245662\ttotal: 592ms\tremaining: 9.8s\n",
      "57:\tlearn: 69328.2639179\ttotal: 597ms\tremaining: 9.69s\n",
      "58:\tlearn: 69220.4451773\ttotal: 601ms\tremaining: 9.59s\n",
      "59:\tlearn: 69126.6199340\ttotal: 606ms\tremaining: 9.49s\n",
      "60:\tlearn: 69000.6886469\ttotal: 611ms\tremaining: 9.4s\n",
      "61:\tlearn: 68923.2878627\ttotal: 615ms\tremaining: 9.31s\n",
      "62:\tlearn: 68834.0624628\ttotal: 620ms\tremaining: 9.22s\n",
      "63:\tlearn: 68755.1258253\ttotal: 625ms\tremaining: 9.13s\n",
      "64:\tlearn: 68664.4656309\ttotal: 629ms\tremaining: 9.05s\n",
      "65:\tlearn: 68557.9599214\ttotal: 634ms\tremaining: 8.97s\n",
      "66:\tlearn: 68455.2523823\ttotal: 638ms\tremaining: 8.88s\n",
      "67:\tlearn: 68385.4535558\ttotal: 642ms\tremaining: 8.8s\n",
      "68:\tlearn: 68306.9382608\ttotal: 646ms\tremaining: 8.71s\n",
      "69:\tlearn: 68235.9398561\ttotal: 650ms\tremaining: 8.64s\n",
      "70:\tlearn: 68167.3481023\ttotal: 655ms\tremaining: 8.56s\n",
      "71:\tlearn: 68082.4955730\ttotal: 659ms\tremaining: 8.49s\n",
      "72:\tlearn: 68003.7873870\ttotal: 663ms\tremaining: 8.42s\n",
      "73:\tlearn: 67939.1233166\ttotal: 668ms\tremaining: 8.35s\n",
      "74:\tlearn: 67876.9846846\ttotal: 672ms\tremaining: 8.29s\n",
      "75:\tlearn: 67820.0290689\ttotal: 677ms\tremaining: 8.23s\n",
      "76:\tlearn: 67721.7309454\ttotal: 681ms\tremaining: 8.16s\n",
      "77:\tlearn: 67678.8786704\ttotal: 685ms\tremaining: 8.1s\n",
      "78:\tlearn: 67615.1313026\ttotal: 690ms\tremaining: 8.04s\n",
      "79:\tlearn: 67551.8374182\ttotal: 693ms\tremaining: 7.97s\n",
      "80:\tlearn: 67512.6334193\ttotal: 696ms\tremaining: 7.9s\n",
      "81:\tlearn: 67460.4257002\ttotal: 699ms\tremaining: 7.83s\n",
      "82:\tlearn: 67372.0852558\ttotal: 703ms\tremaining: 7.76s\n",
      "83:\tlearn: 67307.8098889\ttotal: 707ms\tremaining: 7.71s\n",
      "84:\tlearn: 67241.5788080\ttotal: 710ms\tremaining: 7.64s\n",
      "85:\tlearn: 67189.9236822\ttotal: 713ms\tremaining: 7.58s\n",
      "86:\tlearn: 67116.0867335\ttotal: 716ms\tremaining: 7.52s\n",
      "87:\tlearn: 67063.5380223\ttotal: 720ms\tremaining: 7.46s\n",
      "88:\tlearn: 66984.8024810\ttotal: 723ms\tremaining: 7.4s\n",
      "89:\tlearn: 66936.7607048\ttotal: 726ms\tremaining: 7.34s\n",
      "90:\tlearn: 66875.7164504\ttotal: 728ms\tremaining: 7.28s\n",
      "91:\tlearn: 66820.4289029\ttotal: 731ms\tremaining: 7.22s\n",
      "92:\tlearn: 66766.1598960\ttotal: 735ms\tremaining: 7.16s\n",
      "93:\tlearn: 66720.3403332\ttotal: 739ms\tremaining: 7.12s\n",
      "94:\tlearn: 66652.5803588\ttotal: 741ms\tremaining: 7.06s\n",
      "95:\tlearn: 66599.7467577\ttotal: 744ms\tremaining: 7.01s\n",
      "96:\tlearn: 66563.3482644\ttotal: 747ms\tremaining: 6.95s\n",
      "97:\tlearn: 66491.5847994\ttotal: 750ms\tremaining: 6.91s\n",
      "98:\tlearn: 66459.6722893\ttotal: 754ms\tremaining: 6.86s\n",
      "99:\tlearn: 66416.2450441\ttotal: 757ms\tremaining: 6.81s\n",
      "100:\tlearn: 66370.8092143\ttotal: 760ms\tremaining: 6.76s\n",
      "101:\tlearn: 66317.5015734\ttotal: 763ms\tremaining: 6.72s\n",
      "102:\tlearn: 66277.8310066\ttotal: 766ms\tremaining: 6.67s\n",
      "103:\tlearn: 66220.6395338\ttotal: 770ms\tremaining: 6.63s\n",
      "104:\tlearn: 66178.1689104\ttotal: 773ms\tremaining: 6.59s\n",
      "105:\tlearn: 66123.5651292\ttotal: 777ms\tremaining: 6.55s\n",
      "106:\tlearn: 66068.3131190\ttotal: 781ms\tremaining: 6.52s\n",
      "107:\tlearn: 65995.2642390\ttotal: 785ms\tremaining: 6.48s\n",
      "108:\tlearn: 65949.3321259\ttotal: 789ms\tremaining: 6.45s\n",
      "109:\tlearn: 65916.1972746\ttotal: 793ms\tremaining: 6.42s\n",
      "110:\tlearn: 65864.8856635\ttotal: 797ms\tremaining: 6.38s\n",
      "111:\tlearn: 65823.3174253\ttotal: 800ms\tremaining: 6.35s\n",
      "112:\tlearn: 65771.6425910\ttotal: 804ms\tremaining: 6.31s\n",
      "113:\tlearn: 65745.4393240\ttotal: 807ms\tremaining: 6.27s\n",
      "114:\tlearn: 65717.7415204\ttotal: 810ms\tremaining: 6.24s\n",
      "115:\tlearn: 65680.1214603\ttotal: 814ms\tremaining: 6.2s\n",
      "116:\tlearn: 65650.9447266\ttotal: 817ms\tremaining: 6.16s\n",
      "117:\tlearn: 65614.6181569\ttotal: 820ms\tremaining: 6.13s\n",
      "118:\tlearn: 65567.5118648\ttotal: 823ms\tremaining: 6.09s\n",
      "119:\tlearn: 65542.1450442\ttotal: 826ms\tremaining: 6.06s\n",
      "120:\tlearn: 65508.1337205\ttotal: 830ms\tremaining: 6.03s\n",
      "121:\tlearn: 65465.7793794\ttotal: 833ms\tremaining: 5.99s\n",
      "122:\tlearn: 65424.0749912\ttotal: 835ms\tremaining: 5.96s\n",
      "123:\tlearn: 65374.2182207\ttotal: 838ms\tremaining: 5.92s\n",
      "124:\tlearn: 65326.4616262\ttotal: 841ms\tremaining: 5.89s\n",
      "125:\tlearn: 65292.3777890\ttotal: 844ms\tremaining: 5.86s\n",
      "126:\tlearn: 65256.6659623\ttotal: 848ms\tremaining: 5.83s\n",
      "127:\tlearn: 65229.7672812\ttotal: 850ms\tremaining: 5.79s\n",
      "128:\tlearn: 65189.6869576\ttotal: 853ms\tremaining: 5.76s\n",
      "129:\tlearn: 65143.5225429\ttotal: 856ms\tremaining: 5.73s\n",
      "130:\tlearn: 65111.1306479\ttotal: 859ms\tremaining: 5.7s\n",
      "131:\tlearn: 65083.6727766\ttotal: 862ms\tremaining: 5.67s\n",
      "132:\tlearn: 65058.7613482\ttotal: 865ms\tremaining: 5.64s\n",
      "133:\tlearn: 65026.2864086\ttotal: 868ms\tremaining: 5.61s\n",
      "134:\tlearn: 64983.3938431\ttotal: 872ms\tremaining: 5.58s\n",
      "135:\tlearn: 64951.0531122\ttotal: 875ms\tremaining: 5.56s\n",
      "136:\tlearn: 64918.8256952\ttotal: 879ms\tremaining: 5.53s\n",
      "137:\tlearn: 64887.5734546\ttotal: 882ms\tremaining: 5.51s\n",
      "138:\tlearn: 64849.8005842\ttotal: 885ms\tremaining: 5.48s\n",
      "139:\tlearn: 64796.3216489\ttotal: 888ms\tremaining: 5.45s\n",
      "140:\tlearn: 64746.1592991\ttotal: 891ms\tremaining: 5.43s\n",
      "141:\tlearn: 64723.6826606\ttotal: 894ms\tremaining: 5.4s\n",
      "142:\tlearn: 64700.7159874\ttotal: 897ms\tremaining: 5.37s\n",
      "143:\tlearn: 64668.8442843\ttotal: 900ms\tremaining: 5.35s\n",
      "144:\tlearn: 64642.5891010\ttotal: 902ms\tremaining: 5.32s\n",
      "145:\tlearn: 64597.2728325\ttotal: 906ms\tremaining: 5.3s\n",
      "146:\tlearn: 64561.2206688\ttotal: 909ms\tremaining: 5.28s\n",
      "147:\tlearn: 64530.1973147\ttotal: 912ms\tremaining: 5.25s\n",
      "148:\tlearn: 64475.3777271\ttotal: 915ms\tremaining: 5.23s\n",
      "149:\tlearn: 64439.5046708\ttotal: 919ms\tremaining: 5.21s\n",
      "150:\tlearn: 64407.8276988\ttotal: 921ms\tremaining: 5.18s\n",
      "151:\tlearn: 64364.7024187\ttotal: 924ms\tremaining: 5.16s\n",
      "152:\tlearn: 64323.1370842\ttotal: 927ms\tremaining: 5.13s\n",
      "153:\tlearn: 64280.9688929\ttotal: 930ms\tremaining: 5.11s\n",
      "154:\tlearn: 64256.2142640\ttotal: 932ms\tremaining: 5.08s\n",
      "155:\tlearn: 64218.1834424\ttotal: 935ms\tremaining: 5.06s\n",
      "156:\tlearn: 64180.6632469\ttotal: 938ms\tremaining: 5.04s\n",
      "157:\tlearn: 64148.6042266\ttotal: 941ms\tremaining: 5.01s\n",
      "158:\tlearn: 64122.4756489\ttotal: 943ms\tremaining: 4.99s\n",
      "159:\tlearn: 64089.6169703\ttotal: 946ms\tremaining: 4.97s\n",
      "160:\tlearn: 64047.5718448\ttotal: 949ms\tremaining: 4.94s\n",
      "161:\tlearn: 64019.3508842\ttotal: 951ms\tremaining: 4.92s\n",
      "162:\tlearn: 63988.2483759\ttotal: 954ms\tremaining: 4.9s\n",
      "163:\tlearn: 63964.3205925\ttotal: 958ms\tremaining: 4.88s\n",
      "164:\tlearn: 63935.8184465\ttotal: 961ms\tremaining: 4.86s\n",
      "165:\tlearn: 63905.4123997\ttotal: 964ms\tremaining: 4.84s\n",
      "166:\tlearn: 63880.2588533\ttotal: 967ms\tremaining: 4.82s\n",
      "167:\tlearn: 63858.3672105\ttotal: 970ms\tremaining: 4.8s\n",
      "168:\tlearn: 63828.0959444\ttotal: 973ms\tremaining: 4.78s\n",
      "169:\tlearn: 63792.0401920\ttotal: 975ms\tremaining: 4.76s\n",
      "170:\tlearn: 63755.2547514\ttotal: 978ms\tremaining: 4.74s\n",
      "171:\tlearn: 63718.8463416\ttotal: 981ms\tremaining: 4.72s\n",
      "172:\tlearn: 63688.3869755\ttotal: 984ms\tremaining: 4.7s\n",
      "173:\tlearn: 63647.9477025\ttotal: 987ms\tremaining: 4.68s\n",
      "174:\tlearn: 63616.2117963\ttotal: 990ms\tremaining: 4.66s\n",
      "175:\tlearn: 63594.5088392\ttotal: 992ms\tremaining: 4.64s\n",
      "176:\tlearn: 63542.5774748\ttotal: 995ms\tremaining: 4.63s\n",
      "177:\tlearn: 63504.9349460\ttotal: 998ms\tremaining: 4.61s\n",
      "178:\tlearn: 63452.9498499\ttotal: 1s\tremaining: 4.59s\n",
      "179:\tlearn: 63426.9303078\ttotal: 1s\tremaining: 4.57s\n",
      "180:\tlearn: 63401.8744120\ttotal: 1.01s\tremaining: 4.55s\n",
      "181:\tlearn: 63364.2761381\ttotal: 1.01s\tremaining: 4.54s\n",
      "182:\tlearn: 63331.4450102\ttotal: 1.01s\tremaining: 4.52s\n",
      "183:\tlearn: 63296.5356124\ttotal: 1.01s\tremaining: 4.5s\n",
      "184:\tlearn: 63266.6858478\ttotal: 1.02s\tremaining: 4.49s\n",
      "185:\tlearn: 63234.4479180\ttotal: 1.02s\tremaining: 4.47s\n",
      "186:\tlearn: 63208.5098572\ttotal: 1.02s\tremaining: 4.45s\n",
      "187:\tlearn: 63167.9715407\ttotal: 1.03s\tremaining: 4.44s\n"
     ]
    },
    {
     "name": "stdout",
     "output_type": "stream",
     "text": [
      "188:\tlearn: 63137.6149402\ttotal: 1.03s\tremaining: 4.42s\n",
      "189:\tlearn: 63094.7292683\ttotal: 1.03s\tremaining: 4.41s\n",
      "190:\tlearn: 63056.3434686\ttotal: 1.04s\tremaining: 4.39s\n",
      "191:\tlearn: 63027.8783990\ttotal: 1.04s\tremaining: 4.37s\n",
      "192:\tlearn: 62994.4890453\ttotal: 1.04s\tremaining: 4.36s\n",
      "193:\tlearn: 62972.6487192\ttotal: 1.04s\tremaining: 4.34s\n",
      "194:\tlearn: 62931.0496077\ttotal: 1.05s\tremaining: 4.32s\n",
      "195:\tlearn: 62907.2885171\ttotal: 1.05s\tremaining: 4.31s\n",
      "196:\tlearn: 62873.5881015\ttotal: 1.05s\tremaining: 4.29s\n",
      "197:\tlearn: 62839.7364061\ttotal: 1.06s\tremaining: 4.28s\n",
      "198:\tlearn: 62802.1008340\ttotal: 1.06s\tremaining: 4.26s\n",
      "199:\tlearn: 62762.6215919\ttotal: 1.06s\tremaining: 4.25s\n",
      "200:\tlearn: 62716.1953745\ttotal: 1.06s\tremaining: 4.23s\n",
      "201:\tlearn: 62685.6469645\ttotal: 1.07s\tremaining: 4.22s\n",
      "202:\tlearn: 62656.9581479\ttotal: 1.07s\tremaining: 4.2s\n",
      "203:\tlearn: 62627.3683801\ttotal: 1.07s\tremaining: 4.19s\n",
      "204:\tlearn: 62609.3028069\ttotal: 1.08s\tremaining: 4.18s\n",
      "205:\tlearn: 62580.4678614\ttotal: 1.08s\tremaining: 4.16s\n",
      "206:\tlearn: 62545.5273706\ttotal: 1.08s\tremaining: 4.15s\n",
      "207:\tlearn: 62507.8248856\ttotal: 1.08s\tremaining: 4.13s\n",
      "208:\tlearn: 62472.9980443\ttotal: 1.09s\tremaining: 4.12s\n",
      "209:\tlearn: 62435.5071772\ttotal: 1.09s\tremaining: 4.11s\n",
      "210:\tlearn: 62403.0325899\ttotal: 1.09s\tremaining: 4.09s\n",
      "211:\tlearn: 62385.2726879\ttotal: 1.1s\tremaining: 4.08s\n",
      "212:\tlearn: 62351.9377015\ttotal: 1.1s\tremaining: 4.06s\n",
      "213:\tlearn: 62319.0978031\ttotal: 1.1s\tremaining: 4.05s\n",
      "214:\tlearn: 62293.2695132\ttotal: 1.11s\tremaining: 4.04s\n",
      "215:\tlearn: 62262.7882829\ttotal: 1.11s\tremaining: 4.03s\n",
      "216:\tlearn: 62241.6769210\ttotal: 1.11s\tremaining: 4.01s\n",
      "217:\tlearn: 62212.7312502\ttotal: 1.11s\tremaining: 4s\n",
      "218:\tlearn: 62159.9420327\ttotal: 1.12s\tremaining: 3.99s\n",
      "219:\tlearn: 62127.7943700\ttotal: 1.12s\tremaining: 3.97s\n",
      "220:\tlearn: 62108.2085936\ttotal: 1.12s\tremaining: 3.96s\n",
      "221:\tlearn: 62081.2640960\ttotal: 1.13s\tremaining: 3.95s\n",
      "222:\tlearn: 62065.5146761\ttotal: 1.13s\tremaining: 3.94s\n",
      "223:\tlearn: 62030.5704562\ttotal: 1.13s\tremaining: 3.92s\n",
      "224:\tlearn: 62005.9463344\ttotal: 1.14s\tremaining: 3.91s\n",
      "225:\tlearn: 61976.0100643\ttotal: 1.14s\tremaining: 3.9s\n",
      "226:\tlearn: 61950.6249648\ttotal: 1.14s\tremaining: 3.89s\n",
      "227:\tlearn: 61924.5940556\ttotal: 1.14s\tremaining: 3.87s\n",
      "228:\tlearn: 61896.4347322\ttotal: 1.15s\tremaining: 3.86s\n",
      "229:\tlearn: 61865.5775848\ttotal: 1.15s\tremaining: 3.85s\n",
      "230:\tlearn: 61844.4235856\ttotal: 1.15s\tremaining: 3.84s\n",
      "231:\tlearn: 61821.3215527\ttotal: 1.16s\tremaining: 3.83s\n",
      "232:\tlearn: 61791.2430030\ttotal: 1.16s\tremaining: 3.81s\n",
      "233:\tlearn: 61759.6166085\ttotal: 1.16s\tremaining: 3.8s\n",
      "234:\tlearn: 61733.8247769\ttotal: 1.16s\tremaining: 3.79s\n",
      "235:\tlearn: 61720.4330330\ttotal: 1.17s\tremaining: 3.78s\n",
      "236:\tlearn: 61695.3436395\ttotal: 1.17s\tremaining: 3.77s\n",
      "237:\tlearn: 61666.2477041\ttotal: 1.17s\tremaining: 3.75s\n",
      "238:\tlearn: 61632.5569424\ttotal: 1.18s\tremaining: 3.74s\n",
      "239:\tlearn: 61608.1605328\ttotal: 1.18s\tremaining: 3.73s\n",
      "240:\tlearn: 61572.9136912\ttotal: 1.18s\tremaining: 3.72s\n",
      "241:\tlearn: 61543.4951127\ttotal: 1.18s\tremaining: 3.71s\n",
      "242:\tlearn: 61520.4128276\ttotal: 1.19s\tremaining: 3.7s\n",
      "243:\tlearn: 61502.2203268\ttotal: 1.19s\tremaining: 3.69s\n",
      "244:\tlearn: 61476.3866700\ttotal: 1.19s\tremaining: 3.67s\n",
      "245:\tlearn: 61459.6923291\ttotal: 1.2s\tremaining: 3.67s\n",
      "246:\tlearn: 61430.6389119\ttotal: 1.2s\tremaining: 3.65s\n",
      "247:\tlearn: 61408.6292462\ttotal: 1.2s\tremaining: 3.64s\n",
      "248:\tlearn: 61380.0328841\ttotal: 1.2s\tremaining: 3.63s\n",
      "249:\tlearn: 61345.7749430\ttotal: 1.21s\tremaining: 3.62s\n",
      "250:\tlearn: 61317.5532504\ttotal: 1.21s\tremaining: 3.61s\n",
      "251:\tlearn: 61290.1514483\ttotal: 1.21s\tremaining: 3.6s\n",
      "252:\tlearn: 61260.9314323\ttotal: 1.22s\tremaining: 3.59s\n",
      "253:\tlearn: 61235.1531921\ttotal: 1.22s\tremaining: 3.58s\n",
      "254:\tlearn: 61214.3770146\ttotal: 1.22s\tremaining: 3.57s\n",
      "255:\tlearn: 61194.5314714\ttotal: 1.22s\tremaining: 3.56s\n",
      "256:\tlearn: 61169.9513084\ttotal: 1.23s\tremaining: 3.55s\n",
      "257:\tlearn: 61120.5316426\ttotal: 1.23s\tremaining: 3.54s\n",
      "258:\tlearn: 61097.8413968\ttotal: 1.23s\tremaining: 3.53s\n",
      "259:\tlearn: 61070.5653985\ttotal: 1.24s\tremaining: 3.52s\n",
      "260:\tlearn: 61037.2772109\ttotal: 1.24s\tremaining: 3.51s\n",
      "261:\tlearn: 61017.3888137\ttotal: 1.24s\tremaining: 3.5s\n",
      "262:\tlearn: 60990.4709373\ttotal: 1.24s\tremaining: 3.49s\n",
      "263:\tlearn: 60970.6867904\ttotal: 1.25s\tremaining: 3.48s\n",
      "264:\tlearn: 60951.5356137\ttotal: 1.25s\tremaining: 3.47s\n",
      "265:\tlearn: 60929.0541653\ttotal: 1.25s\tremaining: 3.46s\n",
      "266:\tlearn: 60910.1742728\ttotal: 1.26s\tremaining: 3.45s\n",
      "267:\tlearn: 60891.8462076\ttotal: 1.26s\tremaining: 3.44s\n",
      "268:\tlearn: 60873.7133000\ttotal: 1.26s\tremaining: 3.43s\n",
      "269:\tlearn: 60850.7799313\ttotal: 1.26s\tremaining: 3.42s\n",
      "270:\tlearn: 60837.4754696\ttotal: 1.27s\tremaining: 3.41s\n",
      "271:\tlearn: 60819.4164687\ttotal: 1.27s\tremaining: 3.4s\n",
      "272:\tlearn: 60799.9055387\ttotal: 1.27s\tremaining: 3.39s\n",
      "273:\tlearn: 60779.2652060\ttotal: 1.27s\tremaining: 3.38s\n",
      "274:\tlearn: 60743.4172052\ttotal: 1.28s\tremaining: 3.37s\n",
      "275:\tlearn: 60722.1821749\ttotal: 1.28s\tremaining: 3.36s\n",
      "276:\tlearn: 60705.1824809\ttotal: 1.28s\tremaining: 3.35s\n",
      "277:\tlearn: 60682.5451489\ttotal: 1.29s\tremaining: 3.34s\n",
      "278:\tlearn: 60650.1297746\ttotal: 1.29s\tremaining: 3.33s\n",
      "279:\tlearn: 60623.0739007\ttotal: 1.29s\tremaining: 3.32s\n",
      "280:\tlearn: 60596.0036726\ttotal: 1.29s\tremaining: 3.31s\n",
      "281:\tlearn: 60572.4672847\ttotal: 1.3s\tremaining: 3.31s\n",
      "282:\tlearn: 60546.6179778\ttotal: 1.3s\tremaining: 3.3s\n",
      "283:\tlearn: 60516.9634246\ttotal: 1.3s\tremaining: 3.29s\n",
      "284:\tlearn: 60497.3132167\ttotal: 1.31s\tremaining: 3.28s\n",
      "285:\tlearn: 60475.2759660\ttotal: 1.31s\tremaining: 3.27s\n",
      "286:\tlearn: 60447.4747675\ttotal: 1.31s\tremaining: 3.26s\n",
      "287:\tlearn: 60413.8180365\ttotal: 1.32s\tremaining: 3.25s\n",
      "288:\tlearn: 60390.4303096\ttotal: 1.32s\tremaining: 3.24s\n",
      "289:\tlearn: 60368.1083903\ttotal: 1.32s\tremaining: 3.23s\n",
      "290:\tlearn: 60350.0178545\ttotal: 1.32s\tremaining: 3.23s\n",
      "291:\tlearn: 60324.5457312\ttotal: 1.33s\tremaining: 3.22s\n",
      "292:\tlearn: 60308.1747560\ttotal: 1.33s\tremaining: 3.21s\n",
      "293:\tlearn: 60287.6646775\ttotal: 1.33s\tremaining: 3.2s\n",
      "294:\tlearn: 60270.3044856\ttotal: 1.33s\tremaining: 3.19s\n",
      "295:\tlearn: 60228.8494575\ttotal: 1.34s\tremaining: 3.18s\n",
      "296:\tlearn: 60202.7115472\ttotal: 1.34s\tremaining: 3.17s\n",
      "297:\tlearn: 60180.3884063\ttotal: 1.34s\tremaining: 3.17s\n",
      "298:\tlearn: 60157.2924931\ttotal: 1.35s\tremaining: 3.16s\n",
      "299:\tlearn: 60140.9130746\ttotal: 1.35s\tremaining: 3.15s\n",
      "300:\tlearn: 60119.4548993\ttotal: 1.35s\tremaining: 3.14s\n",
      "301:\tlearn: 60088.5152177\ttotal: 1.35s\tremaining: 3.13s\n",
      "302:\tlearn: 60064.0107370\ttotal: 1.36s\tremaining: 3.12s\n",
      "303:\tlearn: 60041.5192969\ttotal: 1.36s\tremaining: 3.12s\n",
      "304:\tlearn: 60017.2775217\ttotal: 1.36s\tremaining: 3.11s\n",
      "305:\tlearn: 59998.7192882\ttotal: 1.37s\tremaining: 3.1s\n",
      "306:\tlearn: 59977.4718732\ttotal: 1.37s\tremaining: 3.09s\n",
      "307:\tlearn: 59957.0495313\ttotal: 1.37s\tremaining: 3.08s\n",
      "308:\tlearn: 59925.1415108\ttotal: 1.38s\tremaining: 3.08s\n",
      "309:\tlearn: 59908.3384966\ttotal: 1.38s\tremaining: 3.07s\n",
      "310:\tlearn: 59890.2886999\ttotal: 1.38s\tremaining: 3.06s\n",
      "311:\tlearn: 59871.0832683\ttotal: 1.39s\tremaining: 3.05s\n",
      "312:\tlearn: 59840.2057308\ttotal: 1.39s\tremaining: 3.05s\n",
      "313:\tlearn: 59822.9982167\ttotal: 1.39s\tremaining: 3.04s\n",
      "314:\tlearn: 59810.7232618\ttotal: 1.39s\tremaining: 3.03s\n",
      "315:\tlearn: 59783.7369472\ttotal: 1.4s\tremaining: 3.02s\n",
      "316:\tlearn: 59761.3560997\ttotal: 1.4s\tremaining: 3.02s\n",
      "317:\tlearn: 59729.5856470\ttotal: 1.4s\tremaining: 3.01s\n",
      "318:\tlearn: 59700.1357894\ttotal: 1.41s\tremaining: 3s\n",
      "319:\tlearn: 59681.3971203\ttotal: 1.41s\tremaining: 2.99s\n",
      "320:\tlearn: 59665.0524160\ttotal: 1.41s\tremaining: 2.99s\n",
      "321:\tlearn: 59643.5378817\ttotal: 1.41s\tremaining: 2.98s\n",
      "322:\tlearn: 59625.6441234\ttotal: 1.42s\tremaining: 2.97s\n",
      "323:\tlearn: 59606.3068133\ttotal: 1.42s\tremaining: 2.96s\n",
      "324:\tlearn: 59590.3292185\ttotal: 1.42s\tremaining: 2.96s\n",
      "325:\tlearn: 59571.6096838\ttotal: 1.43s\tremaining: 2.95s\n",
      "326:\tlearn: 59549.9474876\ttotal: 1.43s\tremaining: 2.94s\n",
      "327:\tlearn: 59535.5265635\ttotal: 1.43s\tremaining: 2.94s\n",
      "328:\tlearn: 59516.4928097\ttotal: 1.44s\tremaining: 2.93s\n",
      "329:\tlearn: 59499.1838470\ttotal: 1.44s\tremaining: 2.92s\n",
      "330:\tlearn: 59484.4023200\ttotal: 1.44s\tremaining: 2.91s\n",
      "331:\tlearn: 59464.2755073\ttotal: 1.44s\tremaining: 2.91s\n",
      "332:\tlearn: 59446.5161482\ttotal: 1.45s\tremaining: 2.9s\n",
      "333:\tlearn: 59426.1647605\ttotal: 1.45s\tremaining: 2.89s\n",
      "334:\tlearn: 59395.9259740\ttotal: 1.45s\tremaining: 2.88s\n",
      "335:\tlearn: 59368.5795283\ttotal: 1.46s\tremaining: 2.88s\n",
      "336:\tlearn: 59351.5569396\ttotal: 1.46s\tremaining: 2.87s\n",
      "337:\tlearn: 59336.2352950\ttotal: 1.46s\tremaining: 2.86s\n",
      "338:\tlearn: 59317.7027743\ttotal: 1.47s\tremaining: 2.86s\n",
      "339:\tlearn: 59295.1335302\ttotal: 1.47s\tremaining: 2.85s\n",
      "340:\tlearn: 59281.9052158\ttotal: 1.47s\tremaining: 2.84s\n",
      "341:\tlearn: 59265.3708891\ttotal: 1.47s\tremaining: 2.84s\n",
      "342:\tlearn: 59253.1990385\ttotal: 1.48s\tremaining: 2.83s\n",
      "343:\tlearn: 59230.5419759\ttotal: 1.48s\tremaining: 2.82s\n",
      "344:\tlearn: 59211.6117937\ttotal: 1.48s\tremaining: 2.81s\n",
      "345:\tlearn: 59180.2269940\ttotal: 1.49s\tremaining: 2.81s\n",
      "346:\tlearn: 59155.5426686\ttotal: 1.49s\tremaining: 2.8s\n",
      "347:\tlearn: 59140.0449865\ttotal: 1.49s\tremaining: 2.79s\n",
      "348:\tlearn: 59114.8419697\ttotal: 1.49s\tremaining: 2.79s\n",
      "349:\tlearn: 59085.0723618\ttotal: 1.5s\tremaining: 2.78s\n",
      "350:\tlearn: 59067.2579226\ttotal: 1.5s\tremaining: 2.77s\n",
      "351:\tlearn: 59045.4761926\ttotal: 1.5s\tremaining: 2.77s\n",
      "352:\tlearn: 59019.4857829\ttotal: 1.51s\tremaining: 2.76s\n",
      "353:\tlearn: 59004.8880497\ttotal: 1.51s\tremaining: 2.75s\n",
      "354:\tlearn: 58979.7554564\ttotal: 1.51s\tremaining: 2.75s\n",
      "355:\tlearn: 58956.6350304\ttotal: 1.51s\tremaining: 2.74s\n",
      "356:\tlearn: 58929.7874001\ttotal: 1.52s\tremaining: 2.73s\n",
      "357:\tlearn: 58911.9819147\ttotal: 1.52s\tremaining: 2.73s\n",
      "358:\tlearn: 58895.3678505\ttotal: 1.52s\tremaining: 2.72s\n",
      "359:\tlearn: 58880.0493617\ttotal: 1.52s\tremaining: 2.71s\n",
      "360:\tlearn: 58855.4621600\ttotal: 1.53s\tremaining: 2.7s\n",
      "361:\tlearn: 58840.6718937\ttotal: 1.53s\tremaining: 2.7s\n",
      "362:\tlearn: 58827.5503387\ttotal: 1.53s\tremaining: 2.69s\n",
      "363:\tlearn: 58809.7311116\ttotal: 1.53s\tremaining: 2.68s\n",
      "364:\tlearn: 58791.5679403\ttotal: 1.54s\tremaining: 2.68s\n",
      "365:\tlearn: 58768.4173642\ttotal: 1.54s\tremaining: 2.67s\n",
      "366:\tlearn: 58747.6373575\ttotal: 1.54s\tremaining: 2.66s\n",
      "367:\tlearn: 58735.0345478\ttotal: 1.55s\tremaining: 2.66s\n",
      "368:\tlearn: 58718.7633524\ttotal: 1.55s\tremaining: 2.65s\n",
      "369:\tlearn: 58684.1437945\ttotal: 1.55s\tremaining: 2.64s\n",
      "370:\tlearn: 58662.6646740\ttotal: 1.55s\tremaining: 2.64s\n",
      "371:\tlearn: 58644.5798722\ttotal: 1.56s\tremaining: 2.63s\n",
      "372:\tlearn: 58629.7554361\ttotal: 1.56s\tremaining: 2.62s\n",
      "373:\tlearn: 58600.4669553\ttotal: 1.56s\tremaining: 2.62s\n",
      "374:\tlearn: 58585.8693813\ttotal: 1.57s\tremaining: 2.61s\n",
      "375:\tlearn: 58571.7420940\ttotal: 1.57s\tremaining: 2.6s\n",
      "376:\tlearn: 58552.3485527\ttotal: 1.57s\tremaining: 2.6s\n",
      "377:\tlearn: 58529.0289186\ttotal: 1.57s\tremaining: 2.59s\n",
      "378:\tlearn: 58512.9673790\ttotal: 1.58s\tremaining: 2.59s\n",
      "379:\tlearn: 58495.4470469\ttotal: 1.58s\tremaining: 2.58s\n",
      "380:\tlearn: 58482.1829613\ttotal: 1.58s\tremaining: 2.57s\n",
      "381:\tlearn: 58467.0353777\ttotal: 1.59s\tremaining: 2.57s\n",
      "382:\tlearn: 58456.7846062\ttotal: 1.59s\tremaining: 2.56s\n",
      "383:\tlearn: 58432.7122254\ttotal: 1.59s\tremaining: 2.55s\n",
      "384:\tlearn: 58417.6178425\ttotal: 1.59s\tremaining: 2.55s\n",
      "385:\tlearn: 58404.0084962\ttotal: 1.6s\tremaining: 2.54s\n",
      "386:\tlearn: 58391.1851346\ttotal: 1.6s\tremaining: 2.54s\n",
      "387:\tlearn: 58363.9388778\ttotal: 1.6s\tremaining: 2.53s\n",
      "388:\tlearn: 58345.4825417\ttotal: 1.61s\tremaining: 2.52s\n",
      "389:\tlearn: 58329.8361972\ttotal: 1.61s\tremaining: 2.52s\n",
      "390:\tlearn: 58304.3848221\ttotal: 1.61s\tremaining: 2.51s\n",
      "391:\tlearn: 58289.6851317\ttotal: 1.61s\tremaining: 2.5s\n",
      "392:\tlearn: 58277.4928132\ttotal: 1.62s\tremaining: 2.5s\n",
      "393:\tlearn: 58255.5173160\ttotal: 1.62s\tremaining: 2.49s\n"
     ]
    },
    {
     "name": "stdout",
     "output_type": "stream",
     "text": [
      "394:\tlearn: 58229.4230194\ttotal: 1.62s\tremaining: 2.49s\n",
      "395:\tlearn: 58215.3612742\ttotal: 1.63s\tremaining: 2.48s\n",
      "396:\tlearn: 58203.7349751\ttotal: 1.63s\tremaining: 2.48s\n",
      "397:\tlearn: 58186.5864219\ttotal: 1.63s\tremaining: 2.47s\n",
      "398:\tlearn: 58170.9366700\ttotal: 1.64s\tremaining: 2.46s\n",
      "399:\tlearn: 58150.7525985\ttotal: 1.64s\tremaining: 2.46s\n",
      "400:\tlearn: 58132.7706140\ttotal: 1.64s\tremaining: 2.45s\n",
      "401:\tlearn: 58116.7580930\ttotal: 1.64s\tremaining: 2.45s\n",
      "402:\tlearn: 58096.6090638\ttotal: 1.65s\tremaining: 2.44s\n",
      "403:\tlearn: 58066.2412877\ttotal: 1.65s\tremaining: 2.43s\n",
      "404:\tlearn: 58045.5763008\ttotal: 1.65s\tremaining: 2.43s\n",
      "405:\tlearn: 58026.1701896\ttotal: 1.66s\tremaining: 2.42s\n",
      "406:\tlearn: 58003.6771905\ttotal: 1.66s\tremaining: 2.42s\n",
      "407:\tlearn: 57990.5329805\ttotal: 1.66s\tremaining: 2.41s\n",
      "408:\tlearn: 57978.5624696\ttotal: 1.67s\tremaining: 2.41s\n",
      "409:\tlearn: 57967.0558054\ttotal: 1.67s\tremaining: 2.4s\n",
      "410:\tlearn: 57957.3218639\ttotal: 1.67s\tremaining: 2.39s\n",
      "411:\tlearn: 57939.3671976\ttotal: 1.67s\tremaining: 2.39s\n",
      "412:\tlearn: 57928.9661513\ttotal: 1.68s\tremaining: 2.38s\n",
      "413:\tlearn: 57916.4857305\ttotal: 1.68s\tremaining: 2.38s\n",
      "414:\tlearn: 57904.9484108\ttotal: 1.68s\tremaining: 2.37s\n",
      "415:\tlearn: 57887.9370287\ttotal: 1.69s\tremaining: 2.37s\n",
      "416:\tlearn: 57867.8405046\ttotal: 1.69s\tremaining: 2.36s\n",
      "417:\tlearn: 57851.5174454\ttotal: 1.69s\tremaining: 2.35s\n",
      "418:\tlearn: 57843.1189947\ttotal: 1.69s\tremaining: 2.35s\n",
      "419:\tlearn: 57826.3421250\ttotal: 1.7s\tremaining: 2.34s\n",
      "420:\tlearn: 57809.1689431\ttotal: 1.7s\tremaining: 2.34s\n",
      "421:\tlearn: 57797.3536781\ttotal: 1.7s\tremaining: 2.33s\n",
      "422:\tlearn: 57778.4415848\ttotal: 1.71s\tremaining: 2.33s\n",
      "423:\tlearn: 57760.3321132\ttotal: 1.71s\tremaining: 2.32s\n",
      "424:\tlearn: 57744.8018644\ttotal: 1.71s\tremaining: 2.31s\n",
      "425:\tlearn: 57730.5871262\ttotal: 1.71s\tremaining: 2.31s\n",
      "426:\tlearn: 57713.3083699\ttotal: 1.72s\tremaining: 2.3s\n",
      "427:\tlearn: 57702.1933172\ttotal: 1.72s\tremaining: 2.3s\n",
      "428:\tlearn: 57681.3966976\ttotal: 1.72s\tremaining: 2.29s\n",
      "429:\tlearn: 57656.1528465\ttotal: 1.72s\tremaining: 2.29s\n",
      "430:\tlearn: 57637.5366759\ttotal: 1.73s\tremaining: 2.28s\n",
      "431:\tlearn: 57624.4966363\ttotal: 1.73s\tremaining: 2.27s\n",
      "432:\tlearn: 57609.3741975\ttotal: 1.73s\tremaining: 2.27s\n",
      "433:\tlearn: 57598.7367942\ttotal: 1.74s\tremaining: 2.26s\n",
      "434:\tlearn: 57569.2280087\ttotal: 1.74s\tremaining: 2.26s\n",
      "435:\tlearn: 57555.0920126\ttotal: 1.74s\tremaining: 2.25s\n",
      "436:\tlearn: 57545.6325897\ttotal: 1.74s\tremaining: 2.25s\n",
      "437:\tlearn: 57530.3349639\ttotal: 1.75s\tremaining: 2.24s\n",
      "438:\tlearn: 57515.5804422\ttotal: 1.75s\tremaining: 2.24s\n",
      "439:\tlearn: 57496.9354979\ttotal: 1.75s\tremaining: 2.23s\n",
      "440:\tlearn: 57474.5836868\ttotal: 1.75s\tremaining: 2.23s\n",
      "441:\tlearn: 57464.0840388\ttotal: 1.76s\tremaining: 2.22s\n",
      "442:\tlearn: 57444.0113296\ttotal: 1.76s\tremaining: 2.21s\n",
      "443:\tlearn: 57432.6382023\ttotal: 1.76s\tremaining: 2.21s\n",
      "444:\tlearn: 57413.6368829\ttotal: 1.77s\tremaining: 2.2s\n",
      "445:\tlearn: 57389.4585926\ttotal: 1.77s\tremaining: 2.2s\n",
      "446:\tlearn: 57370.1639251\ttotal: 1.77s\tremaining: 2.19s\n",
      "447:\tlearn: 57351.2834893\ttotal: 1.78s\tremaining: 2.19s\n",
      "448:\tlearn: 57341.4437579\ttotal: 1.78s\tremaining: 2.18s\n",
      "449:\tlearn: 57325.5085277\ttotal: 1.78s\tremaining: 2.18s\n",
      "450:\tlearn: 57309.3882946\ttotal: 1.78s\tremaining: 2.17s\n",
      "451:\tlearn: 57288.6522240\ttotal: 1.79s\tremaining: 2.17s\n",
      "452:\tlearn: 57277.6505223\ttotal: 1.79s\tremaining: 2.16s\n",
      "453:\tlearn: 57258.5667635\ttotal: 1.79s\tremaining: 2.16s\n",
      "454:\tlearn: 57247.1444729\ttotal: 1.8s\tremaining: 2.15s\n",
      "455:\tlearn: 57238.5874447\ttotal: 1.8s\tremaining: 2.15s\n",
      "456:\tlearn: 57229.5672887\ttotal: 1.8s\tremaining: 2.14s\n",
      "457:\tlearn: 57217.0212157\ttotal: 1.8s\tremaining: 2.14s\n",
      "458:\tlearn: 57202.3586018\ttotal: 1.81s\tremaining: 2.13s\n",
      "459:\tlearn: 57186.2673217\ttotal: 1.81s\tremaining: 2.13s\n",
      "460:\tlearn: 57175.4133168\ttotal: 1.81s\tremaining: 2.12s\n",
      "461:\tlearn: 57161.6458390\ttotal: 1.82s\tremaining: 2.12s\n",
      "462:\tlearn: 57149.5296684\ttotal: 1.82s\tremaining: 2.11s\n",
      "463:\tlearn: 57129.2090177\ttotal: 1.82s\tremaining: 2.11s\n",
      "464:\tlearn: 57118.6419067\ttotal: 1.83s\tremaining: 2.1s\n",
      "465:\tlearn: 57112.3746969\ttotal: 1.83s\tremaining: 2.1s\n",
      "466:\tlearn: 57079.3022329\ttotal: 1.83s\tremaining: 2.09s\n",
      "467:\tlearn: 57069.3389317\ttotal: 1.83s\tremaining: 2.08s\n",
      "468:\tlearn: 57053.3876287\ttotal: 1.84s\tremaining: 2.08s\n",
      "469:\tlearn: 57042.6373485\ttotal: 1.84s\tremaining: 2.08s\n",
      "470:\tlearn: 57032.2686269\ttotal: 1.84s\tremaining: 2.07s\n",
      "471:\tlearn: 57007.2807314\ttotal: 1.85s\tremaining: 2.06s\n",
      "472:\tlearn: 56991.3721965\ttotal: 1.85s\tremaining: 2.06s\n",
      "473:\tlearn: 56981.7246024\ttotal: 1.85s\tremaining: 2.06s\n",
      "474:\tlearn: 56960.2429303\ttotal: 1.85s\tremaining: 2.05s\n",
      "475:\tlearn: 56949.0020121\ttotal: 1.86s\tremaining: 2.04s\n",
      "476:\tlearn: 56931.9575280\ttotal: 1.86s\tremaining: 2.04s\n",
      "477:\tlearn: 56910.6871417\ttotal: 1.86s\tremaining: 2.03s\n",
      "478:\tlearn: 56901.1740721\ttotal: 1.87s\tremaining: 2.03s\n",
      "479:\tlearn: 56883.4113663\ttotal: 1.87s\tremaining: 2.02s\n",
      "480:\tlearn: 56867.1099180\ttotal: 1.87s\tremaining: 2.02s\n",
      "481:\tlearn: 56854.0316283\ttotal: 1.87s\tremaining: 2.01s\n",
      "482:\tlearn: 56847.1538776\ttotal: 1.88s\tremaining: 2.01s\n",
      "483:\tlearn: 56833.8696608\ttotal: 1.88s\tremaining: 2s\n",
      "484:\tlearn: 56819.6586780\ttotal: 1.88s\tremaining: 2s\n",
      "485:\tlearn: 56807.1492534\ttotal: 1.89s\tremaining: 1.99s\n",
      "486:\tlearn: 56796.1240762\ttotal: 1.89s\tremaining: 1.99s\n",
      "487:\tlearn: 56777.7912689\ttotal: 1.89s\tremaining: 1.98s\n",
      "488:\tlearn: 56756.4062828\ttotal: 1.89s\tremaining: 1.98s\n",
      "489:\tlearn: 56735.9061895\ttotal: 1.9s\tremaining: 1.98s\n",
      "490:\tlearn: 56720.9362095\ttotal: 1.9s\tremaining: 1.97s\n",
      "491:\tlearn: 56710.1523672\ttotal: 1.9s\tremaining: 1.97s\n",
      "492:\tlearn: 56693.4139702\ttotal: 1.91s\tremaining: 1.96s\n",
      "493:\tlearn: 56681.8862689\ttotal: 1.91s\tremaining: 1.96s\n",
      "494:\tlearn: 56670.0363033\ttotal: 1.91s\tremaining: 1.95s\n",
      "495:\tlearn: 56647.1865818\ttotal: 1.92s\tremaining: 1.95s\n",
      "496:\tlearn: 56623.9469203\ttotal: 1.92s\tremaining: 1.94s\n",
      "497:\tlearn: 56605.0498107\ttotal: 1.92s\tremaining: 1.94s\n",
      "498:\tlearn: 56595.5585999\ttotal: 1.93s\tremaining: 1.93s\n",
      "499:\tlearn: 56584.0566975\ttotal: 1.93s\tremaining: 1.93s\n",
      "500:\tlearn: 56568.8210818\ttotal: 1.94s\tremaining: 1.93s\n",
      "501:\tlearn: 56556.6751478\ttotal: 1.94s\tremaining: 1.92s\n",
      "502:\tlearn: 56542.7767976\ttotal: 1.94s\tremaining: 1.92s\n",
      "503:\tlearn: 56526.7952721\ttotal: 1.94s\tremaining: 1.91s\n",
      "504:\tlearn: 56507.9082828\ttotal: 1.95s\tremaining: 1.91s\n",
      "505:\tlearn: 56488.5397527\ttotal: 1.95s\tremaining: 1.9s\n",
      "506:\tlearn: 56470.9987335\ttotal: 1.95s\tremaining: 1.9s\n",
      "507:\tlearn: 56463.0801022\ttotal: 1.96s\tremaining: 1.9s\n",
      "508:\tlearn: 56446.1924139\ttotal: 1.96s\tremaining: 1.89s\n",
      "509:\tlearn: 56416.2863319\ttotal: 1.96s\tremaining: 1.89s\n",
      "510:\tlearn: 56407.9113801\ttotal: 1.97s\tremaining: 1.88s\n",
      "511:\tlearn: 56393.2759012\ttotal: 1.97s\tremaining: 1.88s\n",
      "512:\tlearn: 56384.1676862\ttotal: 1.97s\tremaining: 1.87s\n",
      "513:\tlearn: 56361.2764299\ttotal: 1.98s\tremaining: 1.87s\n",
      "514:\tlearn: 56347.6005009\ttotal: 1.98s\tremaining: 1.86s\n",
      "515:\tlearn: 56332.9559563\ttotal: 1.98s\tremaining: 1.86s\n",
      "516:\tlearn: 56318.0422904\ttotal: 1.98s\tremaining: 1.85s\n",
      "517:\tlearn: 56305.0691027\ttotal: 1.99s\tremaining: 1.85s\n",
      "518:\tlearn: 56286.9913942\ttotal: 1.99s\tremaining: 1.84s\n",
      "519:\tlearn: 56271.1989819\ttotal: 1.99s\tremaining: 1.84s\n",
      "520:\tlearn: 56255.7426578\ttotal: 2s\tremaining: 1.83s\n",
      "521:\tlearn: 56246.5319557\ttotal: 2s\tremaining: 1.83s\n",
      "522:\tlearn: 56224.8410203\ttotal: 2s\tremaining: 1.82s\n",
      "523:\tlearn: 56203.6415282\ttotal: 2s\tremaining: 1.82s\n",
      "524:\tlearn: 56190.1747013\ttotal: 2.01s\tremaining: 1.81s\n",
      "525:\tlearn: 56180.1839249\ttotal: 2.01s\tremaining: 1.81s\n",
      "526:\tlearn: 56162.3696862\ttotal: 2.01s\tremaining: 1.81s\n",
      "527:\tlearn: 56142.8987243\ttotal: 2.02s\tremaining: 1.8s\n",
      "528:\tlearn: 56132.2113366\ttotal: 2.02s\tremaining: 1.8s\n",
      "529:\tlearn: 56119.2099164\ttotal: 2.02s\tremaining: 1.79s\n",
      "530:\tlearn: 56104.9757126\ttotal: 2.03s\tremaining: 1.79s\n",
      "531:\tlearn: 56096.3764034\ttotal: 2.03s\tremaining: 1.78s\n",
      "532:\tlearn: 56080.4207579\ttotal: 2.03s\tremaining: 1.78s\n",
      "533:\tlearn: 56069.0687735\ttotal: 2.04s\tremaining: 1.77s\n",
      "534:\tlearn: 56060.0290678\ttotal: 2.04s\tremaining: 1.77s\n",
      "535:\tlearn: 56046.7489138\ttotal: 2.04s\tremaining: 1.77s\n",
      "536:\tlearn: 56013.4889173\ttotal: 2.04s\tremaining: 1.76s\n",
      "537:\tlearn: 55999.0020251\ttotal: 2.05s\tremaining: 1.76s\n",
      "538:\tlearn: 55989.5277313\ttotal: 2.05s\tremaining: 1.75s\n",
      "539:\tlearn: 55971.2716472\ttotal: 2.05s\tremaining: 1.75s\n",
      "540:\tlearn: 55962.4772704\ttotal: 2.05s\tremaining: 1.74s\n",
      "541:\tlearn: 55942.1447339\ttotal: 2.06s\tremaining: 1.74s\n",
      "542:\tlearn: 55925.4353046\ttotal: 2.06s\tremaining: 1.73s\n",
      "543:\tlearn: 55904.7764477\ttotal: 2.06s\tremaining: 1.73s\n",
      "544:\tlearn: 55892.1976340\ttotal: 2.07s\tremaining: 1.72s\n",
      "545:\tlearn: 55880.9611917\ttotal: 2.07s\tremaining: 1.72s\n",
      "546:\tlearn: 55860.3030675\ttotal: 2.07s\tremaining: 1.72s\n",
      "547:\tlearn: 55842.6186987\ttotal: 2.08s\tremaining: 1.71s\n",
      "548:\tlearn: 55824.3467509\ttotal: 2.08s\tremaining: 1.71s\n",
      "549:\tlearn: 55810.0143451\ttotal: 2.08s\tremaining: 1.7s\n",
      "550:\tlearn: 55798.1771043\ttotal: 2.08s\tremaining: 1.7s\n",
      "551:\tlearn: 55785.4718992\ttotal: 2.09s\tremaining: 1.69s\n",
      "552:\tlearn: 55778.2029898\ttotal: 2.09s\tremaining: 1.69s\n",
      "553:\tlearn: 55762.8387031\ttotal: 2.09s\tremaining: 1.68s\n",
      "554:\tlearn: 55755.8353040\ttotal: 2.09s\tremaining: 1.68s\n",
      "555:\tlearn: 55740.6550799\ttotal: 2.1s\tremaining: 1.67s\n",
      "556:\tlearn: 55727.4451822\ttotal: 2.1s\tremaining: 1.67s\n",
      "557:\tlearn: 55715.3907307\ttotal: 2.1s\tremaining: 1.67s\n",
      "558:\tlearn: 55698.9541834\ttotal: 2.1s\tremaining: 1.66s\n",
      "559:\tlearn: 55682.7681587\ttotal: 2.11s\tremaining: 1.66s\n",
      "560:\tlearn: 55670.0151809\ttotal: 2.11s\tremaining: 1.65s\n",
      "561:\tlearn: 55662.3472738\ttotal: 2.11s\tremaining: 1.65s\n",
      "562:\tlearn: 55649.0781382\ttotal: 2.12s\tremaining: 1.64s\n",
      "563:\tlearn: 55637.3348656\ttotal: 2.12s\tremaining: 1.64s\n",
      "564:\tlearn: 55619.5292099\ttotal: 2.12s\tremaining: 1.63s\n",
      "565:\tlearn: 55608.2071701\ttotal: 2.13s\tremaining: 1.63s\n",
      "566:\tlearn: 55598.5637704\ttotal: 2.13s\tremaining: 1.63s\n",
      "567:\tlearn: 55592.0646646\ttotal: 2.13s\tremaining: 1.62s\n",
      "568:\tlearn: 55579.7626453\ttotal: 2.13s\tremaining: 1.62s\n",
      "569:\tlearn: 55560.4545223\ttotal: 2.14s\tremaining: 1.61s\n",
      "570:\tlearn: 55543.5481048\ttotal: 2.14s\tremaining: 1.61s\n",
      "571:\tlearn: 55532.5158090\ttotal: 2.14s\tremaining: 1.6s\n",
      "572:\tlearn: 55522.4962034\ttotal: 2.14s\tremaining: 1.6s\n",
      "573:\tlearn: 55509.0578177\ttotal: 2.15s\tremaining: 1.59s\n",
      "574:\tlearn: 55499.3692637\ttotal: 2.15s\tremaining: 1.59s\n",
      "575:\tlearn: 55480.4350507\ttotal: 2.15s\tremaining: 1.58s\n",
      "576:\tlearn: 55466.2262513\ttotal: 2.15s\tremaining: 1.58s\n",
      "577:\tlearn: 55446.8164859\ttotal: 2.16s\tremaining: 1.57s\n",
      "578:\tlearn: 55432.5324268\ttotal: 2.16s\tremaining: 1.57s\n",
      "579:\tlearn: 55426.9180261\ttotal: 2.16s\tremaining: 1.57s\n",
      "580:\tlearn: 55414.4600242\ttotal: 2.17s\tremaining: 1.56s\n",
      "581:\tlearn: 55395.2368201\ttotal: 2.17s\tremaining: 1.56s\n",
      "582:\tlearn: 55379.8727825\ttotal: 2.17s\tremaining: 1.55s\n",
      "583:\tlearn: 55364.4520289\ttotal: 2.17s\tremaining: 1.55s\n",
      "584:\tlearn: 55353.1971828\ttotal: 2.18s\tremaining: 1.54s\n",
      "585:\tlearn: 55345.0615593\ttotal: 2.18s\tremaining: 1.54s\n",
      "586:\tlearn: 55336.3563835\ttotal: 2.18s\tremaining: 1.53s\n",
      "587:\tlearn: 55327.5417284\ttotal: 2.19s\tremaining: 1.53s\n",
      "588:\tlearn: 55321.1790370\ttotal: 2.19s\tremaining: 1.53s\n",
      "589:\tlearn: 55301.0641039\ttotal: 2.19s\tremaining: 1.52s\n",
      "590:\tlearn: 55291.5672974\ttotal: 2.19s\tremaining: 1.52s\n",
      "591:\tlearn: 55283.1529681\ttotal: 2.2s\tremaining: 1.51s\n",
      "592:\tlearn: 55259.2986396\ttotal: 2.2s\tremaining: 1.51s\n",
      "593:\tlearn: 55246.9490374\ttotal: 2.2s\tremaining: 1.5s\n",
      "594:\tlearn: 55235.9546996\ttotal: 2.2s\tremaining: 1.5s\n",
      "595:\tlearn: 55223.6948190\ttotal: 2.21s\tremaining: 1.5s\n",
      "596:\tlearn: 55210.2726619\ttotal: 2.21s\tremaining: 1.49s\n",
      "597:\tlearn: 55197.2386189\ttotal: 2.21s\tremaining: 1.49s\n",
      "598:\tlearn: 55180.6408027\ttotal: 2.22s\tremaining: 1.48s\n"
     ]
    },
    {
     "name": "stdout",
     "output_type": "stream",
     "text": [
      "599:\tlearn: 55169.9616077\ttotal: 2.22s\tremaining: 1.48s\n",
      "600:\tlearn: 55160.1092793\ttotal: 2.22s\tremaining: 1.48s\n",
      "601:\tlearn: 55147.1411818\ttotal: 2.23s\tremaining: 1.47s\n",
      "602:\tlearn: 55138.2382364\ttotal: 2.23s\tremaining: 1.47s\n",
      "603:\tlearn: 55126.9831603\ttotal: 2.23s\tremaining: 1.46s\n",
      "604:\tlearn: 55117.1473708\ttotal: 2.23s\tremaining: 1.46s\n",
      "605:\tlearn: 55101.2168104\ttotal: 2.24s\tremaining: 1.45s\n",
      "606:\tlearn: 55091.2226010\ttotal: 2.24s\tremaining: 1.45s\n",
      "607:\tlearn: 55066.6386286\ttotal: 2.24s\tremaining: 1.45s\n",
      "608:\tlearn: 55055.6877851\ttotal: 2.25s\tremaining: 1.44s\n",
      "609:\tlearn: 55045.3636781\ttotal: 2.25s\tremaining: 1.44s\n",
      "610:\tlearn: 55032.4120340\ttotal: 2.25s\tremaining: 1.43s\n",
      "611:\tlearn: 55021.8979611\ttotal: 2.25s\tremaining: 1.43s\n",
      "612:\tlearn: 55011.2711144\ttotal: 2.26s\tremaining: 1.43s\n",
      "613:\tlearn: 54997.0809305\ttotal: 2.26s\tremaining: 1.42s\n",
      "614:\tlearn: 54987.4215509\ttotal: 2.26s\tremaining: 1.42s\n",
      "615:\tlearn: 54969.3009688\ttotal: 2.27s\tremaining: 1.41s\n",
      "616:\tlearn: 54961.3295800\ttotal: 2.27s\tremaining: 1.41s\n",
      "617:\tlearn: 54944.4788074\ttotal: 2.27s\tremaining: 1.4s\n",
      "618:\tlearn: 54929.2293972\ttotal: 2.27s\tremaining: 1.4s\n",
      "619:\tlearn: 54911.5439535\ttotal: 2.28s\tremaining: 1.4s\n",
      "620:\tlearn: 54898.8595496\ttotal: 2.28s\tremaining: 1.39s\n",
      "621:\tlearn: 54888.9311929\ttotal: 2.28s\tremaining: 1.39s\n",
      "622:\tlearn: 54880.1977493\ttotal: 2.29s\tremaining: 1.38s\n",
      "623:\tlearn: 54871.4504338\ttotal: 2.29s\tremaining: 1.38s\n",
      "624:\tlearn: 54859.3069905\ttotal: 2.29s\tremaining: 1.38s\n",
      "625:\tlearn: 54847.0101035\ttotal: 2.29s\tremaining: 1.37s\n",
      "626:\tlearn: 54841.2917203\ttotal: 2.3s\tremaining: 1.37s\n",
      "627:\tlearn: 54830.3086719\ttotal: 2.3s\tremaining: 1.36s\n",
      "628:\tlearn: 54822.2933334\ttotal: 2.3s\tremaining: 1.36s\n",
      "629:\tlearn: 54812.1050450\ttotal: 2.31s\tremaining: 1.35s\n",
      "630:\tlearn: 54806.0629847\ttotal: 2.31s\tremaining: 1.35s\n",
      "631:\tlearn: 54797.1322401\ttotal: 2.31s\tremaining: 1.35s\n",
      "632:\tlearn: 54786.9845356\ttotal: 2.31s\tremaining: 1.34s\n",
      "633:\tlearn: 54781.2954574\ttotal: 2.32s\tremaining: 1.34s\n",
      "634:\tlearn: 54774.7465509\ttotal: 2.32s\tremaining: 1.33s\n",
      "635:\tlearn: 54766.1686065\ttotal: 2.32s\tremaining: 1.33s\n",
      "636:\tlearn: 54757.1128637\ttotal: 2.33s\tremaining: 1.33s\n",
      "637:\tlearn: 54751.2924051\ttotal: 2.33s\tremaining: 1.32s\n",
      "638:\tlearn: 54743.1818121\ttotal: 2.33s\tremaining: 1.32s\n",
      "639:\tlearn: 54733.2398299\ttotal: 2.33s\tremaining: 1.31s\n",
      "640:\tlearn: 54716.2715794\ttotal: 2.34s\tremaining: 1.31s\n",
      "641:\tlearn: 54700.5093034\ttotal: 2.34s\tremaining: 1.3s\n",
      "642:\tlearn: 54692.6876513\ttotal: 2.34s\tremaining: 1.3s\n",
      "643:\tlearn: 54685.7094743\ttotal: 2.35s\tremaining: 1.3s\n",
      "644:\tlearn: 54670.0392471\ttotal: 2.35s\tremaining: 1.29s\n",
      "645:\tlearn: 54660.2374406\ttotal: 2.35s\tremaining: 1.29s\n",
      "646:\tlearn: 54648.6356636\ttotal: 2.36s\tremaining: 1.28s\n",
      "647:\tlearn: 54636.4176343\ttotal: 2.36s\tremaining: 1.28s\n",
      "648:\tlearn: 54626.3577801\ttotal: 2.36s\tremaining: 1.28s\n",
      "649:\tlearn: 54613.7433544\ttotal: 2.37s\tremaining: 1.27s\n",
      "650:\tlearn: 54605.9561287\ttotal: 2.37s\tremaining: 1.27s\n",
      "651:\tlearn: 54576.8461622\ttotal: 2.37s\tremaining: 1.26s\n",
      "652:\tlearn: 54564.2334824\ttotal: 2.37s\tremaining: 1.26s\n",
      "653:\tlearn: 54544.9036803\ttotal: 2.38s\tremaining: 1.26s\n",
      "654:\tlearn: 54527.9376105\ttotal: 2.38s\tremaining: 1.25s\n",
      "655:\tlearn: 54518.0180309\ttotal: 2.38s\tremaining: 1.25s\n",
      "656:\tlearn: 54496.6563230\ttotal: 2.39s\tremaining: 1.25s\n",
      "657:\tlearn: 54486.4219936\ttotal: 2.39s\tremaining: 1.24s\n",
      "658:\tlearn: 54477.5425106\ttotal: 2.39s\tremaining: 1.24s\n",
      "659:\tlearn: 54468.6958335\ttotal: 2.4s\tremaining: 1.23s\n",
      "660:\tlearn: 54456.4370683\ttotal: 2.4s\tremaining: 1.23s\n",
      "661:\tlearn: 54439.9466135\ttotal: 2.4s\tremaining: 1.23s\n",
      "662:\tlearn: 54416.5333938\ttotal: 2.4s\tremaining: 1.22s\n",
      "663:\tlearn: 54405.6591628\ttotal: 2.41s\tremaining: 1.22s\n",
      "664:\tlearn: 54396.2542940\ttotal: 2.41s\tremaining: 1.21s\n",
      "665:\tlearn: 54380.8709470\ttotal: 2.41s\tremaining: 1.21s\n",
      "666:\tlearn: 54370.8674591\ttotal: 2.41s\tremaining: 1.21s\n",
      "667:\tlearn: 54349.1579082\ttotal: 2.42s\tremaining: 1.2s\n",
      "668:\tlearn: 54341.4698548\ttotal: 2.42s\tremaining: 1.2s\n",
      "669:\tlearn: 54334.4301382\ttotal: 2.42s\tremaining: 1.19s\n",
      "670:\tlearn: 54322.9351672\ttotal: 2.43s\tremaining: 1.19s\n",
      "671:\tlearn: 54313.9050221\ttotal: 2.43s\tremaining: 1.19s\n",
      "672:\tlearn: 54307.6043474\ttotal: 2.43s\tremaining: 1.18s\n",
      "673:\tlearn: 54293.6570365\ttotal: 2.43s\tremaining: 1.18s\n",
      "674:\tlearn: 54286.6296977\ttotal: 2.44s\tremaining: 1.17s\n",
      "675:\tlearn: 54277.4875197\ttotal: 2.44s\tremaining: 1.17s\n",
      "676:\tlearn: 54269.3363445\ttotal: 2.44s\tremaining: 1.17s\n",
      "677:\tlearn: 54261.0964807\ttotal: 2.44s\tremaining: 1.16s\n",
      "678:\tlearn: 54252.5769364\ttotal: 2.45s\tremaining: 1.16s\n",
      "679:\tlearn: 54245.6869946\ttotal: 2.45s\tremaining: 1.15s\n",
      "680:\tlearn: 54237.2609446\ttotal: 2.45s\tremaining: 1.15s\n",
      "681:\tlearn: 54229.0302889\ttotal: 2.46s\tremaining: 1.15s\n",
      "682:\tlearn: 54222.3926339\ttotal: 2.46s\tremaining: 1.14s\n",
      "683:\tlearn: 54211.1081356\ttotal: 2.46s\tremaining: 1.14s\n",
      "684:\tlearn: 54186.7279012\ttotal: 2.46s\tremaining: 1.13s\n",
      "685:\tlearn: 54175.5472571\ttotal: 2.47s\tremaining: 1.13s\n",
      "686:\tlearn: 54165.6443222\ttotal: 2.47s\tremaining: 1.13s\n",
      "687:\tlearn: 54156.3859395\ttotal: 2.47s\tremaining: 1.12s\n",
      "688:\tlearn: 54147.8549421\ttotal: 2.48s\tremaining: 1.12s\n",
      "689:\tlearn: 54137.1435673\ttotal: 2.48s\tremaining: 1.11s\n",
      "690:\tlearn: 54124.4045367\ttotal: 2.48s\tremaining: 1.11s\n",
      "691:\tlearn: 54112.5819116\ttotal: 2.48s\tremaining: 1.1s\n",
      "692:\tlearn: 54101.9833876\ttotal: 2.49s\tremaining: 1.1s\n",
      "693:\tlearn: 54087.7510195\ttotal: 2.49s\tremaining: 1.1s\n",
      "694:\tlearn: 54080.4263870\ttotal: 2.49s\tremaining: 1.09s\n",
      "695:\tlearn: 54067.3829582\ttotal: 2.5s\tremaining: 1.09s\n",
      "696:\tlearn: 54055.5495088\ttotal: 2.5s\tremaining: 1.09s\n",
      "697:\tlearn: 54047.5568922\ttotal: 2.5s\tremaining: 1.08s\n",
      "698:\tlearn: 54029.0507608\ttotal: 2.5s\tremaining: 1.08s\n",
      "699:\tlearn: 54013.9479739\ttotal: 2.51s\tremaining: 1.07s\n",
      "700:\tlearn: 54005.5313670\ttotal: 2.51s\tremaining: 1.07s\n",
      "701:\tlearn: 53995.1908597\ttotal: 2.51s\tremaining: 1.07s\n",
      "702:\tlearn: 53985.4529163\ttotal: 2.52s\tremaining: 1.06s\n",
      "703:\tlearn: 53974.6662595\ttotal: 2.52s\tremaining: 1.06s\n",
      "704:\tlearn: 53969.2819873\ttotal: 2.52s\tremaining: 1.05s\n",
      "705:\tlearn: 53963.2179380\ttotal: 2.52s\tremaining: 1.05s\n",
      "706:\tlearn: 53953.2592587\ttotal: 2.53s\tremaining: 1.05s\n",
      "707:\tlearn: 53944.1773563\ttotal: 2.53s\tremaining: 1.04s\n",
      "708:\tlearn: 53929.5704692\ttotal: 2.53s\tremaining: 1.04s\n",
      "709:\tlearn: 53921.1047878\ttotal: 2.54s\tremaining: 1.04s\n",
      "710:\tlearn: 53903.3649566\ttotal: 2.54s\tremaining: 1.03s\n",
      "711:\tlearn: 53886.5975535\ttotal: 2.54s\tremaining: 1.03s\n",
      "712:\tlearn: 53869.3223786\ttotal: 2.54s\tremaining: 1.02s\n",
      "713:\tlearn: 53861.5219941\ttotal: 2.55s\tremaining: 1.02s\n",
      "714:\tlearn: 53850.6119159\ttotal: 2.55s\tremaining: 1.02s\n",
      "715:\tlearn: 53841.4591270\ttotal: 2.55s\tremaining: 1.01s\n",
      "716:\tlearn: 53833.6621694\ttotal: 2.56s\tremaining: 1.01s\n",
      "717:\tlearn: 53826.7874613\ttotal: 2.56s\tremaining: 1s\n",
      "718:\tlearn: 53817.5867641\ttotal: 2.56s\tremaining: 1s\n",
      "719:\tlearn: 53805.2078571\ttotal: 2.56s\tremaining: 998ms\n",
      "720:\tlearn: 53794.1410552\ttotal: 2.57s\tremaining: 994ms\n",
      "721:\tlearn: 53785.8452398\ttotal: 2.57s\tremaining: 990ms\n",
      "722:\tlearn: 53777.0931607\ttotal: 2.57s\tremaining: 986ms\n",
      "723:\tlearn: 53762.4029231\ttotal: 2.58s\tremaining: 983ms\n",
      "724:\tlearn: 53755.3061966\ttotal: 2.58s\tremaining: 979ms\n",
      "725:\tlearn: 53745.0840812\ttotal: 2.58s\tremaining: 975ms\n",
      "726:\tlearn: 53728.1723181\ttotal: 2.59s\tremaining: 971ms\n",
      "727:\tlearn: 53709.7565427\ttotal: 2.59s\tremaining: 967ms\n",
      "728:\tlearn: 53704.5104458\ttotal: 2.59s\tremaining: 964ms\n",
      "729:\tlearn: 53692.3819706\ttotal: 2.59s\tremaining: 960ms\n",
      "730:\tlearn: 53676.3895844\ttotal: 2.6s\tremaining: 956ms\n",
      "731:\tlearn: 53667.0011546\ttotal: 2.6s\tremaining: 952ms\n",
      "732:\tlearn: 53660.7866282\ttotal: 2.6s\tremaining: 948ms\n",
      "733:\tlearn: 53655.8083308\ttotal: 2.61s\tremaining: 945ms\n",
      "734:\tlearn: 53641.6500893\ttotal: 2.61s\tremaining: 941ms\n",
      "735:\tlearn: 53633.7362550\ttotal: 2.61s\tremaining: 937ms\n",
      "736:\tlearn: 53624.1791310\ttotal: 2.62s\tremaining: 933ms\n",
      "737:\tlearn: 53610.5188719\ttotal: 2.62s\tremaining: 930ms\n",
      "738:\tlearn: 53601.2990624\ttotal: 2.62s\tremaining: 926ms\n",
      "739:\tlearn: 53590.9071299\ttotal: 2.62s\tremaining: 922ms\n",
      "740:\tlearn: 53570.6303394\ttotal: 2.63s\tremaining: 918ms\n",
      "741:\tlearn: 53553.1141601\ttotal: 2.63s\tremaining: 915ms\n",
      "742:\tlearn: 53542.5025970\ttotal: 2.63s\tremaining: 911ms\n",
      "743:\tlearn: 53528.3611076\ttotal: 2.64s\tremaining: 907ms\n",
      "744:\tlearn: 53513.0243987\ttotal: 2.64s\tremaining: 903ms\n",
      "745:\tlearn: 53501.5321459\ttotal: 2.64s\tremaining: 900ms\n",
      "746:\tlearn: 53483.7398442\ttotal: 2.64s\tremaining: 896ms\n",
      "747:\tlearn: 53473.3845445\ttotal: 2.65s\tremaining: 892ms\n",
      "748:\tlearn: 53465.6068733\ttotal: 2.65s\tremaining: 888ms\n",
      "749:\tlearn: 53453.5399472\ttotal: 2.65s\tremaining: 884ms\n",
      "750:\tlearn: 53440.5739241\ttotal: 2.66s\tremaining: 881ms\n",
      "751:\tlearn: 53432.9549888\ttotal: 2.66s\tremaining: 877ms\n",
      "752:\tlearn: 53424.5762154\ttotal: 2.66s\tremaining: 873ms\n",
      "753:\tlearn: 53420.2627907\ttotal: 2.66s\tremaining: 869ms\n",
      "754:\tlearn: 53413.0516484\ttotal: 2.67s\tremaining: 865ms\n",
      "755:\tlearn: 53403.3282755\ttotal: 2.67s\tremaining: 862ms\n",
      "756:\tlearn: 53390.7915603\ttotal: 2.67s\tremaining: 858ms\n",
      "757:\tlearn: 53379.7704468\ttotal: 2.67s\tremaining: 854ms\n",
      "758:\tlearn: 53372.9131723\ttotal: 2.68s\tremaining: 850ms\n",
      "759:\tlearn: 53359.2089029\ttotal: 2.68s\tremaining: 847ms\n",
      "760:\tlearn: 53351.0149782\ttotal: 2.68s\tremaining: 843ms\n",
      "761:\tlearn: 53344.0114615\ttotal: 2.69s\tremaining: 839ms\n",
      "762:\tlearn: 53329.0032721\ttotal: 2.69s\tremaining: 836ms\n",
      "763:\tlearn: 53310.7084956\ttotal: 2.69s\tremaining: 832ms\n",
      "764:\tlearn: 53306.2019343\ttotal: 2.69s\tremaining: 828ms\n",
      "765:\tlearn: 53296.9222867\ttotal: 2.7s\tremaining: 824ms\n",
      "766:\tlearn: 53287.9351053\ttotal: 2.7s\tremaining: 821ms\n",
      "767:\tlearn: 53275.4350975\ttotal: 2.7s\tremaining: 817ms\n",
      "768:\tlearn: 53263.3512673\ttotal: 2.71s\tremaining: 813ms\n",
      "769:\tlearn: 53254.5569055\ttotal: 2.71s\tremaining: 809ms\n",
      "770:\tlearn: 53245.7777174\ttotal: 2.71s\tremaining: 806ms\n",
      "771:\tlearn: 53238.2536274\ttotal: 2.71s\tremaining: 802ms\n",
      "772:\tlearn: 53226.9116235\ttotal: 2.72s\tremaining: 798ms\n",
      "773:\tlearn: 53211.1087756\ttotal: 2.72s\tremaining: 795ms\n",
      "774:\tlearn: 53204.2170222\ttotal: 2.72s\tremaining: 791ms\n",
      "775:\tlearn: 53190.2981501\ttotal: 2.73s\tremaining: 787ms\n",
      "776:\tlearn: 53182.4932593\ttotal: 2.73s\tremaining: 783ms\n",
      "777:\tlearn: 53169.7091077\ttotal: 2.73s\tremaining: 780ms\n",
      "778:\tlearn: 53158.4838594\ttotal: 2.73s\tremaining: 776ms\n",
      "779:\tlearn: 53133.7284270\ttotal: 2.74s\tremaining: 772ms\n",
      "780:\tlearn: 53119.1479118\ttotal: 2.74s\tremaining: 769ms\n",
      "781:\tlearn: 53109.8326838\ttotal: 2.74s\tremaining: 765ms\n",
      "782:\tlearn: 53104.9357647\ttotal: 2.75s\tremaining: 761ms\n",
      "783:\tlearn: 53087.8409034\ttotal: 2.75s\tremaining: 758ms\n",
      "784:\tlearn: 53078.8926867\ttotal: 2.75s\tremaining: 754ms\n",
      "785:\tlearn: 53070.3482073\ttotal: 2.75s\tremaining: 750ms\n",
      "786:\tlearn: 53062.5803156\ttotal: 2.76s\tremaining: 747ms\n",
      "787:\tlearn: 53051.6497492\ttotal: 2.76s\tremaining: 743ms\n",
      "788:\tlearn: 53039.0888748\ttotal: 2.76s\tremaining: 739ms\n",
      "789:\tlearn: 53031.2606081\ttotal: 2.77s\tremaining: 736ms\n",
      "790:\tlearn: 53018.6189611\ttotal: 2.77s\tremaining: 732ms\n",
      "791:\tlearn: 53011.0391622\ttotal: 2.77s\tremaining: 728ms\n",
      "792:\tlearn: 53003.4491135\ttotal: 2.77s\tremaining: 724ms\n",
      "793:\tlearn: 52989.9959720\ttotal: 2.78s\tremaining: 721ms\n",
      "794:\tlearn: 52982.5771353\ttotal: 2.78s\tremaining: 717ms\n",
      "795:\tlearn: 52974.5479647\ttotal: 2.78s\tremaining: 713ms\n",
      "796:\tlearn: 52964.5008498\ttotal: 2.79s\tremaining: 710ms\n",
      "797:\tlearn: 52959.6761757\ttotal: 2.79s\tremaining: 706ms\n",
      "798:\tlearn: 52945.3049913\ttotal: 2.79s\tremaining: 702ms\n",
      "799:\tlearn: 52934.5729897\ttotal: 2.79s\tremaining: 699ms\n",
      "800:\tlearn: 52925.5395912\ttotal: 2.8s\tremaining: 695ms\n",
      "801:\tlearn: 52917.7371865\ttotal: 2.8s\tremaining: 692ms\n",
      "802:\tlearn: 52907.8831504\ttotal: 2.8s\tremaining: 688ms\n",
      "803:\tlearn: 52898.1693670\ttotal: 2.81s\tremaining: 684ms\n",
      "804:\tlearn: 52888.7775584\ttotal: 2.81s\tremaining: 681ms\n"
     ]
    },
    {
     "name": "stdout",
     "output_type": "stream",
     "text": [
      "805:\tlearn: 52875.6130510\ttotal: 2.81s\tremaining: 677ms\n",
      "806:\tlearn: 52862.4400842\ttotal: 2.81s\tremaining: 673ms\n",
      "807:\tlearn: 52856.1366011\ttotal: 2.82s\tremaining: 670ms\n",
      "808:\tlearn: 52847.2860456\ttotal: 2.82s\tremaining: 666ms\n",
      "809:\tlearn: 52833.2542049\ttotal: 2.82s\tremaining: 663ms\n",
      "810:\tlearn: 52823.6489158\ttotal: 2.83s\tremaining: 659ms\n",
      "811:\tlearn: 52805.8426408\ttotal: 2.83s\tremaining: 655ms\n",
      "812:\tlearn: 52793.6106786\ttotal: 2.83s\tremaining: 652ms\n",
      "813:\tlearn: 52785.5533570\ttotal: 2.84s\tremaining: 648ms\n",
      "814:\tlearn: 52769.0618472\ttotal: 2.84s\tremaining: 645ms\n",
      "815:\tlearn: 52761.9770335\ttotal: 2.84s\tremaining: 641ms\n",
      "816:\tlearn: 52754.6869224\ttotal: 2.85s\tremaining: 637ms\n",
      "817:\tlearn: 52749.3784742\ttotal: 2.85s\tremaining: 634ms\n",
      "818:\tlearn: 52739.0067642\ttotal: 2.85s\tremaining: 630ms\n",
      "819:\tlearn: 52730.9890170\ttotal: 2.85s\tremaining: 626ms\n",
      "820:\tlearn: 52721.6702198\ttotal: 2.86s\tremaining: 623ms\n",
      "821:\tlearn: 52710.6819576\ttotal: 2.86s\tremaining: 619ms\n",
      "822:\tlearn: 52699.9256928\ttotal: 2.86s\tremaining: 616ms\n",
      "823:\tlearn: 52691.0256487\ttotal: 2.87s\tremaining: 612ms\n",
      "824:\tlearn: 52683.6799487\ttotal: 2.87s\tremaining: 608ms\n",
      "825:\tlearn: 52674.7088725\ttotal: 2.87s\tremaining: 605ms\n",
      "826:\tlearn: 52669.6398134\ttotal: 2.87s\tremaining: 601ms\n",
      "827:\tlearn: 52664.3961542\ttotal: 2.88s\tremaining: 598ms\n",
      "828:\tlearn: 52656.3378934\ttotal: 2.88s\tremaining: 594ms\n",
      "829:\tlearn: 52646.1445660\ttotal: 2.88s\tremaining: 590ms\n",
      "830:\tlearn: 52634.3343141\ttotal: 2.88s\tremaining: 587ms\n",
      "831:\tlearn: 52627.5939692\ttotal: 2.89s\tremaining: 583ms\n",
      "832:\tlearn: 52620.0182676\ttotal: 2.89s\tremaining: 580ms\n",
      "833:\tlearn: 52605.0971845\ttotal: 2.89s\tremaining: 576ms\n",
      "834:\tlearn: 52599.0301851\ttotal: 2.9s\tremaining: 572ms\n",
      "835:\tlearn: 52586.7587672\ttotal: 2.9s\tremaining: 569ms\n",
      "836:\tlearn: 52573.5328020\ttotal: 2.9s\tremaining: 565ms\n",
      "837:\tlearn: 52566.6565580\ttotal: 2.9s\tremaining: 562ms\n",
      "838:\tlearn: 52557.0657724\ttotal: 2.91s\tremaining: 558ms\n",
      "839:\tlearn: 52549.0752199\ttotal: 2.91s\tremaining: 554ms\n",
      "840:\tlearn: 52535.0686332\ttotal: 2.91s\tremaining: 551ms\n",
      "841:\tlearn: 52528.2305117\ttotal: 2.92s\tremaining: 547ms\n",
      "842:\tlearn: 52519.2872176\ttotal: 2.92s\tremaining: 544ms\n",
      "843:\tlearn: 52509.2522232\ttotal: 2.92s\tremaining: 540ms\n",
      "844:\tlearn: 52501.7018139\ttotal: 2.92s\tremaining: 536ms\n",
      "845:\tlearn: 52487.3042280\ttotal: 2.93s\tremaining: 533ms\n",
      "846:\tlearn: 52477.5191902\ttotal: 2.93s\tremaining: 529ms\n",
      "847:\tlearn: 52467.7087764\ttotal: 2.93s\tremaining: 526ms\n",
      "848:\tlearn: 52456.1817524\ttotal: 2.94s\tremaining: 522ms\n",
      "849:\tlearn: 52448.5310524\ttotal: 2.94s\tremaining: 519ms\n",
      "850:\tlearn: 52437.0925386\ttotal: 2.94s\tremaining: 515ms\n",
      "851:\tlearn: 52430.2781093\ttotal: 2.94s\tremaining: 511ms\n",
      "852:\tlearn: 52427.1466786\ttotal: 2.95s\tremaining: 508ms\n",
      "853:\tlearn: 52421.0311754\ttotal: 2.95s\tremaining: 504ms\n",
      "854:\tlearn: 52410.7267897\ttotal: 2.95s\tremaining: 501ms\n",
      "855:\tlearn: 52402.3374651\ttotal: 2.96s\tremaining: 497ms\n",
      "856:\tlearn: 52397.9177577\ttotal: 2.96s\tremaining: 494ms\n",
      "857:\tlearn: 52389.2176771\ttotal: 2.96s\tremaining: 490ms\n",
      "858:\tlearn: 52377.2770894\ttotal: 2.96s\tremaining: 486ms\n",
      "859:\tlearn: 52370.2949684\ttotal: 2.97s\tremaining: 483ms\n",
      "860:\tlearn: 52359.5306528\ttotal: 2.97s\tremaining: 479ms\n",
      "861:\tlearn: 52348.8449346\ttotal: 2.97s\tremaining: 476ms\n",
      "862:\tlearn: 52334.2031054\ttotal: 2.97s\tremaining: 472ms\n",
      "863:\tlearn: 52323.4936265\ttotal: 2.98s\tremaining: 469ms\n",
      "864:\tlearn: 52313.2537481\ttotal: 2.98s\tremaining: 465ms\n",
      "865:\tlearn: 52309.1996026\ttotal: 2.98s\tremaining: 462ms\n",
      "866:\tlearn: 52294.5936912\ttotal: 2.99s\tremaining: 458ms\n",
      "867:\tlearn: 52281.9551975\ttotal: 2.99s\tremaining: 455ms\n",
      "868:\tlearn: 52275.1639423\ttotal: 2.99s\tremaining: 451ms\n",
      "869:\tlearn: 52263.2174047\ttotal: 3s\tremaining: 448ms\n",
      "870:\tlearn: 52252.8793060\ttotal: 3s\tremaining: 444ms\n",
      "871:\tlearn: 52244.9495550\ttotal: 3s\tremaining: 440ms\n",
      "872:\tlearn: 52237.6933901\ttotal: 3s\tremaining: 437ms\n",
      "873:\tlearn: 52229.5366895\ttotal: 3.01s\tremaining: 433ms\n",
      "874:\tlearn: 52223.4148786\ttotal: 3.01s\tremaining: 430ms\n",
      "875:\tlearn: 52213.4307110\ttotal: 3.01s\tremaining: 426ms\n",
      "876:\tlearn: 52203.7953570\ttotal: 3.02s\tremaining: 423ms\n",
      "877:\tlearn: 52194.4518695\ttotal: 3.02s\tremaining: 419ms\n",
      "878:\tlearn: 52183.0277070\ttotal: 3.02s\tremaining: 416ms\n",
      "879:\tlearn: 52175.5934391\ttotal: 3.02s\tremaining: 412ms\n",
      "880:\tlearn: 52165.2585973\ttotal: 3.03s\tremaining: 409ms\n",
      "881:\tlearn: 52153.4255767\ttotal: 3.03s\tremaining: 405ms\n",
      "882:\tlearn: 52147.9536672\ttotal: 3.03s\tremaining: 402ms\n",
      "883:\tlearn: 52139.8417087\ttotal: 3.03s\tremaining: 398ms\n",
      "884:\tlearn: 52127.2150752\ttotal: 3.04s\tremaining: 395ms\n",
      "885:\tlearn: 52121.4863475\ttotal: 3.04s\tremaining: 391ms\n",
      "886:\tlearn: 52114.2686302\ttotal: 3.04s\tremaining: 388ms\n",
      "887:\tlearn: 52108.6390087\ttotal: 3.05s\tremaining: 384ms\n",
      "888:\tlearn: 52096.3825771\ttotal: 3.05s\tremaining: 381ms\n",
      "889:\tlearn: 52090.6414132\ttotal: 3.05s\tremaining: 377ms\n",
      "890:\tlearn: 52074.0584602\ttotal: 3.06s\tremaining: 374ms\n",
      "891:\tlearn: 52059.3574202\ttotal: 3.06s\tremaining: 370ms\n",
      "892:\tlearn: 52051.3429526\ttotal: 3.06s\tremaining: 367ms\n",
      "893:\tlearn: 52041.5893549\ttotal: 3.06s\tremaining: 363ms\n",
      "894:\tlearn: 52034.8351796\ttotal: 3.07s\tremaining: 360ms\n",
      "895:\tlearn: 52025.9707800\ttotal: 3.07s\tremaining: 356ms\n",
      "896:\tlearn: 52017.6598375\ttotal: 3.07s\tremaining: 353ms\n",
      "897:\tlearn: 52007.9915608\ttotal: 3.07s\tremaining: 349ms\n",
      "898:\tlearn: 52002.4405974\ttotal: 3.08s\tremaining: 346ms\n",
      "899:\tlearn: 51992.6646779\ttotal: 3.08s\tremaining: 342ms\n",
      "900:\tlearn: 51982.4556666\ttotal: 3.08s\tremaining: 339ms\n",
      "901:\tlearn: 51975.5095417\ttotal: 3.08s\tremaining: 335ms\n",
      "902:\tlearn: 51966.5082591\ttotal: 3.09s\tremaining: 332ms\n",
      "903:\tlearn: 51955.0863617\ttotal: 3.09s\tremaining: 328ms\n",
      "904:\tlearn: 51949.0420170\ttotal: 3.09s\tremaining: 325ms\n",
      "905:\tlearn: 51940.9108315\ttotal: 3.1s\tremaining: 321ms\n",
      "906:\tlearn: 51935.4435545\ttotal: 3.1s\tremaining: 318ms\n",
      "907:\tlearn: 51929.9626641\ttotal: 3.1s\tremaining: 314ms\n",
      "908:\tlearn: 51916.5007180\ttotal: 3.1s\tremaining: 311ms\n",
      "909:\tlearn: 51910.0147829\ttotal: 3.11s\tremaining: 307ms\n",
      "910:\tlearn: 51902.6594182\ttotal: 3.11s\tremaining: 304ms\n",
      "911:\tlearn: 51895.2629734\ttotal: 3.11s\tremaining: 300ms\n",
      "912:\tlearn: 51887.2222702\ttotal: 3.12s\tremaining: 297ms\n",
      "913:\tlearn: 51879.7288295\ttotal: 3.12s\tremaining: 293ms\n",
      "914:\tlearn: 51872.8049899\ttotal: 3.12s\tremaining: 290ms\n",
      "915:\tlearn: 51865.7615958\ttotal: 3.12s\tremaining: 287ms\n",
      "916:\tlearn: 51855.2798701\ttotal: 3.13s\tremaining: 283ms\n",
      "917:\tlearn: 51840.4000534\ttotal: 3.13s\tremaining: 280ms\n",
      "918:\tlearn: 51834.6087474\ttotal: 3.13s\tremaining: 276ms\n",
      "919:\tlearn: 51828.8877221\ttotal: 3.13s\tremaining: 273ms\n",
      "920:\tlearn: 51821.7879470\ttotal: 3.14s\tremaining: 269ms\n",
      "921:\tlearn: 51814.5013326\ttotal: 3.14s\tremaining: 266ms\n",
      "922:\tlearn: 51806.3920260\ttotal: 3.14s\tremaining: 262ms\n",
      "923:\tlearn: 51792.3666562\ttotal: 3.15s\tremaining: 259ms\n",
      "924:\tlearn: 51787.4063809\ttotal: 3.15s\tremaining: 255ms\n",
      "925:\tlearn: 51775.6567748\ttotal: 3.15s\tremaining: 252ms\n",
      "926:\tlearn: 51760.8824168\ttotal: 3.15s\tremaining: 248ms\n",
      "927:\tlearn: 51751.9087788\ttotal: 3.16s\tremaining: 245ms\n",
      "928:\tlearn: 51744.9802271\ttotal: 3.16s\tremaining: 242ms\n",
      "929:\tlearn: 51738.7026364\ttotal: 3.16s\tremaining: 238ms\n",
      "930:\tlearn: 51724.1170295\ttotal: 3.17s\tremaining: 235ms\n",
      "931:\tlearn: 51715.3334079\ttotal: 3.17s\tremaining: 231ms\n",
      "932:\tlearn: 51707.2192522\ttotal: 3.17s\tremaining: 228ms\n",
      "933:\tlearn: 51699.8943586\ttotal: 3.17s\tremaining: 224ms\n",
      "934:\tlearn: 51690.4134664\ttotal: 3.18s\tremaining: 221ms\n",
      "935:\tlearn: 51680.4135149\ttotal: 3.18s\tremaining: 217ms\n",
      "936:\tlearn: 51670.0809619\ttotal: 3.18s\tremaining: 214ms\n",
      "937:\tlearn: 51663.7933412\ttotal: 3.19s\tremaining: 211ms\n",
      "938:\tlearn: 51655.8035259\ttotal: 3.19s\tremaining: 207ms\n",
      "939:\tlearn: 51648.1099809\ttotal: 3.19s\tremaining: 204ms\n",
      "940:\tlearn: 51640.1179057\ttotal: 3.19s\tremaining: 200ms\n",
      "941:\tlearn: 51634.1803672\ttotal: 3.2s\tremaining: 197ms\n",
      "942:\tlearn: 51627.0371263\ttotal: 3.2s\tremaining: 193ms\n",
      "943:\tlearn: 51621.5891619\ttotal: 3.2s\tremaining: 190ms\n",
      "944:\tlearn: 51613.5198427\ttotal: 3.21s\tremaining: 187ms\n",
      "945:\tlearn: 51607.7942831\ttotal: 3.21s\tremaining: 183ms\n",
      "946:\tlearn: 51604.0444998\ttotal: 3.21s\tremaining: 180ms\n",
      "947:\tlearn: 51594.6208216\ttotal: 3.21s\tremaining: 176ms\n",
      "948:\tlearn: 51587.8202887\ttotal: 3.22s\tremaining: 173ms\n",
      "949:\tlearn: 51580.5524968\ttotal: 3.22s\tremaining: 169ms\n",
      "950:\tlearn: 51577.0153625\ttotal: 3.22s\tremaining: 166ms\n",
      "951:\tlearn: 51566.6956039\ttotal: 3.23s\tremaining: 163ms\n",
      "952:\tlearn: 51549.2037817\ttotal: 3.23s\tremaining: 159ms\n",
      "953:\tlearn: 51540.9099976\ttotal: 3.23s\tremaining: 156ms\n",
      "954:\tlearn: 51526.7362362\ttotal: 3.23s\tremaining: 152ms\n",
      "955:\tlearn: 51514.8311482\ttotal: 3.23s\tremaining: 149ms\n",
      "956:\tlearn: 51503.7311072\ttotal: 3.24s\tremaining: 146ms\n",
      "957:\tlearn: 51497.6968787\ttotal: 3.24s\tremaining: 142ms\n",
      "958:\tlearn: 51490.2580121\ttotal: 3.24s\tremaining: 139ms\n",
      "959:\tlearn: 51483.4178455\ttotal: 3.25s\tremaining: 135ms\n",
      "960:\tlearn: 51477.9521580\ttotal: 3.25s\tremaining: 132ms\n",
      "961:\tlearn: 51468.6428024\ttotal: 3.25s\tremaining: 128ms\n",
      "962:\tlearn: 51459.4930502\ttotal: 3.25s\tremaining: 125ms\n",
      "963:\tlearn: 51451.7075073\ttotal: 3.26s\tremaining: 122ms\n",
      "964:\tlearn: 51444.3686330\ttotal: 3.26s\tremaining: 118ms\n",
      "965:\tlearn: 51435.4582186\ttotal: 3.26s\tremaining: 115ms\n",
      "966:\tlearn: 51426.2157683\ttotal: 3.27s\tremaining: 111ms\n",
      "967:\tlearn: 51419.8173616\ttotal: 3.27s\tremaining: 108ms\n",
      "968:\tlearn: 51409.2847731\ttotal: 3.27s\tremaining: 105ms\n",
      "969:\tlearn: 51401.5331636\ttotal: 3.27s\tremaining: 101ms\n",
      "970:\tlearn: 51395.4690044\ttotal: 3.28s\tremaining: 97.9ms\n",
      "971:\tlearn: 51388.8264887\ttotal: 3.28s\tremaining: 94.5ms\n",
      "972:\tlearn: 51384.8410028\ttotal: 3.28s\tremaining: 91.1ms\n",
      "973:\tlearn: 51373.3910331\ttotal: 3.29s\tremaining: 87.7ms\n",
      "974:\tlearn: 51368.2803253\ttotal: 3.29s\tremaining: 84.4ms\n",
      "975:\tlearn: 51353.3739270\ttotal: 3.29s\tremaining: 81ms\n",
      "976:\tlearn: 51338.1282073\ttotal: 3.29s\tremaining: 77.6ms\n",
      "977:\tlearn: 51328.8698139\ttotal: 3.3s\tremaining: 74.2ms\n",
      "978:\tlearn: 51320.4711916\ttotal: 3.3s\tremaining: 70.8ms\n",
      "979:\tlearn: 51310.8858531\ttotal: 3.3s\tremaining: 67.4ms\n",
      "980:\tlearn: 51305.6043031\ttotal: 3.31s\tremaining: 64ms\n",
      "981:\tlearn: 51299.3054384\ttotal: 3.31s\tremaining: 60.7ms\n",
      "982:\tlearn: 51291.5557502\ttotal: 3.31s\tremaining: 57.3ms\n",
      "983:\tlearn: 51282.9496618\ttotal: 3.31s\tremaining: 53.9ms\n",
      "984:\tlearn: 51272.1811328\ttotal: 3.32s\tremaining: 50.5ms\n",
      "985:\tlearn: 51264.4115099\ttotal: 3.32s\tremaining: 47.2ms\n",
      "986:\tlearn: 51258.8802995\ttotal: 3.32s\tremaining: 43.8ms\n",
      "987:\tlearn: 51250.2538248\ttotal: 3.33s\tremaining: 40.4ms\n",
      "988:\tlearn: 51243.4704957\ttotal: 3.33s\tremaining: 37ms\n",
      "989:\tlearn: 51234.2442897\ttotal: 3.33s\tremaining: 33.7ms\n",
      "990:\tlearn: 51215.3194612\ttotal: 3.34s\tremaining: 30.3ms\n",
      "991:\tlearn: 51209.7744358\ttotal: 3.34s\tremaining: 26.9ms\n",
      "992:\tlearn: 51198.6200029\ttotal: 3.34s\tremaining: 23.6ms\n",
      "993:\tlearn: 51193.7667402\ttotal: 3.34s\tremaining: 20.2ms\n",
      "994:\tlearn: 51187.1080412\ttotal: 3.35s\tremaining: 16.8ms\n",
      "995:\tlearn: 51180.9467888\ttotal: 3.35s\tremaining: 13.5ms\n",
      "996:\tlearn: 51174.5074142\ttotal: 3.35s\tremaining: 10.1ms\n",
      "997:\tlearn: 51169.4120857\ttotal: 3.35s\tremaining: 6.72ms\n",
      "998:\tlearn: 51161.6133306\ttotal: 3.36s\tremaining: 3.36ms\n",
      "999:\tlearn: 51153.1409974\ttotal: 3.36s\tremaining: 0us\n"
     ]
    },
    {
     "data": {
      "text/plain": [
       "{'MAE': 41866.97998867818,\n",
       " 'MSE': 3605910620.088557,\n",
       " 'RMSE': 60049.23496672174,\n",
       " 'R2': 0.7335066567014269}"
      ]
     },
     "execution_count": 54,
     "metadata": {},
     "output_type": "execute_result"
    }
   ],
   "source": [
    "pipe = make_pipeline(StandardScaler(), cb.CatBoostRegressor())\n",
    "pipe.fit(X_train, y_train.values.ravel())\n",
    "y_pred = pipe.predict(X_test)\n",
    "score(y_test, y_pred)"
   ]
  },
  {
   "cell_type": "code",
   "execution_count": 55,
   "metadata": {},
   "outputs": [
    {
     "name": "stdout",
     "output_type": "stream",
     "text": [
      "Learning rate set to 0.061841\n",
      "0:\tlearn: 112486.9390269\ttotal: 3.48ms\tremaining: 3.48s\n",
      "1:\tlearn: 109259.4034872\ttotal: 6.53ms\tremaining: 3.26s\n",
      "2:\tlearn: 106368.7431433\ttotal: 9.54ms\tremaining: 3.17s\n",
      "3:\tlearn: 103781.0134106\ttotal: 12.9ms\tremaining: 3.21s\n",
      "4:\tlearn: 101253.1466846\ttotal: 16ms\tremaining: 3.19s\n",
      "5:\tlearn: 98989.8164136\ttotal: 18.9ms\tremaining: 3.13s\n",
      "6:\tlearn: 96806.0683709\ttotal: 22ms\tremaining: 3.11s\n",
      "7:\tlearn: 94960.6127813\ttotal: 25.2ms\tremaining: 3.12s\n",
      "8:\tlearn: 93243.7528036\ttotal: 28.3ms\tremaining: 3.12s\n",
      "9:\tlearn: 91385.8533854\ttotal: 31.6ms\tremaining: 3.13s\n",
      "10:\tlearn: 89930.1334137\ttotal: 34.6ms\tremaining: 3.11s\n",
      "11:\tlearn: 88535.6877154\ttotal: 37.8ms\tremaining: 3.11s\n",
      "12:\tlearn: 87258.7461002\ttotal: 41ms\tremaining: 3.12s\n",
      "13:\tlearn: 86145.8768882\ttotal: 44.3ms\tremaining: 3.12s\n",
      "14:\tlearn: 85079.4673490\ttotal: 47.5ms\tremaining: 3.12s\n",
      "15:\tlearn: 83969.7446039\ttotal: 50.6ms\tremaining: 3.11s\n",
      "16:\tlearn: 83093.4452987\ttotal: 53.6ms\tremaining: 3.1s\n",
      "17:\tlearn: 82017.9753642\ttotal: 56.5ms\tremaining: 3.08s\n",
      "18:\tlearn: 81247.5301963\ttotal: 59.4ms\tremaining: 3.06s\n",
      "19:\tlearn: 80264.3178746\ttotal: 62.1ms\tremaining: 3.04s\n",
      "20:\tlearn: 79379.9049732\ttotal: 64.9ms\tremaining: 3.03s\n",
      "21:\tlearn: 78765.9989733\ttotal: 67.9ms\tremaining: 3.02s\n",
      "22:\tlearn: 78060.7709375\ttotal: 70.7ms\tremaining: 3s\n",
      "23:\tlearn: 77549.4050847\ttotal: 73.4ms\tremaining: 2.98s\n",
      "24:\tlearn: 77122.0485818\ttotal: 76.4ms\tremaining: 2.98s\n",
      "25:\tlearn: 76532.1010340\ttotal: 79.2ms\tremaining: 2.97s\n",
      "26:\tlearn: 76165.6285149\ttotal: 81.9ms\tremaining: 2.95s\n",
      "27:\tlearn: 75650.9313817\ttotal: 84.8ms\tremaining: 2.94s\n",
      "28:\tlearn: 75306.8515944\ttotal: 87.9ms\tremaining: 2.94s\n",
      "29:\tlearn: 74951.1544846\ttotal: 90.8ms\tremaining: 2.94s\n",
      "30:\tlearn: 74656.6907282\ttotal: 93.7ms\tremaining: 2.93s\n",
      "31:\tlearn: 74370.5655977\ttotal: 96.6ms\tremaining: 2.92s\n",
      "32:\tlearn: 74042.5640285\ttotal: 99.5ms\tremaining: 2.91s\n",
      "33:\tlearn: 73816.8426186\ttotal: 102ms\tremaining: 2.9s\n",
      "34:\tlearn: 73549.4909005\ttotal: 105ms\tremaining: 2.89s\n",
      "35:\tlearn: 73303.0474055\ttotal: 108ms\tremaining: 2.88s\n",
      "36:\tlearn: 73000.9505922\ttotal: 110ms\tremaining: 2.87s\n",
      "37:\tlearn: 72772.3749170\ttotal: 113ms\tremaining: 2.86s\n",
      "38:\tlearn: 72462.6281144\ttotal: 116ms\tremaining: 2.85s\n",
      "39:\tlearn: 72273.2874977\ttotal: 119ms\tremaining: 2.84s\n",
      "40:\tlearn: 72025.2933385\ttotal: 122ms\tremaining: 2.84s\n",
      "41:\tlearn: 71759.0181790\ttotal: 125ms\tremaining: 2.85s\n",
      "42:\tlearn: 71559.8541450\ttotal: 129ms\tremaining: 2.88s\n",
      "43:\tlearn: 71387.5518814\ttotal: 133ms\tremaining: 2.9s\n",
      "44:\tlearn: 71218.2763134\ttotal: 137ms\tremaining: 2.92s\n",
      "45:\tlearn: 71090.3163846\ttotal: 142ms\tremaining: 2.94s\n",
      "46:\tlearn: 70951.0032721\ttotal: 146ms\tremaining: 2.96s\n",
      "47:\tlearn: 70720.5343849\ttotal: 151ms\tremaining: 2.99s\n",
      "48:\tlearn: 70626.0988195\ttotal: 156ms\tremaining: 3.03s\n",
      "49:\tlearn: 70416.2828802\ttotal: 162ms\tremaining: 3.08s\n",
      "50:\tlearn: 70204.9230389\ttotal: 167ms\tremaining: 3.11s\n",
      "51:\tlearn: 70062.9937866\ttotal: 172ms\tremaining: 3.14s\n",
      "52:\tlearn: 69908.5039382\ttotal: 178ms\tremaining: 3.17s\n",
      "53:\tlearn: 69755.0841264\ttotal: 183ms\tremaining: 3.21s\n",
      "54:\tlearn: 69632.6932026\ttotal: 189ms\tremaining: 3.25s\n",
      "55:\tlearn: 69546.8449993\ttotal: 196ms\tremaining: 3.3s\n",
      "56:\tlearn: 69465.8245662\ttotal: 201ms\tremaining: 3.33s\n",
      "57:\tlearn: 69328.2639179\ttotal: 208ms\tremaining: 3.38s\n",
      "58:\tlearn: 69220.4451773\ttotal: 214ms\tremaining: 3.42s\n",
      "59:\tlearn: 69126.6199340\ttotal: 221ms\tremaining: 3.46s\n",
      "60:\tlearn: 69000.6886469\ttotal: 227ms\tremaining: 3.49s\n",
      "61:\tlearn: 68923.2878627\ttotal: 232ms\tremaining: 3.51s\n",
      "62:\tlearn: 68834.0624628\ttotal: 237ms\tremaining: 3.53s\n",
      "63:\tlearn: 68755.1258253\ttotal: 242ms\tremaining: 3.54s\n",
      "64:\tlearn: 68664.4656309\ttotal: 247ms\tremaining: 3.56s\n",
      "65:\tlearn: 68557.9599214\ttotal: 252ms\tremaining: 3.57s\n",
      "66:\tlearn: 68455.2523823\ttotal: 257ms\tremaining: 3.58s\n",
      "67:\tlearn: 68385.4535558\ttotal: 262ms\tremaining: 3.58s\n",
      "68:\tlearn: 68306.9382608\ttotal: 266ms\tremaining: 3.59s\n",
      "69:\tlearn: 68235.9398561\ttotal: 270ms\tremaining: 3.59s\n",
      "70:\tlearn: 68167.3481023\ttotal: 274ms\tremaining: 3.59s\n",
      "71:\tlearn: 68082.4955730\ttotal: 279ms\tremaining: 3.59s\n",
      "72:\tlearn: 68003.7873870\ttotal: 283ms\tremaining: 3.6s\n",
      "73:\tlearn: 67939.1233166\ttotal: 288ms\tremaining: 3.6s\n",
      "74:\tlearn: 67876.9846846\ttotal: 293ms\tremaining: 3.62s\n",
      "75:\tlearn: 67820.0290689\ttotal: 302ms\tremaining: 3.68s\n",
      "76:\tlearn: 67721.7309454\ttotal: 310ms\tremaining: 3.71s\n",
      "77:\tlearn: 67678.8786704\ttotal: 317ms\tremaining: 3.74s\n",
      "78:\tlearn: 67615.1313026\ttotal: 323ms\tremaining: 3.77s\n",
      "79:\tlearn: 67551.8374182\ttotal: 329ms\tremaining: 3.79s\n",
      "80:\tlearn: 67512.6334193\ttotal: 335ms\tremaining: 3.79s\n",
      "81:\tlearn: 67460.4257002\ttotal: 339ms\tremaining: 3.8s\n",
      "82:\tlearn: 67372.0852558\ttotal: 344ms\tremaining: 3.8s\n",
      "83:\tlearn: 67307.8098889\ttotal: 349ms\tremaining: 3.8s\n",
      "84:\tlearn: 67241.5788080\ttotal: 354ms\tremaining: 3.81s\n",
      "85:\tlearn: 67189.9236822\ttotal: 359ms\tremaining: 3.81s\n",
      "86:\tlearn: 67116.0867335\ttotal: 366ms\tremaining: 3.84s\n",
      "87:\tlearn: 67063.5380223\ttotal: 372ms\tremaining: 3.85s\n",
      "88:\tlearn: 66984.8024810\ttotal: 378ms\tremaining: 3.87s\n",
      "89:\tlearn: 66936.7607048\ttotal: 385ms\tremaining: 3.89s\n",
      "90:\tlearn: 66875.7164504\ttotal: 391ms\tremaining: 3.9s\n",
      "91:\tlearn: 66820.4289029\ttotal: 397ms\tremaining: 3.91s\n",
      "92:\tlearn: 66766.1598960\ttotal: 403ms\tremaining: 3.93s\n",
      "93:\tlearn: 66720.3403332\ttotal: 410ms\tremaining: 3.96s\n",
      "94:\tlearn: 66652.5803588\ttotal: 418ms\tremaining: 3.98s\n",
      "95:\tlearn: 66599.7467577\ttotal: 425ms\tremaining: 4s\n",
      "96:\tlearn: 66563.3482644\ttotal: 430ms\tremaining: 4s\n",
      "97:\tlearn: 66491.5847994\ttotal: 435ms\tremaining: 4.01s\n",
      "98:\tlearn: 66459.6722893\ttotal: 440ms\tremaining: 4.01s\n",
      "99:\tlearn: 66416.2450441\ttotal: 445ms\tremaining: 4s\n",
      "100:\tlearn: 66370.8092143\ttotal: 449ms\tremaining: 4s\n",
      "101:\tlearn: 66317.5015734\ttotal: 454ms\tremaining: 3.99s\n",
      "102:\tlearn: 66277.8310066\ttotal: 458ms\tremaining: 3.99s\n",
      "103:\tlearn: 66220.6395338\ttotal: 462ms\tremaining: 3.98s\n",
      "104:\tlearn: 66178.1689104\ttotal: 467ms\tremaining: 3.98s\n",
      "105:\tlearn: 66123.5651292\ttotal: 472ms\tremaining: 3.98s\n",
      "106:\tlearn: 66068.3131190\ttotal: 479ms\tremaining: 3.99s\n",
      "107:\tlearn: 65995.2642390\ttotal: 484ms\tremaining: 4s\n",
      "108:\tlearn: 65949.3321259\ttotal: 490ms\tremaining: 4s\n",
      "109:\tlearn: 65916.1972746\ttotal: 495ms\tremaining: 4s\n",
      "110:\tlearn: 65864.8856635\ttotal: 500ms\tremaining: 4.01s\n",
      "111:\tlearn: 65823.3174253\ttotal: 506ms\tremaining: 4.01s\n",
      "112:\tlearn: 65771.6425910\ttotal: 511ms\tremaining: 4.01s\n",
      "113:\tlearn: 65745.4393240\ttotal: 516ms\tremaining: 4.01s\n",
      "114:\tlearn: 65717.7415204\ttotal: 521ms\tremaining: 4.01s\n",
      "115:\tlearn: 65680.1214603\ttotal: 526ms\tremaining: 4s\n",
      "116:\tlearn: 65650.9447266\ttotal: 531ms\tremaining: 4s\n",
      "117:\tlearn: 65614.6181569\ttotal: 535ms\tremaining: 4s\n",
      "118:\tlearn: 65567.5118648\ttotal: 541ms\tremaining: 4.01s\n",
      "119:\tlearn: 65542.1450442\ttotal: 548ms\tremaining: 4.02s\n",
      "120:\tlearn: 65508.1337205\ttotal: 556ms\tremaining: 4.04s\n",
      "121:\tlearn: 65465.7793794\ttotal: 563ms\tremaining: 4.05s\n",
      "122:\tlearn: 65424.0749912\ttotal: 570ms\tremaining: 4.06s\n",
      "123:\tlearn: 65374.2182207\ttotal: 577ms\tremaining: 4.08s\n",
      "124:\tlearn: 65326.4616262\ttotal: 584ms\tremaining: 4.08s\n",
      "125:\tlearn: 65292.3777890\ttotal: 589ms\tremaining: 4.09s\n",
      "126:\tlearn: 65256.6659623\ttotal: 595ms\tremaining: 4.09s\n",
      "127:\tlearn: 65229.7672812\ttotal: 601ms\tremaining: 4.09s\n",
      "128:\tlearn: 65189.6869576\ttotal: 607ms\tremaining: 4.1s\n",
      "129:\tlearn: 65143.5225429\ttotal: 614ms\tremaining: 4.11s\n",
      "130:\tlearn: 65111.1306479\ttotal: 620ms\tremaining: 4.11s\n",
      "131:\tlearn: 65083.6727766\ttotal: 626ms\tremaining: 4.11s\n",
      "132:\tlearn: 65058.7613482\ttotal: 631ms\tremaining: 4.11s\n",
      "133:\tlearn: 65026.2864086\ttotal: 636ms\tremaining: 4.11s\n",
      "134:\tlearn: 64983.3938431\ttotal: 640ms\tremaining: 4.1s\n",
      "135:\tlearn: 64951.0531122\ttotal: 645ms\tremaining: 4.1s\n",
      "136:\tlearn: 64918.8256952\ttotal: 649ms\tremaining: 4.09s\n",
      "137:\tlearn: 64887.5734546\ttotal: 653ms\tremaining: 4.08s\n",
      "138:\tlearn: 64849.8005842\ttotal: 657ms\tremaining: 4.07s\n",
      "139:\tlearn: 64796.3216489\ttotal: 661ms\tremaining: 4.06s\n",
      "140:\tlearn: 64746.1592991\ttotal: 665ms\tremaining: 4.05s\n",
      "141:\tlearn: 64723.6826606\ttotal: 669ms\tremaining: 4.04s\n",
      "142:\tlearn: 64700.7159874\ttotal: 673ms\tremaining: 4.03s\n",
      "143:\tlearn: 64668.8442843\ttotal: 677ms\tremaining: 4.02s\n",
      "144:\tlearn: 64642.5891010\ttotal: 681ms\tremaining: 4.01s\n",
      "145:\tlearn: 64597.2728325\ttotal: 685ms\tremaining: 4.01s\n",
      "146:\tlearn: 64561.2206688\ttotal: 689ms\tremaining: 4s\n",
      "147:\tlearn: 64530.1973147\ttotal: 694ms\tremaining: 3.99s\n",
      "148:\tlearn: 64475.3777271\ttotal: 699ms\tremaining: 3.99s\n",
      "149:\tlearn: 64439.5046708\ttotal: 704ms\tremaining: 3.99s\n",
      "150:\tlearn: 64407.8276988\ttotal: 709ms\tremaining: 3.99s\n",
      "151:\tlearn: 64364.7024187\ttotal: 715ms\tremaining: 3.99s\n",
      "152:\tlearn: 64323.1370842\ttotal: 721ms\tremaining: 3.99s\n",
      "153:\tlearn: 64280.9688929\ttotal: 727ms\tremaining: 3.99s\n",
      "154:\tlearn: 64256.2142640\ttotal: 733ms\tremaining: 4s\n",
      "155:\tlearn: 64218.1834424\ttotal: 740ms\tremaining: 4s\n",
      "156:\tlearn: 64180.6632469\ttotal: 746ms\tremaining: 4.01s\n",
      "157:\tlearn: 64148.6042266\ttotal: 752ms\tremaining: 4.01s\n",
      "158:\tlearn: 64122.4756489\ttotal: 758ms\tremaining: 4.01s\n",
      "159:\tlearn: 64089.6169703\ttotal: 764ms\tremaining: 4.01s\n",
      "160:\tlearn: 64047.5718448\ttotal: 771ms\tremaining: 4.02s\n",
      "161:\tlearn: 64019.3508842\ttotal: 778ms\tremaining: 4.03s\n",
      "162:\tlearn: 63988.2483759\ttotal: 785ms\tremaining: 4.03s\n",
      "163:\tlearn: 63964.3205925\ttotal: 791ms\tremaining: 4.03s\n",
      "164:\tlearn: 63935.8184465\ttotal: 798ms\tremaining: 4.04s\n",
      "165:\tlearn: 63905.4123997\ttotal: 805ms\tremaining: 4.04s\n",
      "166:\tlearn: 63880.2588533\ttotal: 813ms\tremaining: 4.05s\n"
     ]
    },
    {
     "name": "stdout",
     "output_type": "stream",
     "text": [
      "167:\tlearn: 63858.3672105\ttotal: 822ms\tremaining: 4.07s\n",
      "168:\tlearn: 63828.0959444\ttotal: 832ms\tremaining: 4.09s\n",
      "169:\tlearn: 63792.0401920\ttotal: 841ms\tremaining: 4.11s\n",
      "170:\tlearn: 63755.2547514\ttotal: 849ms\tremaining: 4.12s\n",
      "171:\tlearn: 63718.8463416\ttotal: 856ms\tremaining: 4.12s\n",
      "172:\tlearn: 63688.3869755\ttotal: 862ms\tremaining: 4.12s\n",
      "173:\tlearn: 63647.9477025\ttotal: 867ms\tremaining: 4.11s\n",
      "174:\tlearn: 63616.2117963\ttotal: 872ms\tremaining: 4.11s\n",
      "175:\tlearn: 63594.5088392\ttotal: 877ms\tremaining: 4.11s\n",
      "176:\tlearn: 63542.5774748\ttotal: 881ms\tremaining: 4.1s\n",
      "177:\tlearn: 63504.9349460\ttotal: 886ms\tremaining: 4.09s\n",
      "178:\tlearn: 63452.9498499\ttotal: 890ms\tremaining: 4.08s\n",
      "179:\tlearn: 63426.9303078\ttotal: 895ms\tremaining: 4.08s\n",
      "180:\tlearn: 63401.8744120\ttotal: 901ms\tremaining: 4.08s\n",
      "181:\tlearn: 63364.2761381\ttotal: 908ms\tremaining: 4.08s\n",
      "182:\tlearn: 63331.4450102\ttotal: 915ms\tremaining: 4.08s\n",
      "183:\tlearn: 63296.5356124\ttotal: 922ms\tremaining: 4.09s\n",
      "184:\tlearn: 63266.6858478\ttotal: 930ms\tremaining: 4.1s\n",
      "185:\tlearn: 63234.4479180\ttotal: 938ms\tremaining: 4.11s\n",
      "186:\tlearn: 63208.5098572\ttotal: 948ms\tremaining: 4.12s\n",
      "187:\tlearn: 63167.9715407\ttotal: 959ms\tremaining: 4.14s\n",
      "188:\tlearn: 63137.6149402\ttotal: 969ms\tremaining: 4.16s\n",
      "189:\tlearn: 63094.7292683\ttotal: 981ms\tremaining: 4.18s\n",
      "190:\tlearn: 63056.3434686\ttotal: 993ms\tremaining: 4.21s\n",
      "191:\tlearn: 63027.8783990\ttotal: 1s\tremaining: 4.22s\n",
      "192:\tlearn: 62994.4890453\ttotal: 1.01s\tremaining: 4.24s\n",
      "193:\tlearn: 62972.6487192\ttotal: 1.02s\tremaining: 4.25s\n",
      "194:\tlearn: 62931.0496077\ttotal: 1.03s\tremaining: 4.26s\n",
      "195:\tlearn: 62907.2885171\ttotal: 1.04s\tremaining: 4.26s\n",
      "196:\tlearn: 62873.5881015\ttotal: 1.05s\tremaining: 4.26s\n",
      "197:\tlearn: 62839.7364061\ttotal: 1.05s\tremaining: 4.27s\n",
      "198:\tlearn: 62802.1008340\ttotal: 1.06s\tremaining: 4.26s\n",
      "199:\tlearn: 62762.6215919\ttotal: 1.06s\tremaining: 4.26s\n",
      "200:\tlearn: 62716.1953745\ttotal: 1.07s\tremaining: 4.25s\n",
      "201:\tlearn: 62685.6469645\ttotal: 1.07s\tremaining: 4.24s\n",
      "202:\tlearn: 62656.9581479\ttotal: 1.08s\tremaining: 4.24s\n",
      "203:\tlearn: 62627.3683801\ttotal: 1.08s\tremaining: 4.24s\n",
      "204:\tlearn: 62609.3028069\ttotal: 1.09s\tremaining: 4.23s\n",
      "205:\tlearn: 62580.4678614\ttotal: 1.1s\tremaining: 4.23s\n",
      "206:\tlearn: 62545.5273706\ttotal: 1.1s\tremaining: 4.23s\n",
      "207:\tlearn: 62507.8248856\ttotal: 1.11s\tremaining: 4.22s\n",
      "208:\tlearn: 62472.9980443\ttotal: 1.11s\tremaining: 4.22s\n",
      "209:\tlearn: 62435.5071772\ttotal: 1.12s\tremaining: 4.21s\n",
      "210:\tlearn: 62403.0325899\ttotal: 1.13s\tremaining: 4.22s\n",
      "211:\tlearn: 62385.2726879\ttotal: 1.14s\tremaining: 4.22s\n",
      "212:\tlearn: 62351.9377015\ttotal: 1.15s\tremaining: 4.23s\n",
      "213:\tlearn: 62319.0978031\ttotal: 1.16s\tremaining: 4.24s\n",
      "214:\tlearn: 62293.2695132\ttotal: 1.16s\tremaining: 4.25s\n",
      "215:\tlearn: 62262.7882829\ttotal: 1.17s\tremaining: 4.26s\n",
      "216:\tlearn: 62241.6769210\ttotal: 1.18s\tremaining: 4.27s\n",
      "217:\tlearn: 62212.7312502\ttotal: 1.2s\tremaining: 4.29s\n",
      "218:\tlearn: 62159.9420327\ttotal: 1.21s\tremaining: 4.31s\n",
      "219:\tlearn: 62127.7943700\ttotal: 1.22s\tremaining: 4.33s\n",
      "220:\tlearn: 62108.2085936\ttotal: 1.23s\tremaining: 4.34s\n",
      "221:\tlearn: 62081.2640960\ttotal: 1.24s\tremaining: 4.36s\n",
      "222:\tlearn: 62065.5146761\ttotal: 1.25s\tremaining: 4.37s\n",
      "223:\tlearn: 62030.5704562\ttotal: 1.26s\tremaining: 4.38s\n",
      "224:\tlearn: 62005.9463344\ttotal: 1.28s\tremaining: 4.4s\n",
      "225:\tlearn: 61976.0100643\ttotal: 1.29s\tremaining: 4.42s\n",
      "226:\tlearn: 61950.6249648\ttotal: 1.3s\tremaining: 4.43s\n",
      "227:\tlearn: 61924.5940556\ttotal: 1.31s\tremaining: 4.44s\n",
      "228:\tlearn: 61896.4347322\ttotal: 1.32s\tremaining: 4.45s\n",
      "229:\tlearn: 61865.5775848\ttotal: 1.33s\tremaining: 4.46s\n",
      "230:\tlearn: 61844.4235856\ttotal: 1.34s\tremaining: 4.48s\n",
      "231:\tlearn: 61821.3215527\ttotal: 1.35s\tremaining: 4.49s\n",
      "232:\tlearn: 61791.2430030\ttotal: 1.37s\tremaining: 4.5s\n",
      "233:\tlearn: 61759.6166085\ttotal: 1.38s\tremaining: 4.51s\n",
      "234:\tlearn: 61733.8247769\ttotal: 1.39s\tremaining: 4.52s\n",
      "235:\tlearn: 61720.4330330\ttotal: 1.4s\tremaining: 4.53s\n",
      "236:\tlearn: 61695.3436395\ttotal: 1.41s\tremaining: 4.54s\n",
      "237:\tlearn: 61666.2477041\ttotal: 1.42s\tremaining: 4.55s\n",
      "238:\tlearn: 61632.5569424\ttotal: 1.43s\tremaining: 4.56s\n",
      "239:\tlearn: 61608.1605328\ttotal: 1.44s\tremaining: 4.57s\n",
      "240:\tlearn: 61572.9136912\ttotal: 1.46s\tremaining: 4.58s\n",
      "241:\tlearn: 61543.4951127\ttotal: 1.47s\tremaining: 4.59s\n",
      "242:\tlearn: 61520.4128276\ttotal: 1.48s\tremaining: 4.6s\n",
      "243:\tlearn: 61502.2203268\ttotal: 1.49s\tremaining: 4.61s\n",
      "244:\tlearn: 61476.3866700\ttotal: 1.5s\tremaining: 4.62s\n",
      "245:\tlearn: 61459.6923291\ttotal: 1.51s\tremaining: 4.63s\n",
      "246:\tlearn: 61430.6389119\ttotal: 1.52s\tremaining: 4.64s\n",
      "247:\tlearn: 61408.6292462\ttotal: 1.53s\tremaining: 4.65s\n",
      "248:\tlearn: 61380.0328841\ttotal: 1.54s\tremaining: 4.66s\n",
      "249:\tlearn: 61345.7749430\ttotal: 1.55s\tremaining: 4.67s\n",
      "250:\tlearn: 61317.5532504\ttotal: 1.57s\tremaining: 4.67s\n",
      "251:\tlearn: 61290.1514483\ttotal: 1.58s\tremaining: 4.68s\n",
      "252:\tlearn: 61260.9314323\ttotal: 1.59s\tremaining: 4.69s\n",
      "253:\tlearn: 61235.1531921\ttotal: 1.6s\tremaining: 4.7s\n",
      "254:\tlearn: 61214.3770146\ttotal: 1.61s\tremaining: 4.71s\n",
      "255:\tlearn: 61194.5314714\ttotal: 1.62s\tremaining: 4.71s\n",
      "256:\tlearn: 61169.9513084\ttotal: 1.63s\tremaining: 4.72s\n",
      "257:\tlearn: 61120.5316426\ttotal: 1.65s\tremaining: 4.73s\n",
      "258:\tlearn: 61097.8413968\ttotal: 1.66s\tremaining: 4.74s\n",
      "259:\tlearn: 61070.5653985\ttotal: 1.67s\tremaining: 4.75s\n",
      "260:\tlearn: 61037.2772109\ttotal: 1.68s\tremaining: 4.75s\n",
      "261:\tlearn: 61017.3888137\ttotal: 1.69s\tremaining: 4.76s\n",
      "262:\tlearn: 60990.4709373\ttotal: 1.7s\tremaining: 4.77s\n",
      "263:\tlearn: 60970.6867904\ttotal: 1.71s\tremaining: 4.77s\n",
      "264:\tlearn: 60951.5356137\ttotal: 1.72s\tremaining: 4.78s\n",
      "265:\tlearn: 60929.0541653\ttotal: 1.73s\tremaining: 4.79s\n",
      "266:\tlearn: 60910.1742728\ttotal: 1.75s\tremaining: 4.79s\n",
      "267:\tlearn: 60891.8462076\ttotal: 1.76s\tremaining: 4.8s\n",
      "268:\tlearn: 60873.7133000\ttotal: 1.77s\tremaining: 4.8s\n",
      "269:\tlearn: 60850.7799313\ttotal: 1.78s\tremaining: 4.81s\n",
      "270:\tlearn: 60837.4754696\ttotal: 1.79s\tremaining: 4.82s\n",
      "271:\tlearn: 60819.4164687\ttotal: 1.8s\tremaining: 4.82s\n",
      "272:\tlearn: 60799.9055387\ttotal: 1.81s\tremaining: 4.83s\n",
      "273:\tlearn: 60779.2652060\ttotal: 1.82s\tremaining: 4.83s\n",
      "274:\tlearn: 60743.4172052\ttotal: 1.83s\tremaining: 4.84s\n",
      "275:\tlearn: 60722.1821749\ttotal: 1.84s\tremaining: 4.84s\n",
      "276:\tlearn: 60705.1824809\ttotal: 1.86s\tremaining: 4.84s\n",
      "277:\tlearn: 60682.5451489\ttotal: 1.87s\tremaining: 4.85s\n",
      "278:\tlearn: 60650.1297746\ttotal: 1.88s\tremaining: 4.86s\n",
      "279:\tlearn: 60623.0739007\ttotal: 1.89s\tremaining: 4.86s\n",
      "280:\tlearn: 60596.0036726\ttotal: 1.9s\tremaining: 4.87s\n",
      "281:\tlearn: 60572.4672847\ttotal: 1.91s\tremaining: 4.87s\n",
      "282:\tlearn: 60546.6179778\ttotal: 1.92s\tremaining: 4.87s\n",
      "283:\tlearn: 60516.9634246\ttotal: 1.94s\tremaining: 4.88s\n",
      "284:\tlearn: 60497.3132167\ttotal: 1.95s\tremaining: 4.89s\n",
      "285:\tlearn: 60475.2759660\ttotal: 1.96s\tremaining: 4.89s\n",
      "286:\tlearn: 60447.4747675\ttotal: 1.97s\tremaining: 4.89s\n",
      "287:\tlearn: 60413.8180365\ttotal: 1.98s\tremaining: 4.89s\n",
      "288:\tlearn: 60390.4303096\ttotal: 1.99s\tremaining: 4.88s\n",
      "289:\tlearn: 60368.1083903\ttotal: 1.99s\tremaining: 4.88s\n",
      "290:\tlearn: 60350.0178545\ttotal: 2s\tremaining: 4.86s\n",
      "291:\tlearn: 60324.5457312\ttotal: 2s\tremaining: 4.85s\n",
      "292:\tlearn: 60308.1747560\ttotal: 2s\tremaining: 4.84s\n",
      "293:\tlearn: 60287.6646775\ttotal: 2.01s\tremaining: 4.83s\n",
      "294:\tlearn: 60270.3044856\ttotal: 2.02s\tremaining: 4.82s\n",
      "295:\tlearn: 60228.8494575\ttotal: 2.02s\tremaining: 4.8s\n",
      "296:\tlearn: 60202.7115472\ttotal: 2.03s\tremaining: 4.8s\n",
      "297:\tlearn: 60180.3884063\ttotal: 2.03s\tremaining: 4.79s\n",
      "298:\tlearn: 60157.2924931\ttotal: 2.04s\tremaining: 4.78s\n",
      "299:\tlearn: 60140.9130746\ttotal: 2.04s\tremaining: 4.77s\n",
      "300:\tlearn: 60119.4548993\ttotal: 2.05s\tremaining: 4.76s\n",
      "301:\tlearn: 60088.5152177\ttotal: 2.06s\tremaining: 4.76s\n",
      "302:\tlearn: 60064.0107370\ttotal: 2.06s\tremaining: 4.75s\n",
      "303:\tlearn: 60041.5192969\ttotal: 2.07s\tremaining: 4.74s\n",
      "304:\tlearn: 60017.2775217\ttotal: 2.08s\tremaining: 4.74s\n",
      "305:\tlearn: 59998.7192882\ttotal: 2.08s\tremaining: 4.73s\n",
      "306:\tlearn: 59977.4718732\ttotal: 2.09s\tremaining: 4.72s\n",
      "307:\tlearn: 59957.0495313\ttotal: 2.1s\tremaining: 4.72s\n",
      "308:\tlearn: 59925.1415108\ttotal: 2.11s\tremaining: 4.71s\n",
      "309:\tlearn: 59908.3384966\ttotal: 2.11s\tremaining: 4.7s\n",
      "310:\tlearn: 59890.2886999\ttotal: 2.12s\tremaining: 4.69s\n",
      "311:\tlearn: 59871.0832683\ttotal: 2.12s\tremaining: 4.68s\n",
      "312:\tlearn: 59840.2057308\ttotal: 2.13s\tremaining: 4.67s\n",
      "313:\tlearn: 59822.9982167\ttotal: 2.13s\tremaining: 4.65s\n",
      "314:\tlearn: 59810.7232618\ttotal: 2.13s\tremaining: 4.64s\n",
      "315:\tlearn: 59783.7369472\ttotal: 2.14s\tremaining: 4.63s\n",
      "316:\tlearn: 59761.3560997\ttotal: 2.14s\tremaining: 4.62s\n",
      "317:\tlearn: 59729.5856470\ttotal: 2.15s\tremaining: 4.61s\n",
      "318:\tlearn: 59700.1357894\ttotal: 2.15s\tremaining: 4.6s\n",
      "319:\tlearn: 59681.3971203\ttotal: 2.16s\tremaining: 4.59s\n",
      "320:\tlearn: 59665.0524160\ttotal: 2.16s\tremaining: 4.58s\n",
      "321:\tlearn: 59643.5378817\ttotal: 2.17s\tremaining: 4.57s\n",
      "322:\tlearn: 59625.6441234\ttotal: 2.17s\tremaining: 4.55s\n",
      "323:\tlearn: 59606.3068133\ttotal: 2.18s\tremaining: 4.54s\n",
      "324:\tlearn: 59590.3292185\ttotal: 2.18s\tremaining: 4.53s\n",
      "325:\tlearn: 59571.6096838\ttotal: 2.19s\tremaining: 4.52s\n",
      "326:\tlearn: 59549.9474876\ttotal: 2.19s\tremaining: 4.51s\n",
      "327:\tlearn: 59535.5265635\ttotal: 2.19s\tremaining: 4.5s\n",
      "328:\tlearn: 59516.4928097\ttotal: 2.2s\tremaining: 4.49s\n",
      "329:\tlearn: 59499.1838470\ttotal: 2.21s\tremaining: 4.48s\n",
      "330:\tlearn: 59484.4023200\ttotal: 2.21s\tremaining: 4.47s\n",
      "331:\tlearn: 59464.2755073\ttotal: 2.22s\tremaining: 4.46s\n",
      "332:\tlearn: 59446.5161482\ttotal: 2.22s\tremaining: 4.45s\n",
      "333:\tlearn: 59426.1647605\ttotal: 2.23s\tremaining: 4.44s\n",
      "334:\tlearn: 59395.9259740\ttotal: 2.23s\tremaining: 4.43s\n",
      "335:\tlearn: 59368.5795283\ttotal: 2.24s\tremaining: 4.42s\n",
      "336:\tlearn: 59351.5569396\ttotal: 2.24s\tremaining: 4.42s\n",
      "337:\tlearn: 59336.2352950\ttotal: 2.25s\tremaining: 4.41s\n",
      "338:\tlearn: 59317.7027743\ttotal: 2.25s\tremaining: 4.4s\n",
      "339:\tlearn: 59295.1335302\ttotal: 2.26s\tremaining: 4.39s\n",
      "340:\tlearn: 59281.9052158\ttotal: 2.27s\tremaining: 4.38s\n"
     ]
    },
    {
     "name": "stdout",
     "output_type": "stream",
     "text": [
      "341:\tlearn: 59265.3708891\ttotal: 2.27s\tremaining: 4.37s\n",
      "342:\tlearn: 59253.1990385\ttotal: 2.28s\tremaining: 4.36s\n",
      "343:\tlearn: 59230.5419759\ttotal: 2.28s\tremaining: 4.35s\n",
      "344:\tlearn: 59211.6117937\ttotal: 2.29s\tremaining: 4.34s\n",
      "345:\tlearn: 59180.2269940\ttotal: 2.29s\tremaining: 4.33s\n",
      "346:\tlearn: 59155.5426686\ttotal: 2.29s\tremaining: 4.32s\n",
      "347:\tlearn: 59140.0449865\ttotal: 2.3s\tremaining: 4.31s\n",
      "348:\tlearn: 59114.8419697\ttotal: 2.3s\tremaining: 4.29s\n",
      "349:\tlearn: 59085.0723618\ttotal: 2.31s\tremaining: 4.28s\n",
      "350:\tlearn: 59067.2579226\ttotal: 2.31s\tremaining: 4.27s\n",
      "351:\tlearn: 59045.4761926\ttotal: 2.31s\tremaining: 4.26s\n",
      "352:\tlearn: 59019.4857829\ttotal: 2.32s\tremaining: 4.24s\n",
      "353:\tlearn: 59004.8880497\ttotal: 2.32s\tremaining: 4.23s\n",
      "354:\tlearn: 58979.7554564\ttotal: 2.32s\tremaining: 4.22s\n",
      "355:\tlearn: 58956.6350304\ttotal: 2.33s\tremaining: 4.21s\n",
      "356:\tlearn: 58929.7874001\ttotal: 2.33s\tremaining: 4.2s\n",
      "357:\tlearn: 58911.9819147\ttotal: 2.34s\tremaining: 4.19s\n",
      "358:\tlearn: 58895.3678505\ttotal: 2.34s\tremaining: 4.18s\n",
      "359:\tlearn: 58880.0493617\ttotal: 2.35s\tremaining: 4.17s\n",
      "360:\tlearn: 58855.4621600\ttotal: 2.35s\tremaining: 4.16s\n",
      "361:\tlearn: 58840.6718937\ttotal: 2.36s\tremaining: 4.16s\n",
      "362:\tlearn: 58827.5503387\ttotal: 2.36s\tremaining: 4.15s\n",
      "363:\tlearn: 58809.7311116\ttotal: 2.37s\tremaining: 4.14s\n",
      "364:\tlearn: 58791.5679403\ttotal: 2.38s\tremaining: 4.14s\n",
      "365:\tlearn: 58768.4173642\ttotal: 2.39s\tremaining: 4.14s\n",
      "366:\tlearn: 58747.6373575\ttotal: 2.39s\tremaining: 4.13s\n",
      "367:\tlearn: 58735.0345478\ttotal: 2.4s\tremaining: 4.12s\n",
      "368:\tlearn: 58718.7633524\ttotal: 2.41s\tremaining: 4.11s\n",
      "369:\tlearn: 58684.1437945\ttotal: 2.41s\tremaining: 4.11s\n",
      "370:\tlearn: 58662.6646740\ttotal: 2.42s\tremaining: 4.1s\n",
      "371:\tlearn: 58644.5798722\ttotal: 2.42s\tremaining: 4.09s\n",
      "372:\tlearn: 58629.7554361\ttotal: 2.42s\tremaining: 4.07s\n",
      "373:\tlearn: 58600.4669553\ttotal: 2.43s\tremaining: 4.06s\n",
      "374:\tlearn: 58585.8693813\ttotal: 2.43s\tremaining: 4.05s\n",
      "375:\tlearn: 58571.7420940\ttotal: 2.44s\tremaining: 4.04s\n",
      "376:\tlearn: 58552.3485527\ttotal: 2.44s\tremaining: 4.03s\n",
      "377:\tlearn: 58529.0289186\ttotal: 2.44s\tremaining: 4.02s\n",
      "378:\tlearn: 58512.9673790\ttotal: 2.45s\tremaining: 4.01s\n",
      "379:\tlearn: 58495.4470469\ttotal: 2.46s\tremaining: 4.01s\n",
      "380:\tlearn: 58482.1829613\ttotal: 2.46s\tremaining: 4s\n",
      "381:\tlearn: 58467.0353777\ttotal: 2.46s\tremaining: 3.99s\n",
      "382:\tlearn: 58456.7846062\ttotal: 2.47s\tremaining: 3.98s\n",
      "383:\tlearn: 58432.7122254\ttotal: 2.47s\tremaining: 3.97s\n",
      "384:\tlearn: 58417.6178425\ttotal: 2.48s\tremaining: 3.96s\n",
      "385:\tlearn: 58404.0084962\ttotal: 2.48s\tremaining: 3.95s\n",
      "386:\tlearn: 58391.1851346\ttotal: 2.49s\tremaining: 3.94s\n",
      "387:\tlearn: 58363.9388778\ttotal: 2.49s\tremaining: 3.93s\n",
      "388:\tlearn: 58345.4825417\ttotal: 2.5s\tremaining: 3.92s\n",
      "389:\tlearn: 58329.8361972\ttotal: 2.5s\tremaining: 3.92s\n",
      "390:\tlearn: 58304.3848221\ttotal: 2.51s\tremaining: 3.91s\n",
      "391:\tlearn: 58289.6851317\ttotal: 2.52s\tremaining: 3.9s\n",
      "392:\tlearn: 58277.4928132\ttotal: 2.52s\tremaining: 3.9s\n",
      "393:\tlearn: 58255.5173160\ttotal: 2.53s\tremaining: 3.89s\n",
      "394:\tlearn: 58229.4230194\ttotal: 2.53s\tremaining: 3.88s\n",
      "395:\tlearn: 58215.3612742\ttotal: 2.54s\tremaining: 3.88s\n",
      "396:\tlearn: 58203.7349751\ttotal: 2.55s\tremaining: 3.87s\n",
      "397:\tlearn: 58186.5864219\ttotal: 2.55s\tremaining: 3.86s\n",
      "398:\tlearn: 58170.9366700\ttotal: 2.56s\tremaining: 3.85s\n",
      "399:\tlearn: 58150.7525985\ttotal: 2.56s\tremaining: 3.85s\n",
      "400:\tlearn: 58132.7706140\ttotal: 2.57s\tremaining: 3.84s\n",
      "401:\tlearn: 58116.7580930\ttotal: 2.58s\tremaining: 3.83s\n",
      "402:\tlearn: 58096.6090638\ttotal: 2.58s\tremaining: 3.82s\n",
      "403:\tlearn: 58066.2412877\ttotal: 2.59s\tremaining: 3.82s\n",
      "404:\tlearn: 58045.5763008\ttotal: 2.59s\tremaining: 3.81s\n",
      "405:\tlearn: 58026.1701896\ttotal: 2.6s\tremaining: 3.8s\n",
      "406:\tlearn: 58003.6771905\ttotal: 2.61s\tremaining: 3.8s\n",
      "407:\tlearn: 57990.5329805\ttotal: 2.61s\tremaining: 3.79s\n",
      "408:\tlearn: 57978.5624696\ttotal: 2.62s\tremaining: 3.79s\n",
      "409:\tlearn: 57967.0558054\ttotal: 2.63s\tremaining: 3.78s\n",
      "410:\tlearn: 57957.3218639\ttotal: 2.63s\tremaining: 3.77s\n",
      "411:\tlearn: 57939.3671976\ttotal: 2.64s\tremaining: 3.76s\n",
      "412:\tlearn: 57928.9661513\ttotal: 2.64s\tremaining: 3.76s\n",
      "413:\tlearn: 57916.4857305\ttotal: 2.65s\tremaining: 3.75s\n",
      "414:\tlearn: 57904.9484108\ttotal: 2.65s\tremaining: 3.74s\n",
      "415:\tlearn: 57887.9370287\ttotal: 2.66s\tremaining: 3.73s\n",
      "416:\tlearn: 57867.8405046\ttotal: 2.67s\tremaining: 3.73s\n",
      "417:\tlearn: 57851.5174454\ttotal: 2.67s\tremaining: 3.72s\n",
      "418:\tlearn: 57843.1189947\ttotal: 2.68s\tremaining: 3.71s\n",
      "419:\tlearn: 57826.3421250\ttotal: 2.68s\tremaining: 3.71s\n",
      "420:\tlearn: 57809.1689431\ttotal: 2.69s\tremaining: 3.7s\n",
      "421:\tlearn: 57797.3536781\ttotal: 2.7s\tremaining: 3.69s\n",
      "422:\tlearn: 57778.4415848\ttotal: 2.7s\tremaining: 3.69s\n",
      "423:\tlearn: 57760.3321132\ttotal: 2.71s\tremaining: 3.68s\n",
      "424:\tlearn: 57744.8018644\ttotal: 2.72s\tremaining: 3.68s\n",
      "425:\tlearn: 57730.5871262\ttotal: 2.73s\tremaining: 3.67s\n",
      "426:\tlearn: 57713.3083699\ttotal: 2.73s\tremaining: 3.67s\n",
      "427:\tlearn: 57702.1933172\ttotal: 2.74s\tremaining: 3.67s\n",
      "428:\tlearn: 57681.3966976\ttotal: 2.75s\tremaining: 3.66s\n",
      "429:\tlearn: 57656.1528465\ttotal: 2.76s\tremaining: 3.65s\n",
      "430:\tlearn: 57637.5366759\ttotal: 2.76s\tremaining: 3.65s\n",
      "431:\tlearn: 57624.4966363\ttotal: 2.77s\tremaining: 3.64s\n",
      "432:\tlearn: 57609.3741975\ttotal: 2.78s\tremaining: 3.64s\n",
      "433:\tlearn: 57598.7367942\ttotal: 2.79s\tremaining: 3.63s\n",
      "434:\tlearn: 57569.2280087\ttotal: 2.79s\tremaining: 3.63s\n",
      "435:\tlearn: 57555.0920126\ttotal: 2.8s\tremaining: 3.62s\n",
      "436:\tlearn: 57545.6325897\ttotal: 2.8s\tremaining: 3.61s\n",
      "437:\tlearn: 57530.3349639\ttotal: 2.81s\tremaining: 3.6s\n",
      "438:\tlearn: 57515.5804422\ttotal: 2.82s\tremaining: 3.6s\n",
      "439:\tlearn: 57496.9354979\ttotal: 2.82s\tremaining: 3.59s\n",
      "440:\tlearn: 57474.5836868\ttotal: 2.83s\tremaining: 3.59s\n",
      "441:\tlearn: 57464.0840388\ttotal: 2.83s\tremaining: 3.58s\n",
      "442:\tlearn: 57444.0113296\ttotal: 2.84s\tremaining: 3.57s\n",
      "443:\tlearn: 57432.6382023\ttotal: 2.85s\tremaining: 3.56s\n",
      "444:\tlearn: 57413.6368829\ttotal: 2.85s\tremaining: 3.55s\n",
      "445:\tlearn: 57389.4585926\ttotal: 2.85s\tremaining: 3.54s\n",
      "446:\tlearn: 57370.1639251\ttotal: 2.86s\tremaining: 3.54s\n",
      "447:\tlearn: 57351.2834893\ttotal: 2.86s\tremaining: 3.52s\n",
      "448:\tlearn: 57341.4437579\ttotal: 2.87s\tremaining: 3.52s\n",
      "449:\tlearn: 57325.5085277\ttotal: 2.87s\tremaining: 3.51s\n",
      "450:\tlearn: 57309.3882946\ttotal: 2.87s\tremaining: 3.5s\n",
      "451:\tlearn: 57288.6522240\ttotal: 2.88s\tremaining: 3.49s\n",
      "452:\tlearn: 57277.6505223\ttotal: 2.88s\tremaining: 3.48s\n",
      "453:\tlearn: 57258.5667635\ttotal: 2.88s\tremaining: 3.47s\n",
      "454:\tlearn: 57247.1444729\ttotal: 2.89s\tremaining: 3.46s\n",
      "455:\tlearn: 57238.5874447\ttotal: 2.89s\tremaining: 3.45s\n",
      "456:\tlearn: 57229.5672887\ttotal: 2.9s\tremaining: 3.44s\n",
      "457:\tlearn: 57217.0212157\ttotal: 2.9s\tremaining: 3.43s\n",
      "458:\tlearn: 57202.3586018\ttotal: 2.9s\tremaining: 3.42s\n",
      "459:\tlearn: 57186.2673217\ttotal: 2.91s\tremaining: 3.42s\n",
      "460:\tlearn: 57175.4133168\ttotal: 2.91s\tremaining: 3.41s\n",
      "461:\tlearn: 57161.6458390\ttotal: 2.92s\tremaining: 3.4s\n",
      "462:\tlearn: 57149.5296684\ttotal: 2.92s\tremaining: 3.39s\n",
      "463:\tlearn: 57129.2090177\ttotal: 2.92s\tremaining: 3.38s\n",
      "464:\tlearn: 57118.6419067\ttotal: 2.93s\tremaining: 3.37s\n",
      "465:\tlearn: 57112.3746969\ttotal: 2.93s\tremaining: 3.36s\n",
      "466:\tlearn: 57079.3022329\ttotal: 2.94s\tremaining: 3.35s\n",
      "467:\tlearn: 57069.3389317\ttotal: 2.94s\tremaining: 3.34s\n",
      "468:\tlearn: 57053.3876287\ttotal: 2.94s\tremaining: 3.33s\n",
      "469:\tlearn: 57042.6373485\ttotal: 2.95s\tremaining: 3.32s\n",
      "470:\tlearn: 57032.2686269\ttotal: 2.95s\tremaining: 3.31s\n",
      "471:\tlearn: 57007.2807314\ttotal: 2.95s\tremaining: 3.3s\n",
      "472:\tlearn: 56991.3721965\ttotal: 2.95s\tremaining: 3.29s\n",
      "473:\tlearn: 56981.7246024\ttotal: 2.96s\tremaining: 3.28s\n",
      "474:\tlearn: 56960.2429303\ttotal: 2.96s\tremaining: 3.27s\n",
      "475:\tlearn: 56949.0020121\ttotal: 2.96s\tremaining: 3.26s\n",
      "476:\tlearn: 56931.9575280\ttotal: 2.97s\tremaining: 3.25s\n",
      "477:\tlearn: 56910.6871417\ttotal: 2.97s\tremaining: 3.24s\n",
      "478:\tlearn: 56901.1740721\ttotal: 2.97s\tremaining: 3.23s\n",
      "479:\tlearn: 56883.4113663\ttotal: 2.97s\tremaining: 3.22s\n",
      "480:\tlearn: 56867.1099180\ttotal: 2.98s\tremaining: 3.21s\n",
      "481:\tlearn: 56854.0316283\ttotal: 2.98s\tremaining: 3.2s\n",
      "482:\tlearn: 56847.1538776\ttotal: 2.98s\tremaining: 3.19s\n",
      "483:\tlearn: 56833.8696608\ttotal: 2.99s\tremaining: 3.18s\n",
      "484:\tlearn: 56819.6586780\ttotal: 2.99s\tremaining: 3.17s\n",
      "485:\tlearn: 56807.1492534\ttotal: 2.99s\tremaining: 3.16s\n",
      "486:\tlearn: 56796.1240762\ttotal: 2.99s\tremaining: 3.15s\n",
      "487:\tlearn: 56777.7912689\ttotal: 3s\tremaining: 3.15s\n",
      "488:\tlearn: 56756.4062828\ttotal: 3s\tremaining: 3.13s\n",
      "489:\tlearn: 56735.9061895\ttotal: 3s\tremaining: 3.13s\n",
      "490:\tlearn: 56720.9362095\ttotal: 3.01s\tremaining: 3.12s\n",
      "491:\tlearn: 56710.1523672\ttotal: 3.01s\tremaining: 3.11s\n",
      "492:\tlearn: 56693.4139702\ttotal: 3.01s\tremaining: 3.1s\n",
      "493:\tlearn: 56681.8862689\ttotal: 3.02s\tremaining: 3.09s\n",
      "494:\tlearn: 56670.0363033\ttotal: 3.02s\tremaining: 3.08s\n",
      "495:\tlearn: 56647.1865818\ttotal: 3.02s\tremaining: 3.07s\n",
      "496:\tlearn: 56623.9469203\ttotal: 3.02s\tremaining: 3.06s\n",
      "497:\tlearn: 56605.0498107\ttotal: 3.03s\tremaining: 3.05s\n",
      "498:\tlearn: 56595.5585999\ttotal: 3.03s\tremaining: 3.04s\n",
      "499:\tlearn: 56584.0566975\ttotal: 3.03s\tremaining: 3.03s\n",
      "500:\tlearn: 56568.8210818\ttotal: 3.04s\tremaining: 3.02s\n",
      "501:\tlearn: 56556.6751478\ttotal: 3.04s\tremaining: 3.01s\n",
      "502:\tlearn: 56542.7767976\ttotal: 3.04s\tremaining: 3s\n",
      "503:\tlearn: 56526.7952721\ttotal: 3.04s\tremaining: 3s\n",
      "504:\tlearn: 56507.9082828\ttotal: 3.05s\tremaining: 2.99s\n",
      "505:\tlearn: 56488.5397527\ttotal: 3.05s\tremaining: 2.98s\n",
      "506:\tlearn: 56470.9987335\ttotal: 3.05s\tremaining: 2.97s\n",
      "507:\tlearn: 56463.0801022\ttotal: 3.06s\tremaining: 2.96s\n",
      "508:\tlearn: 56446.1924139\ttotal: 3.06s\tremaining: 2.95s\n",
      "509:\tlearn: 56416.2863319\ttotal: 3.06s\tremaining: 2.94s\n",
      "510:\tlearn: 56407.9113801\ttotal: 3.06s\tremaining: 2.93s\n",
      "511:\tlearn: 56393.2759012\ttotal: 3.07s\tremaining: 2.92s\n",
      "512:\tlearn: 56384.1676862\ttotal: 3.07s\tremaining: 2.91s\n",
      "513:\tlearn: 56361.2764299\ttotal: 3.07s\tremaining: 2.91s\n",
      "514:\tlearn: 56347.6005009\ttotal: 3.08s\tremaining: 2.9s\n",
      "515:\tlearn: 56332.9559563\ttotal: 3.08s\tremaining: 2.89s\n",
      "516:\tlearn: 56318.0422904\ttotal: 3.08s\tremaining: 2.88s\n",
      "517:\tlearn: 56305.0691027\ttotal: 3.09s\tremaining: 2.87s\n",
      "518:\tlearn: 56286.9913942\ttotal: 3.09s\tremaining: 2.87s\n"
     ]
    },
    {
     "name": "stdout",
     "output_type": "stream",
     "text": [
      "519:\tlearn: 56271.1989819\ttotal: 3.1s\tremaining: 2.86s\n",
      "520:\tlearn: 56255.7426578\ttotal: 3.1s\tremaining: 2.85s\n",
      "521:\tlearn: 56246.5319557\ttotal: 3.1s\tremaining: 2.84s\n",
      "522:\tlearn: 56224.8410203\ttotal: 3.11s\tremaining: 2.83s\n",
      "523:\tlearn: 56203.6415282\ttotal: 3.11s\tremaining: 2.83s\n",
      "524:\tlearn: 56190.1747013\ttotal: 3.12s\tremaining: 2.82s\n",
      "525:\tlearn: 56180.1839249\ttotal: 3.12s\tremaining: 2.81s\n",
      "526:\tlearn: 56162.3696862\ttotal: 3.12s\tremaining: 2.8s\n",
      "527:\tlearn: 56142.8987243\ttotal: 3.13s\tremaining: 2.8s\n",
      "528:\tlearn: 56132.2113366\ttotal: 3.13s\tremaining: 2.79s\n",
      "529:\tlearn: 56119.2099164\ttotal: 3.14s\tremaining: 2.78s\n",
      "530:\tlearn: 56104.9757126\ttotal: 3.14s\tremaining: 2.77s\n",
      "531:\tlearn: 56096.3764034\ttotal: 3.15s\tremaining: 2.77s\n",
      "532:\tlearn: 56080.4207579\ttotal: 3.15s\tremaining: 2.76s\n",
      "533:\tlearn: 56069.0687735\ttotal: 3.15s\tremaining: 2.75s\n",
      "534:\tlearn: 56060.0290678\ttotal: 3.16s\tremaining: 2.75s\n",
      "535:\tlearn: 56046.7489138\ttotal: 3.16s\tremaining: 2.74s\n",
      "536:\tlearn: 56013.4889173\ttotal: 3.17s\tremaining: 2.73s\n",
      "537:\tlearn: 55999.0020251\ttotal: 3.17s\tremaining: 2.72s\n",
      "538:\tlearn: 55989.5277313\ttotal: 3.17s\tremaining: 2.71s\n",
      "539:\tlearn: 55971.2716472\ttotal: 3.18s\tremaining: 2.71s\n",
      "540:\tlearn: 55962.4772704\ttotal: 3.18s\tremaining: 2.7s\n",
      "541:\tlearn: 55942.1447339\ttotal: 3.18s\tremaining: 2.69s\n",
      "542:\tlearn: 55925.4353046\ttotal: 3.19s\tremaining: 2.68s\n",
      "543:\tlearn: 55904.7764477\ttotal: 3.19s\tremaining: 2.67s\n",
      "544:\tlearn: 55892.1976340\ttotal: 3.19s\tremaining: 2.67s\n",
      "545:\tlearn: 55880.9611917\ttotal: 3.2s\tremaining: 2.66s\n",
      "546:\tlearn: 55860.3030675\ttotal: 3.2s\tremaining: 2.65s\n",
      "547:\tlearn: 55842.6186987\ttotal: 3.2s\tremaining: 2.64s\n",
      "548:\tlearn: 55824.3467509\ttotal: 3.21s\tremaining: 2.63s\n",
      "549:\tlearn: 55810.0143451\ttotal: 3.21s\tremaining: 2.63s\n",
      "550:\tlearn: 55798.1771043\ttotal: 3.21s\tremaining: 2.62s\n",
      "551:\tlearn: 55785.4718992\ttotal: 3.21s\tremaining: 2.61s\n",
      "552:\tlearn: 55778.2029898\ttotal: 3.22s\tremaining: 2.6s\n",
      "553:\tlearn: 55762.8387031\ttotal: 3.22s\tremaining: 2.59s\n",
      "554:\tlearn: 55755.8353040\ttotal: 3.22s\tremaining: 2.58s\n",
      "555:\tlearn: 55740.6550799\ttotal: 3.23s\tremaining: 2.58s\n",
      "556:\tlearn: 55727.4451822\ttotal: 3.23s\tremaining: 2.57s\n",
      "557:\tlearn: 55715.3907307\ttotal: 3.23s\tremaining: 2.56s\n",
      "558:\tlearn: 55698.9541834\ttotal: 3.24s\tremaining: 2.55s\n",
      "559:\tlearn: 55682.7681587\ttotal: 3.24s\tremaining: 2.55s\n",
      "560:\tlearn: 55670.0151809\ttotal: 3.25s\tremaining: 2.54s\n",
      "561:\tlearn: 55662.3472738\ttotal: 3.25s\tremaining: 2.53s\n",
      "562:\tlearn: 55649.0781382\ttotal: 3.25s\tremaining: 2.52s\n",
      "563:\tlearn: 55637.3348656\ttotal: 3.26s\tremaining: 2.52s\n",
      "564:\tlearn: 55619.5292099\ttotal: 3.26s\tremaining: 2.51s\n",
      "565:\tlearn: 55608.2071701\ttotal: 3.26s\tremaining: 2.5s\n",
      "566:\tlearn: 55598.5637704\ttotal: 3.27s\tremaining: 2.5s\n",
      "567:\tlearn: 55592.0646646\ttotal: 3.27s\tremaining: 2.49s\n",
      "568:\tlearn: 55579.7626453\ttotal: 3.27s\tremaining: 2.48s\n",
      "569:\tlearn: 55560.4545223\ttotal: 3.28s\tremaining: 2.47s\n",
      "570:\tlearn: 55543.5481048\ttotal: 3.28s\tremaining: 2.47s\n",
      "571:\tlearn: 55532.5158090\ttotal: 3.29s\tremaining: 2.46s\n",
      "572:\tlearn: 55522.4962034\ttotal: 3.29s\tremaining: 2.45s\n",
      "573:\tlearn: 55509.0578177\ttotal: 3.29s\tremaining: 2.44s\n",
      "574:\tlearn: 55499.3692637\ttotal: 3.3s\tremaining: 2.44s\n",
      "575:\tlearn: 55480.4350507\ttotal: 3.3s\tremaining: 2.43s\n",
      "576:\tlearn: 55466.2262513\ttotal: 3.31s\tremaining: 2.42s\n",
      "577:\tlearn: 55446.8164859\ttotal: 3.31s\tremaining: 2.42s\n",
      "578:\tlearn: 55432.5324268\ttotal: 3.31s\tremaining: 2.41s\n",
      "579:\tlearn: 55426.9180261\ttotal: 3.32s\tremaining: 2.4s\n",
      "580:\tlearn: 55414.4600242\ttotal: 3.32s\tremaining: 2.4s\n",
      "581:\tlearn: 55395.2368201\ttotal: 3.33s\tremaining: 2.39s\n",
      "582:\tlearn: 55379.8727825\ttotal: 3.33s\tremaining: 2.38s\n",
      "583:\tlearn: 55364.4520289\ttotal: 3.33s\tremaining: 2.38s\n",
      "584:\tlearn: 55353.1971828\ttotal: 3.34s\tremaining: 2.37s\n",
      "585:\tlearn: 55345.0615593\ttotal: 3.34s\tremaining: 2.36s\n",
      "586:\tlearn: 55336.3563835\ttotal: 3.35s\tremaining: 2.36s\n",
      "587:\tlearn: 55327.5417284\ttotal: 3.35s\tremaining: 2.35s\n",
      "588:\tlearn: 55321.1790370\ttotal: 3.36s\tremaining: 2.34s\n",
      "589:\tlearn: 55301.0641039\ttotal: 3.36s\tremaining: 2.34s\n",
      "590:\tlearn: 55291.5672974\ttotal: 3.37s\tremaining: 2.33s\n",
      "591:\tlearn: 55283.1529681\ttotal: 3.37s\tremaining: 2.32s\n",
      "592:\tlearn: 55259.2986396\ttotal: 3.38s\tremaining: 2.32s\n",
      "593:\tlearn: 55246.9490374\ttotal: 3.38s\tremaining: 2.31s\n",
      "594:\tlearn: 55235.9546996\ttotal: 3.39s\tremaining: 2.31s\n",
      "595:\tlearn: 55223.6948190\ttotal: 3.39s\tremaining: 2.3s\n",
      "596:\tlearn: 55210.2726619\ttotal: 3.4s\tremaining: 2.29s\n",
      "597:\tlearn: 55197.2386189\ttotal: 3.4s\tremaining: 2.29s\n",
      "598:\tlearn: 55180.6408027\ttotal: 3.41s\tremaining: 2.28s\n",
      "599:\tlearn: 55169.9616077\ttotal: 3.41s\tremaining: 2.27s\n",
      "600:\tlearn: 55160.1092793\ttotal: 3.42s\tremaining: 2.27s\n",
      "601:\tlearn: 55147.1411818\ttotal: 3.42s\tremaining: 2.26s\n",
      "602:\tlearn: 55138.2382364\ttotal: 3.43s\tremaining: 2.26s\n",
      "603:\tlearn: 55126.9831603\ttotal: 3.43s\tremaining: 2.25s\n",
      "604:\tlearn: 55117.1473708\ttotal: 3.44s\tremaining: 2.24s\n",
      "605:\tlearn: 55101.2168104\ttotal: 3.44s\tremaining: 2.24s\n",
      "606:\tlearn: 55091.2226010\ttotal: 3.44s\tremaining: 2.23s\n",
      "607:\tlearn: 55066.6386286\ttotal: 3.45s\tremaining: 2.22s\n",
      "608:\tlearn: 55055.6877851\ttotal: 3.45s\tremaining: 2.22s\n",
      "609:\tlearn: 55045.3636781\ttotal: 3.46s\tremaining: 2.21s\n",
      "610:\tlearn: 55032.4120340\ttotal: 3.47s\tremaining: 2.21s\n",
      "611:\tlearn: 55021.8979611\ttotal: 3.47s\tremaining: 2.2s\n",
      "612:\tlearn: 55011.2711144\ttotal: 3.48s\tremaining: 2.2s\n",
      "613:\tlearn: 54997.0809305\ttotal: 3.48s\tremaining: 2.19s\n",
      "614:\tlearn: 54987.4215509\ttotal: 3.49s\tremaining: 2.18s\n",
      "615:\tlearn: 54969.3009688\ttotal: 3.49s\tremaining: 2.18s\n",
      "616:\tlearn: 54961.3295800\ttotal: 3.5s\tremaining: 2.17s\n",
      "617:\tlearn: 54944.4788074\ttotal: 3.5s\tremaining: 2.17s\n",
      "618:\tlearn: 54929.2293972\ttotal: 3.51s\tremaining: 2.16s\n",
      "619:\tlearn: 54911.5439535\ttotal: 3.51s\tremaining: 2.15s\n",
      "620:\tlearn: 54898.8595496\ttotal: 3.52s\tremaining: 2.15s\n",
      "621:\tlearn: 54888.9311929\ttotal: 3.52s\tremaining: 2.14s\n",
      "622:\tlearn: 54880.1977493\ttotal: 3.53s\tremaining: 2.13s\n",
      "623:\tlearn: 54871.4504338\ttotal: 3.53s\tremaining: 2.13s\n",
      "624:\tlearn: 54859.3069905\ttotal: 3.54s\tremaining: 2.13s\n",
      "625:\tlearn: 54847.0101035\ttotal: 3.55s\tremaining: 2.12s\n",
      "626:\tlearn: 54841.2917203\ttotal: 3.56s\tremaining: 2.12s\n",
      "627:\tlearn: 54830.3086719\ttotal: 3.56s\tremaining: 2.11s\n",
      "628:\tlearn: 54822.2933334\ttotal: 3.57s\tremaining: 2.1s\n",
      "629:\tlearn: 54812.1050450\ttotal: 3.58s\tremaining: 2.1s\n",
      "630:\tlearn: 54806.0629847\ttotal: 3.58s\tremaining: 2.1s\n",
      "631:\tlearn: 54797.1322401\ttotal: 3.59s\tremaining: 2.09s\n",
      "632:\tlearn: 54786.9845356\ttotal: 3.6s\tremaining: 2.09s\n",
      "633:\tlearn: 54781.2954574\ttotal: 3.6s\tremaining: 2.08s\n",
      "634:\tlearn: 54774.7465509\ttotal: 3.61s\tremaining: 2.08s\n",
      "635:\tlearn: 54766.1686065\ttotal: 3.62s\tremaining: 2.07s\n",
      "636:\tlearn: 54757.1128637\ttotal: 3.62s\tremaining: 2.06s\n",
      "637:\tlearn: 54751.2924051\ttotal: 3.63s\tremaining: 2.06s\n",
      "638:\tlearn: 54743.1818121\ttotal: 3.64s\tremaining: 2.05s\n",
      "639:\tlearn: 54733.2398299\ttotal: 3.64s\tremaining: 2.05s\n",
      "640:\tlearn: 54716.2715794\ttotal: 3.65s\tremaining: 2.05s\n",
      "641:\tlearn: 54700.5093034\ttotal: 3.66s\tremaining: 2.04s\n",
      "642:\tlearn: 54692.6876513\ttotal: 3.67s\tremaining: 2.04s\n",
      "643:\tlearn: 54685.7094743\ttotal: 3.68s\tremaining: 2.03s\n",
      "644:\tlearn: 54670.0392471\ttotal: 3.69s\tremaining: 2.03s\n",
      "645:\tlearn: 54660.2374406\ttotal: 3.69s\tremaining: 2.02s\n",
      "646:\tlearn: 54648.6356636\ttotal: 3.7s\tremaining: 2.02s\n",
      "647:\tlearn: 54636.4176343\ttotal: 3.71s\tremaining: 2.02s\n",
      "648:\tlearn: 54626.3577801\ttotal: 3.73s\tremaining: 2.02s\n",
      "649:\tlearn: 54613.7433544\ttotal: 3.73s\tremaining: 2.01s\n",
      "650:\tlearn: 54605.9561287\ttotal: 3.74s\tremaining: 2.01s\n",
      "651:\tlearn: 54576.8461622\ttotal: 3.75s\tremaining: 2s\n",
      "652:\tlearn: 54564.2334824\ttotal: 3.75s\tremaining: 1.99s\n",
      "653:\tlearn: 54544.9036803\ttotal: 3.76s\tremaining: 1.99s\n",
      "654:\tlearn: 54527.9376105\ttotal: 3.76s\tremaining: 1.98s\n",
      "655:\tlearn: 54518.0180309\ttotal: 3.77s\tremaining: 1.97s\n",
      "656:\tlearn: 54496.6563230\ttotal: 3.77s\tremaining: 1.97s\n",
      "657:\tlearn: 54486.4219936\ttotal: 3.77s\tremaining: 1.96s\n",
      "658:\tlearn: 54477.5425106\ttotal: 3.78s\tremaining: 1.96s\n",
      "659:\tlearn: 54468.6958335\ttotal: 3.78s\tremaining: 1.95s\n",
      "660:\tlearn: 54456.4370683\ttotal: 3.79s\tremaining: 1.94s\n",
      "661:\tlearn: 54439.9466135\ttotal: 3.79s\tremaining: 1.94s\n",
      "662:\tlearn: 54416.5333938\ttotal: 3.8s\tremaining: 1.93s\n",
      "663:\tlearn: 54405.6591628\ttotal: 3.8s\tremaining: 1.93s\n",
      "664:\tlearn: 54396.2542940\ttotal: 3.81s\tremaining: 1.92s\n",
      "665:\tlearn: 54380.8709470\ttotal: 3.82s\tremaining: 1.91s\n",
      "666:\tlearn: 54370.8674591\ttotal: 3.82s\tremaining: 1.91s\n",
      "667:\tlearn: 54349.1579082\ttotal: 3.83s\tremaining: 1.9s\n",
      "668:\tlearn: 54341.4698548\ttotal: 3.83s\tremaining: 1.9s\n",
      "669:\tlearn: 54334.4301382\ttotal: 3.84s\tremaining: 1.89s\n",
      "670:\tlearn: 54322.9351672\ttotal: 3.85s\tremaining: 1.89s\n",
      "671:\tlearn: 54313.9050221\ttotal: 3.86s\tremaining: 1.88s\n",
      "672:\tlearn: 54307.6043474\ttotal: 3.87s\tremaining: 1.88s\n",
      "673:\tlearn: 54293.6570365\ttotal: 3.87s\tremaining: 1.87s\n",
      "674:\tlearn: 54286.6296977\ttotal: 3.88s\tremaining: 1.87s\n",
      "675:\tlearn: 54277.4875197\ttotal: 3.89s\tremaining: 1.86s\n"
     ]
    },
    {
     "name": "stdout",
     "output_type": "stream",
     "text": [
      "676:\tlearn: 54269.3363445\ttotal: 3.9s\tremaining: 1.86s\n",
      "677:\tlearn: 54261.0964807\ttotal: 3.9s\tremaining: 1.85s\n",
      "678:\tlearn: 54252.5769364\ttotal: 3.91s\tremaining: 1.85s\n",
      "679:\tlearn: 54245.6869946\ttotal: 3.92s\tremaining: 1.84s\n",
      "680:\tlearn: 54237.2609446\ttotal: 3.92s\tremaining: 1.84s\n",
      "681:\tlearn: 54229.0302889\ttotal: 3.93s\tremaining: 1.83s\n",
      "682:\tlearn: 54222.3926339\ttotal: 3.94s\tremaining: 1.83s\n",
      "683:\tlearn: 54211.1081356\ttotal: 3.94s\tremaining: 1.82s\n",
      "684:\tlearn: 54186.7279012\ttotal: 3.95s\tremaining: 1.82s\n",
      "685:\tlearn: 54175.5472571\ttotal: 3.96s\tremaining: 1.81s\n",
      "686:\tlearn: 54165.6443222\ttotal: 3.96s\tremaining: 1.8s\n",
      "687:\tlearn: 54156.3859395\ttotal: 3.96s\tremaining: 1.8s\n",
      "688:\tlearn: 54147.8549421\ttotal: 3.97s\tremaining: 1.79s\n",
      "689:\tlearn: 54137.1435673\ttotal: 3.97s\tremaining: 1.78s\n",
      "690:\tlearn: 54124.4045367\ttotal: 3.98s\tremaining: 1.78s\n",
      "691:\tlearn: 54112.5819116\ttotal: 3.98s\tremaining: 1.77s\n",
      "692:\tlearn: 54101.9833876\ttotal: 3.99s\tremaining: 1.76s\n",
      "693:\tlearn: 54087.7510195\ttotal: 3.99s\tremaining: 1.76s\n",
      "694:\tlearn: 54080.4263870\ttotal: 4s\tremaining: 1.75s\n",
      "695:\tlearn: 54067.3829582\ttotal: 4s\tremaining: 1.75s\n",
      "696:\tlearn: 54055.5495088\ttotal: 4.01s\tremaining: 1.74s\n",
      "697:\tlearn: 54047.5568922\ttotal: 4.01s\tremaining: 1.74s\n",
      "698:\tlearn: 54029.0507608\ttotal: 4.02s\tremaining: 1.73s\n",
      "699:\tlearn: 54013.9479739\ttotal: 4.03s\tremaining: 1.73s\n",
      "700:\tlearn: 54005.5313670\ttotal: 4.04s\tremaining: 1.72s\n",
      "701:\tlearn: 53995.1908597\ttotal: 4.05s\tremaining: 1.72s\n",
      "702:\tlearn: 53985.4529163\ttotal: 4.05s\tremaining: 1.71s\n",
      "703:\tlearn: 53974.6662595\ttotal: 4.06s\tremaining: 1.71s\n",
      "704:\tlearn: 53969.2819873\ttotal: 4.07s\tremaining: 1.7s\n",
      "705:\tlearn: 53963.2179380\ttotal: 4.07s\tremaining: 1.7s\n",
      "706:\tlearn: 53953.2592587\ttotal: 4.08s\tremaining: 1.69s\n",
      "707:\tlearn: 53944.1773563\ttotal: 4.08s\tremaining: 1.68s\n",
      "708:\tlearn: 53929.5704692\ttotal: 4.09s\tremaining: 1.68s\n",
      "709:\tlearn: 53921.1047878\ttotal: 4.1s\tremaining: 1.67s\n",
      "710:\tlearn: 53903.3649566\ttotal: 4.1s\tremaining: 1.67s\n",
      "711:\tlearn: 53886.5975535\ttotal: 4.11s\tremaining: 1.66s\n",
      "712:\tlearn: 53869.3223786\ttotal: 4.11s\tremaining: 1.66s\n",
      "713:\tlearn: 53861.5219941\ttotal: 4.12s\tremaining: 1.65s\n",
      "714:\tlearn: 53850.6119159\ttotal: 4.13s\tremaining: 1.65s\n",
      "715:\tlearn: 53841.4591270\ttotal: 4.13s\tremaining: 1.64s\n",
      "716:\tlearn: 53833.6621694\ttotal: 4.14s\tremaining: 1.64s\n",
      "717:\tlearn: 53826.7874613\ttotal: 4.15s\tremaining: 1.63s\n",
      "718:\tlearn: 53817.5867641\ttotal: 4.16s\tremaining: 1.62s\n",
      "719:\tlearn: 53805.2078571\ttotal: 4.16s\tremaining: 1.62s\n",
      "720:\tlearn: 53794.1410552\ttotal: 4.17s\tremaining: 1.61s\n",
      "721:\tlearn: 53785.8452398\ttotal: 4.18s\tremaining: 1.61s\n",
      "722:\tlearn: 53777.0931607\ttotal: 4.18s\tremaining: 1.6s\n",
      "723:\tlearn: 53762.4029231\ttotal: 4.19s\tremaining: 1.6s\n",
      "724:\tlearn: 53755.3061966\ttotal: 4.19s\tremaining: 1.59s\n",
      "725:\tlearn: 53745.0840812\ttotal: 4.2s\tremaining: 1.58s\n",
      "726:\tlearn: 53728.1723181\ttotal: 4.2s\tremaining: 1.58s\n",
      "727:\tlearn: 53709.7565427\ttotal: 4.21s\tremaining: 1.57s\n",
      "728:\tlearn: 53704.5104458\ttotal: 4.21s\tremaining: 1.56s\n",
      "729:\tlearn: 53692.3819706\ttotal: 4.22s\tremaining: 1.56s\n",
      "730:\tlearn: 53676.3895844\ttotal: 4.22s\tremaining: 1.55s\n",
      "731:\tlearn: 53667.0011546\ttotal: 4.23s\tremaining: 1.55s\n",
      "732:\tlearn: 53660.7866282\ttotal: 4.24s\tremaining: 1.54s\n",
      "733:\tlearn: 53655.8083308\ttotal: 4.24s\tremaining: 1.54s\n",
      "734:\tlearn: 53641.6500893\ttotal: 4.25s\tremaining: 1.53s\n",
      "735:\tlearn: 53633.7362550\ttotal: 4.26s\tremaining: 1.53s\n",
      "736:\tlearn: 53624.1791310\ttotal: 4.27s\tremaining: 1.52s\n",
      "737:\tlearn: 53610.5188719\ttotal: 4.28s\tremaining: 1.52s\n",
      "738:\tlearn: 53601.2990624\ttotal: 4.3s\tremaining: 1.52s\n",
      "739:\tlearn: 53590.9071299\ttotal: 4.31s\tremaining: 1.51s\n",
      "740:\tlearn: 53570.6303394\ttotal: 4.32s\tremaining: 1.51s\n",
      "741:\tlearn: 53553.1141601\ttotal: 4.33s\tremaining: 1.5s\n",
      "742:\tlearn: 53542.5025970\ttotal: 4.33s\tremaining: 1.5s\n",
      "743:\tlearn: 53528.3611076\ttotal: 4.34s\tremaining: 1.49s\n",
      "744:\tlearn: 53513.0243987\ttotal: 4.35s\tremaining: 1.49s\n",
      "745:\tlearn: 53501.5321459\ttotal: 4.36s\tremaining: 1.48s\n",
      "746:\tlearn: 53483.7398442\ttotal: 4.37s\tremaining: 1.48s\n",
      "747:\tlearn: 53473.3845445\ttotal: 4.38s\tremaining: 1.48s\n",
      "748:\tlearn: 53465.6068733\ttotal: 4.39s\tremaining: 1.47s\n",
      "749:\tlearn: 53453.5399472\ttotal: 4.4s\tremaining: 1.47s\n",
      "750:\tlearn: 53440.5739241\ttotal: 4.41s\tremaining: 1.46s\n",
      "751:\tlearn: 53432.9549888\ttotal: 4.42s\tremaining: 1.46s\n",
      "752:\tlearn: 53424.5762154\ttotal: 4.43s\tremaining: 1.45s\n",
      "753:\tlearn: 53420.2627907\ttotal: 4.44s\tremaining: 1.45s\n",
      "754:\tlearn: 53413.0516484\ttotal: 4.45s\tremaining: 1.45s\n",
      "755:\tlearn: 53403.3282755\ttotal: 4.46s\tremaining: 1.44s\n",
      "756:\tlearn: 53390.7915603\ttotal: 4.47s\tremaining: 1.44s\n",
      "757:\tlearn: 53379.7704468\ttotal: 4.49s\tremaining: 1.43s\n",
      "758:\tlearn: 53372.9131723\ttotal: 4.5s\tremaining: 1.43s\n",
      "759:\tlearn: 53359.2089029\ttotal: 4.51s\tremaining: 1.42s\n",
      "760:\tlearn: 53351.0149782\ttotal: 4.52s\tremaining: 1.42s\n",
      "761:\tlearn: 53344.0114615\ttotal: 4.53s\tremaining: 1.42s\n",
      "762:\tlearn: 53329.0032721\ttotal: 4.54s\tremaining: 1.41s\n",
      "763:\tlearn: 53310.7084956\ttotal: 4.55s\tremaining: 1.41s\n",
      "764:\tlearn: 53306.2019343\ttotal: 4.56s\tremaining: 1.4s\n",
      "765:\tlearn: 53296.9222867\ttotal: 4.58s\tremaining: 1.4s\n",
      "766:\tlearn: 53287.9351053\ttotal: 4.59s\tremaining: 1.39s\n",
      "767:\tlearn: 53275.4350975\ttotal: 4.6s\tremaining: 1.39s\n",
      "768:\tlearn: 53263.3512673\ttotal: 4.61s\tremaining: 1.38s\n",
      "769:\tlearn: 53254.5569055\ttotal: 4.62s\tremaining: 1.38s\n",
      "770:\tlearn: 53245.7777174\ttotal: 4.63s\tremaining: 1.38s\n",
      "771:\tlearn: 53238.2536274\ttotal: 4.64s\tremaining: 1.37s\n",
      "772:\tlearn: 53226.9116235\ttotal: 4.65s\tremaining: 1.37s\n",
      "773:\tlearn: 53211.1087756\ttotal: 4.66s\tremaining: 1.36s\n",
      "774:\tlearn: 53204.2170222\ttotal: 4.67s\tremaining: 1.36s\n",
      "775:\tlearn: 53190.2981501\ttotal: 4.68s\tremaining: 1.35s\n",
      "776:\tlearn: 53182.4932593\ttotal: 4.7s\tremaining: 1.35s\n",
      "777:\tlearn: 53169.7091077\ttotal: 4.71s\tremaining: 1.34s\n",
      "778:\tlearn: 53158.4838594\ttotal: 4.72s\tremaining: 1.34s\n",
      "779:\tlearn: 53133.7284270\ttotal: 4.73s\tremaining: 1.33s\n",
      "780:\tlearn: 53119.1479118\ttotal: 4.74s\tremaining: 1.33s\n",
      "781:\tlearn: 53109.8326838\ttotal: 4.75s\tremaining: 1.32s\n",
      "782:\tlearn: 53104.9357647\ttotal: 4.76s\tremaining: 1.32s\n",
      "783:\tlearn: 53087.8409034\ttotal: 4.77s\tremaining: 1.31s\n",
      "784:\tlearn: 53078.8926867\ttotal: 4.78s\tremaining: 1.31s\n",
      "785:\tlearn: 53070.3482073\ttotal: 4.79s\tremaining: 1.3s\n",
      "786:\tlearn: 53062.5803156\ttotal: 4.81s\tremaining: 1.3s\n",
      "787:\tlearn: 53051.6497492\ttotal: 4.82s\tremaining: 1.3s\n",
      "788:\tlearn: 53039.0888748\ttotal: 4.83s\tremaining: 1.29s\n",
      "789:\tlearn: 53031.2606081\ttotal: 4.84s\tremaining: 1.29s\n",
      "790:\tlearn: 53018.6189611\ttotal: 4.85s\tremaining: 1.28s\n",
      "791:\tlearn: 53011.0391622\ttotal: 4.86s\tremaining: 1.28s\n",
      "792:\tlearn: 53003.4491135\ttotal: 4.87s\tremaining: 1.27s\n",
      "793:\tlearn: 52989.9959720\ttotal: 4.88s\tremaining: 1.27s\n",
      "794:\tlearn: 52982.5771353\ttotal: 4.89s\tremaining: 1.26s\n",
      "795:\tlearn: 52974.5479647\ttotal: 4.91s\tremaining: 1.26s\n",
      "796:\tlearn: 52964.5008498\ttotal: 4.92s\tremaining: 1.25s\n",
      "797:\tlearn: 52959.6761757\ttotal: 4.93s\tremaining: 1.25s\n",
      "798:\tlearn: 52945.3049913\ttotal: 4.94s\tremaining: 1.24s\n",
      "799:\tlearn: 52934.5729897\ttotal: 4.95s\tremaining: 1.24s\n",
      "800:\tlearn: 52925.5395912\ttotal: 4.96s\tremaining: 1.23s\n",
      "801:\tlearn: 52917.7371865\ttotal: 4.97s\tremaining: 1.23s\n",
      "802:\tlearn: 52907.8831504\ttotal: 4.98s\tremaining: 1.22s\n",
      "803:\tlearn: 52898.1693670\ttotal: 4.99s\tremaining: 1.22s\n",
      "804:\tlearn: 52888.7775584\ttotal: 5s\tremaining: 1.21s\n",
      "805:\tlearn: 52875.6130510\ttotal: 5.01s\tremaining: 1.21s\n",
      "806:\tlearn: 52862.4400842\ttotal: 5.02s\tremaining: 1.2s\n",
      "807:\tlearn: 52856.1366011\ttotal: 5.03s\tremaining: 1.2s\n",
      "808:\tlearn: 52847.2860456\ttotal: 5.04s\tremaining: 1.19s\n",
      "809:\tlearn: 52833.2542049\ttotal: 5.05s\tremaining: 1.18s\n",
      "810:\tlearn: 52823.6489158\ttotal: 5.06s\tremaining: 1.18s\n",
      "811:\tlearn: 52805.8426408\ttotal: 5.07s\tremaining: 1.17s\n",
      "812:\tlearn: 52793.6106786\ttotal: 5.08s\tremaining: 1.17s\n",
      "813:\tlearn: 52785.5533570\ttotal: 5.09s\tremaining: 1.16s\n",
      "814:\tlearn: 52769.0618472\ttotal: 5.1s\tremaining: 1.16s\n",
      "815:\tlearn: 52761.9770335\ttotal: 5.11s\tremaining: 1.15s\n",
      "816:\tlearn: 52754.6869224\ttotal: 5.12s\tremaining: 1.15s\n",
      "817:\tlearn: 52749.3784742\ttotal: 5.13s\tremaining: 1.14s\n",
      "818:\tlearn: 52739.0067642\ttotal: 5.15s\tremaining: 1.14s\n",
      "819:\tlearn: 52730.9890170\ttotal: 5.16s\tremaining: 1.13s\n",
      "820:\tlearn: 52721.6702198\ttotal: 5.17s\tremaining: 1.13s\n",
      "821:\tlearn: 52710.6819576\ttotal: 5.18s\tremaining: 1.12s\n",
      "822:\tlearn: 52699.9256928\ttotal: 5.19s\tremaining: 1.11s\n",
      "823:\tlearn: 52691.0256487\ttotal: 5.2s\tremaining: 1.11s\n",
      "824:\tlearn: 52683.6799487\ttotal: 5.2s\tremaining: 1.1s\n",
      "825:\tlearn: 52674.7088725\ttotal: 5.21s\tremaining: 1.1s\n",
      "826:\tlearn: 52669.6398134\ttotal: 5.22s\tremaining: 1.09s\n",
      "827:\tlearn: 52664.3961542\ttotal: 5.24s\tremaining: 1.09s\n",
      "828:\tlearn: 52656.3378934\ttotal: 5.25s\tremaining: 1.08s\n",
      "829:\tlearn: 52646.1445660\ttotal: 5.26s\tremaining: 1.08s\n",
      "830:\tlearn: 52634.3343141\ttotal: 5.27s\tremaining: 1.07s\n",
      "831:\tlearn: 52627.5939692\ttotal: 5.28s\tremaining: 1.07s\n",
      "832:\tlearn: 52620.0182676\ttotal: 5.29s\tremaining: 1.06s\n",
      "833:\tlearn: 52605.0971845\ttotal: 5.3s\tremaining: 1.05s\n",
      "834:\tlearn: 52599.0301851\ttotal: 5.31s\tremaining: 1.05s\n",
      "835:\tlearn: 52586.7587672\ttotal: 5.32s\tremaining: 1.04s\n"
     ]
    },
    {
     "name": "stdout",
     "output_type": "stream",
     "text": [
      "836:\tlearn: 52573.5328020\ttotal: 5.34s\tremaining: 1.04s\n",
      "837:\tlearn: 52566.6565580\ttotal: 5.35s\tremaining: 1.03s\n",
      "838:\tlearn: 52557.0657724\ttotal: 5.36s\tremaining: 1.03s\n",
      "839:\tlearn: 52549.0752199\ttotal: 5.37s\tremaining: 1.02s\n",
      "840:\tlearn: 52535.0686332\ttotal: 5.38s\tremaining: 1.02s\n",
      "841:\tlearn: 52528.2305117\ttotal: 5.39s\tremaining: 1.01s\n",
      "842:\tlearn: 52519.2872176\ttotal: 5.4s\tremaining: 1.01s\n",
      "843:\tlearn: 52509.2522232\ttotal: 5.41s\tremaining: 1s\n",
      "844:\tlearn: 52501.7018139\ttotal: 5.42s\tremaining: 995ms\n",
      "845:\tlearn: 52487.3042280\ttotal: 5.44s\tremaining: 990ms\n",
      "846:\tlearn: 52477.5191902\ttotal: 5.45s\tremaining: 984ms\n",
      "847:\tlearn: 52467.7087764\ttotal: 5.46s\tremaining: 978ms\n",
      "848:\tlearn: 52456.1817524\ttotal: 5.47s\tremaining: 973ms\n",
      "849:\tlearn: 52448.5310524\ttotal: 5.48s\tremaining: 967ms\n",
      "850:\tlearn: 52437.0925386\ttotal: 5.49s\tremaining: 961ms\n",
      "851:\tlearn: 52430.2781093\ttotal: 5.5s\tremaining: 956ms\n",
      "852:\tlearn: 52427.1466786\ttotal: 5.51s\tremaining: 950ms\n",
      "853:\tlearn: 52421.0311754\ttotal: 5.52s\tremaining: 944ms\n",
      "854:\tlearn: 52410.7267897\ttotal: 5.54s\tremaining: 939ms\n",
      "855:\tlearn: 52402.3374651\ttotal: 5.55s\tremaining: 933ms\n",
      "856:\tlearn: 52397.9177577\ttotal: 5.56s\tremaining: 928ms\n",
      "857:\tlearn: 52389.2176771\ttotal: 5.57s\tremaining: 922ms\n",
      "858:\tlearn: 52377.2770894\ttotal: 5.58s\tremaining: 916ms\n",
      "859:\tlearn: 52370.2949684\ttotal: 5.59s\tremaining: 910ms\n",
      "860:\tlearn: 52359.5306528\ttotal: 5.6s\tremaining: 905ms\n",
      "861:\tlearn: 52348.8449346\ttotal: 5.61s\tremaining: 899ms\n",
      "862:\tlearn: 52334.2031054\ttotal: 5.63s\tremaining: 893ms\n",
      "863:\tlearn: 52323.4936265\ttotal: 5.63s\tremaining: 887ms\n",
      "864:\tlearn: 52313.2537481\ttotal: 5.65s\tremaining: 881ms\n",
      "865:\tlearn: 52309.1996026\ttotal: 5.66s\tremaining: 875ms\n",
      "866:\tlearn: 52294.5936912\ttotal: 5.67s\tremaining: 870ms\n",
      "867:\tlearn: 52281.9551975\ttotal: 5.68s\tremaining: 864ms\n",
      "868:\tlearn: 52275.1639423\ttotal: 5.69s\tremaining: 858ms\n",
      "869:\tlearn: 52263.2174047\ttotal: 5.7s\tremaining: 852ms\n",
      "870:\tlearn: 52252.8793060\ttotal: 5.71s\tremaining: 846ms\n",
      "871:\tlearn: 52244.9495550\ttotal: 5.72s\tremaining: 840ms\n",
      "872:\tlearn: 52237.6933901\ttotal: 5.73s\tremaining: 834ms\n",
      "873:\tlearn: 52229.5366895\ttotal: 5.75s\tremaining: 828ms\n",
      "874:\tlearn: 52223.4148786\ttotal: 5.76s\tremaining: 823ms\n",
      "875:\tlearn: 52213.4307110\ttotal: 5.77s\tremaining: 817ms\n",
      "876:\tlearn: 52203.7953570\ttotal: 5.78s\tremaining: 811ms\n",
      "877:\tlearn: 52194.4518695\ttotal: 5.79s\tremaining: 805ms\n",
      "878:\tlearn: 52183.0277070\ttotal: 5.8s\tremaining: 799ms\n",
      "879:\tlearn: 52175.5934391\ttotal: 5.81s\tremaining: 793ms\n",
      "880:\tlearn: 52165.2585973\ttotal: 5.82s\tremaining: 787ms\n",
      "881:\tlearn: 52153.4255767\ttotal: 5.83s\tremaining: 781ms\n",
      "882:\tlearn: 52147.9536672\ttotal: 5.85s\tremaining: 775ms\n",
      "883:\tlearn: 52139.8417087\ttotal: 5.86s\tremaining: 769ms\n",
      "884:\tlearn: 52127.2150752\ttotal: 5.87s\tremaining: 763ms\n",
      "885:\tlearn: 52121.4863475\ttotal: 5.88s\tremaining: 756ms\n",
      "886:\tlearn: 52114.2686302\ttotal: 5.89s\tremaining: 750ms\n",
      "887:\tlearn: 52108.6390087\ttotal: 5.9s\tremaining: 744ms\n",
      "888:\tlearn: 52096.3825771\ttotal: 5.91s\tremaining: 738ms\n",
      "889:\tlearn: 52090.6414132\ttotal: 5.92s\tremaining: 732ms\n",
      "890:\tlearn: 52074.0584602\ttotal: 5.93s\tremaining: 726ms\n",
      "891:\tlearn: 52059.3574202\ttotal: 5.94s\tremaining: 719ms\n",
      "892:\tlearn: 52051.3429526\ttotal: 5.95s\tremaining: 713ms\n",
      "893:\tlearn: 52041.5893549\ttotal: 5.96s\tremaining: 707ms\n",
      "894:\tlearn: 52034.8351796\ttotal: 5.98s\tremaining: 701ms\n",
      "895:\tlearn: 52025.9707800\ttotal: 5.99s\tremaining: 695ms\n",
      "896:\tlearn: 52017.6598375\ttotal: 6s\tremaining: 689ms\n",
      "897:\tlearn: 52007.9915608\ttotal: 6s\tremaining: 682ms\n",
      "898:\tlearn: 52002.4405974\ttotal: 6.01s\tremaining: 676ms\n",
      "899:\tlearn: 51992.6646779\ttotal: 6.02s\tremaining: 669ms\n",
      "900:\tlearn: 51982.4556666\ttotal: 6.03s\tremaining: 663ms\n",
      "901:\tlearn: 51975.5095417\ttotal: 6.05s\tremaining: 657ms\n",
      "902:\tlearn: 51966.5082591\ttotal: 6.06s\tremaining: 651ms\n",
      "903:\tlearn: 51955.0863617\ttotal: 6.07s\tremaining: 644ms\n",
      "904:\tlearn: 51949.0420170\ttotal: 6.08s\tremaining: 638ms\n",
      "905:\tlearn: 51940.9108315\ttotal: 6.09s\tremaining: 632ms\n",
      "906:\tlearn: 51935.4435545\ttotal: 6.09s\tremaining: 625ms\n",
      "907:\tlearn: 51929.9626641\ttotal: 6.1s\tremaining: 618ms\n",
      "908:\tlearn: 51916.5007180\ttotal: 6.1s\tremaining: 611ms\n",
      "909:\tlearn: 51910.0147829\ttotal: 6.1s\tremaining: 604ms\n",
      "910:\tlearn: 51902.6594182\ttotal: 6.11s\tremaining: 597ms\n",
      "911:\tlearn: 51895.2629734\ttotal: 6.11s\tremaining: 590ms\n",
      "912:\tlearn: 51887.2222702\ttotal: 6.12s\tremaining: 583ms\n",
      "913:\tlearn: 51879.7288295\ttotal: 6.12s\tremaining: 576ms\n",
      "914:\tlearn: 51872.8049899\ttotal: 6.12s\tremaining: 569ms\n",
      "915:\tlearn: 51865.7615958\ttotal: 6.13s\tremaining: 562ms\n",
      "916:\tlearn: 51855.2798701\ttotal: 6.13s\tremaining: 555ms\n",
      "917:\tlearn: 51840.4000534\ttotal: 6.14s\tremaining: 548ms\n",
      "918:\tlearn: 51834.6087474\ttotal: 6.15s\tremaining: 542ms\n",
      "919:\tlearn: 51828.8877221\ttotal: 6.15s\tremaining: 535ms\n",
      "920:\tlearn: 51821.7879470\ttotal: 6.16s\tremaining: 528ms\n",
      "921:\tlearn: 51814.5013326\ttotal: 6.16s\tremaining: 521ms\n",
      "922:\tlearn: 51806.3920260\ttotal: 6.17s\tremaining: 514ms\n",
      "923:\tlearn: 51792.3666562\ttotal: 6.17s\tremaining: 508ms\n",
      "924:\tlearn: 51787.4063809\ttotal: 6.18s\tremaining: 501ms\n",
      "925:\tlearn: 51775.6567748\ttotal: 6.18s\tremaining: 494ms\n",
      "926:\tlearn: 51760.8824168\ttotal: 6.19s\tremaining: 487ms\n",
      "927:\tlearn: 51751.9087788\ttotal: 6.19s\tremaining: 480ms\n",
      "928:\tlearn: 51744.9802271\ttotal: 6.2s\tremaining: 474ms\n",
      "929:\tlearn: 51738.7026364\ttotal: 6.2s\tremaining: 467ms\n",
      "930:\tlearn: 51724.1170295\ttotal: 6.21s\tremaining: 460ms\n",
      "931:\tlearn: 51715.3334079\ttotal: 6.21s\tremaining: 453ms\n",
      "932:\tlearn: 51707.2192522\ttotal: 6.22s\tremaining: 446ms\n",
      "933:\tlearn: 51699.8943586\ttotal: 6.22s\tremaining: 440ms\n",
      "934:\tlearn: 51690.4134664\ttotal: 6.23s\tremaining: 433ms\n",
      "935:\tlearn: 51680.4135149\ttotal: 6.23s\tremaining: 426ms\n",
      "936:\tlearn: 51670.0809619\ttotal: 6.24s\tremaining: 419ms\n",
      "937:\tlearn: 51663.7933412\ttotal: 6.25s\tremaining: 413ms\n",
      "938:\tlearn: 51655.8035259\ttotal: 6.25s\tremaining: 406ms\n",
      "939:\tlearn: 51648.1099809\ttotal: 6.26s\tremaining: 400ms\n",
      "940:\tlearn: 51640.1179057\ttotal: 6.27s\tremaining: 393ms\n",
      "941:\tlearn: 51634.1803672\ttotal: 6.27s\tremaining: 386ms\n",
      "942:\tlearn: 51627.0371263\ttotal: 6.28s\tremaining: 380ms\n",
      "943:\tlearn: 51621.5891619\ttotal: 6.29s\tremaining: 373ms\n",
      "944:\tlearn: 51613.5198427\ttotal: 6.29s\tremaining: 366ms\n",
      "945:\tlearn: 51607.7942831\ttotal: 6.3s\tremaining: 360ms\n",
      "946:\tlearn: 51604.0444998\ttotal: 6.3s\tremaining: 353ms\n",
      "947:\tlearn: 51594.6208216\ttotal: 6.31s\tremaining: 346ms\n",
      "948:\tlearn: 51587.8202887\ttotal: 6.32s\tremaining: 339ms\n",
      "949:\tlearn: 51580.5524968\ttotal: 6.32s\tremaining: 333ms\n",
      "950:\tlearn: 51577.0153625\ttotal: 6.32s\tremaining: 326ms\n",
      "951:\tlearn: 51566.6956039\ttotal: 6.33s\tremaining: 319ms\n",
      "952:\tlearn: 51549.2037817\ttotal: 6.33s\tremaining: 312ms\n",
      "953:\tlearn: 51540.9099976\ttotal: 6.34s\tremaining: 306ms\n",
      "954:\tlearn: 51526.7362362\ttotal: 6.34s\tremaining: 299ms\n",
      "955:\tlearn: 51514.8311482\ttotal: 6.35s\tremaining: 292ms\n",
      "956:\tlearn: 51503.7311072\ttotal: 6.35s\tremaining: 285ms\n",
      "957:\tlearn: 51497.6968787\ttotal: 6.36s\tremaining: 279ms\n",
      "958:\tlearn: 51490.2580121\ttotal: 6.37s\tremaining: 272ms\n",
      "959:\tlearn: 51483.4178455\ttotal: 6.37s\tremaining: 266ms\n",
      "960:\tlearn: 51477.9521580\ttotal: 6.38s\tremaining: 259ms\n",
      "961:\tlearn: 51468.6428024\ttotal: 6.39s\tremaining: 252ms\n",
      "962:\tlearn: 51459.4930502\ttotal: 6.39s\tremaining: 246ms\n",
      "963:\tlearn: 51451.7075073\ttotal: 6.4s\tremaining: 239ms\n",
      "964:\tlearn: 51444.3686330\ttotal: 6.41s\tremaining: 232ms\n",
      "965:\tlearn: 51435.4582186\ttotal: 6.41s\tremaining: 226ms\n",
      "966:\tlearn: 51426.2157683\ttotal: 6.42s\tremaining: 219ms\n",
      "967:\tlearn: 51419.8173616\ttotal: 6.43s\tremaining: 212ms\n",
      "968:\tlearn: 51409.2847731\ttotal: 6.43s\tremaining: 206ms\n",
      "969:\tlearn: 51401.5331636\ttotal: 6.44s\tremaining: 199ms\n",
      "970:\tlearn: 51395.4690044\ttotal: 6.44s\tremaining: 192ms\n",
      "971:\tlearn: 51388.8264887\ttotal: 6.45s\tremaining: 186ms\n",
      "972:\tlearn: 51384.8410028\ttotal: 6.45s\tremaining: 179ms\n",
      "973:\tlearn: 51373.3910331\ttotal: 6.46s\tremaining: 172ms\n",
      "974:\tlearn: 51368.2803253\ttotal: 6.46s\tremaining: 166ms\n",
      "975:\tlearn: 51353.3739270\ttotal: 6.46s\tremaining: 159ms\n",
      "976:\tlearn: 51338.1282073\ttotal: 6.47s\tremaining: 152ms\n",
      "977:\tlearn: 51328.8698139\ttotal: 6.47s\tremaining: 146ms\n",
      "978:\tlearn: 51320.4711916\ttotal: 6.47s\tremaining: 139ms\n",
      "979:\tlearn: 51310.8858531\ttotal: 6.48s\tremaining: 132ms\n",
      "980:\tlearn: 51305.6043031\ttotal: 6.48s\tremaining: 126ms\n",
      "981:\tlearn: 51299.3054384\ttotal: 6.49s\tremaining: 119ms\n",
      "982:\tlearn: 51291.5557502\ttotal: 6.49s\tremaining: 112ms\n",
      "983:\tlearn: 51282.9496618\ttotal: 6.5s\tremaining: 106ms\n",
      "984:\tlearn: 51272.1811328\ttotal: 6.5s\tremaining: 99.1ms\n",
      "985:\tlearn: 51264.4115099\ttotal: 6.51s\tremaining: 92.5ms\n",
      "986:\tlearn: 51258.8802995\ttotal: 6.52s\tremaining: 85.9ms\n",
      "987:\tlearn: 51250.2538248\ttotal: 6.53s\tremaining: 79.3ms\n",
      "988:\tlearn: 51243.4704957\ttotal: 6.54s\tremaining: 72.7ms\n",
      "989:\tlearn: 51234.2442897\ttotal: 6.55s\tremaining: 66.1ms\n"
     ]
    },
    {
     "name": "stdout",
     "output_type": "stream",
     "text": [
      "990:\tlearn: 51215.3194612\ttotal: 6.56s\tremaining: 59.6ms\n",
      "991:\tlearn: 51209.7744358\ttotal: 6.57s\tremaining: 53ms\n",
      "992:\tlearn: 51198.6200029\ttotal: 6.58s\tremaining: 46.4ms\n",
      "993:\tlearn: 51193.7667402\ttotal: 6.59s\tremaining: 39.8ms\n",
      "994:\tlearn: 51187.1080412\ttotal: 6.6s\tremaining: 33.2ms\n",
      "995:\tlearn: 51180.9467888\ttotal: 6.61s\tremaining: 26.5ms\n",
      "996:\tlearn: 51174.5074142\ttotal: 6.62s\tremaining: 19.9ms\n",
      "997:\tlearn: 51169.4120857\ttotal: 6.62s\tremaining: 13.3ms\n",
      "998:\tlearn: 51161.6133306\ttotal: 6.63s\tremaining: 6.63ms\n",
      "999:\tlearn: 51153.1409974\ttotal: 6.63s\tremaining: 0us\n"
     ]
    },
    {
     "data": {
      "text/plain": [
       "{'MAE': 41866.94976895066,\n",
       " 'MSE': 3605905231.9431424,\n",
       " 'RMSE': 60049.190102308145,\n",
       " 'R2': 0.7335070549101006}"
      ]
     },
     "execution_count": 55,
     "metadata": {},
     "output_type": "execute_result"
    }
   ],
   "source": [
    "pipe = make_pipeline(MinMaxScaler(), cb.CatBoostRegressor())\n",
    "pipe.fit(X_train, y_train.values.ravel())\n",
    "y_pred = pipe.predict(X_test)\n",
    "score(y_test, y_pred)"
   ]
  },
  {
   "cell_type": "code",
   "execution_count": 66,
   "metadata": {},
   "outputs": [
    {
     "data": {
      "text/plain": [
       "{'MAE': 43103.07950428864,\n",
       " 'MSE': 3802731709.7619686,\n",
       " 'RMSE': 61666.293141082904,\n",
       " 'R2': 0.7189606749107169}"
      ]
     },
     "execution_count": 66,
     "metadata": {},
     "output_type": "execute_result"
    }
   ],
   "source": [
    "pipe = make_pipeline(StandardScaler(), lgb.LGBMRegressor())\n",
    "pipe.fit(X_train, y_train.values.ravel())\n",
    "y_pred = pipe.predict(X_test)\n",
    "score(y_test, y_pred)"
   ]
  },
  {
   "cell_type": "code",
   "execution_count": 67,
   "metadata": {},
   "outputs": [
    {
     "data": {
      "text/plain": [
       "{'MAE': 42992.796427201836,\n",
       " 'MSE': 3766580369.344923,\n",
       " 'RMSE': 61372.472406975125,\n",
       " 'R2': 0.7216324248755641}"
      ]
     },
     "execution_count": 67,
     "metadata": {},
     "output_type": "execute_result"
    }
   ],
   "source": [
    "pipe = make_pipeline(MinMaxScaler(), lgb.LGBMRegressor())\n",
    "pipe.fit(X_train, y_train.values.ravel())\n",
    "y_pred = pipe.predict(X_test)\n",
    "score(y_test, y_pred)"
   ]
  },
  {
   "cell_type": "code",
   "execution_count": 69,
   "metadata": {},
   "outputs": [],
   "source": [
    "info = {}"
   ]
  },
  {
   "cell_type": "code",
   "execution_count": 70,
   "metadata": {},
   "outputs": [
    {
     "data": {
      "text/plain": [
       "{'MAE': 59958.59895847045,\n",
       " 'MSE': 6485490671.691809,\n",
       " 'RMSE': 80532.54417744301,\n",
       " 'R2': 0.520692475736292}"
      ]
     },
     "execution_count": 70,
     "metadata": {},
     "output_type": "execute_result"
    }
   ],
   "source": [
    "lr = make_pipeline(\n",
    "    StandardScaler(),\n",
    "    GridSearchCV(LinearRegression(),\n",
    "                 param_grid={\n",
    "        \"fit_intercept\": [True, False],\n",
    "        'normalize': [True, False],\n",
    "        'positive': [True, False],\n",
    "        'copy_X':  [True, False]\n",
    "    },\n",
    "        cv=5,\n",
    "        refit=True))\n",
    "\n",
    "lr.fit(X_train, y_train)\n",
    "\n",
    "y_pred = lr.predict(X_test)\n",
    "info['lr_sd'] = {'parms': lr.get_params()['gridsearchcv'].best_params_, 'score': score(y_test, y_pred), 'pred_sd': y_pred}\n",
    "score(y_test, y_pred)"
   ]
  },
  {
   "cell_type": "code",
   "execution_count": 71,
   "metadata": {},
   "outputs": [
    {
     "data": {
      "text/plain": [
       "{'MAE': 59958.59895847044,\n",
       " 'MSE': 6485490671.691809,\n",
       " 'RMSE': 80532.54417744301,\n",
       " 'R2': 0.520692475736292}"
      ]
     },
     "execution_count": 71,
     "metadata": {},
     "output_type": "execute_result"
    }
   ],
   "source": [
    "lr = make_pipeline(\n",
    "    MinMaxScaler(),\n",
    "    GridSearchCV(LinearRegression(),\n",
    "                 param_grid={\n",
    "        \"fit_intercept\": [True, False],\n",
    "        'normalize': [True, False],\n",
    "        'positive': [True, False],\n",
    "        'copy_X':  [True, False]\n",
    "    },\n",
    "        cv=5,\n",
    "        refit=True))\n",
    "\n",
    "lr.fit(X_train, y_train)\n",
    "\n",
    "y_pred = lr.predict(X_test)\n",
    "\n",
    "info['lr_mm'] = {'parms': lr.get_params()['gridsearchcv'].best_params_, 'score': score(y_test, y_pred), 'pred_sd': y_pred}\n",
    "score(y_test, y_pred)"
   ]
  },
  {
   "cell_type": "code",
   "execution_count": 72,
   "metadata": {},
   "outputs": [
    {
     "data": {
      "text/plain": [
       "{'MAE': 47246.20976856097,\n",
       " 'MSE': 4461866916.899056,\n",
       " 'RMSE': 66797.20740344656,\n",
       " 'R2': 0.670247558158132}"
      ]
     },
     "execution_count": 72,
     "metadata": {},
     "output_type": "execute_result"
    }
   ],
   "source": [
    "knn = make_pipeline(\n",
    "    StandardScaler(),\n",
    "    GridSearchCV(KNeighborsRegressor(),\n",
    "                 param_grid={\n",
    "        \"n_neighbors\": np.arange(1, 10, step=2),\n",
    "        'weights': ['uniform', 'distance'],\n",
    "        'algorithm': ['auto', 'ball_tree', 'kd_tree', 'brute'],\n",
    "        'leaf_size': np.arange(30, 60, step=10),\n",
    "        'p':  [1, 2]\n",
    "    },\n",
    "        cv=5,\n",
    "        refit=True))\n",
    "\n",
    "knn.fit(X_train, y_train)\n",
    "knn.get_params()['gridsearchcv'].best_params_\n",
    "y_pred = knn.predict(X_test)\n",
    "info['knn_sd'] = {'parms': knn.get_params()['gridsearchcv'].best_params_, 'score': score(y_test, y_pred), 'pred_sd': y_pred}\n",
    "score(y_test, y_pred)"
   ]
  },
  {
   "cell_type": "code",
   "execution_count": 73,
   "metadata": {},
   "outputs": [
    {
     "data": {
      "text/plain": [
       "{'MAE': 47132.59795118956,\n",
       " 'MSE': 4504055375.952115,\n",
       " 'RMSE': 67112.25950563813,\n",
       " 'R2': 0.6671296374201552}"
      ]
     },
     "execution_count": 73,
     "metadata": {},
     "output_type": "execute_result"
    }
   ],
   "source": [
    "knn = make_pipeline(\n",
    "    MinMaxScaler(),\n",
    "    GridSearchCV(KNeighborsRegressor(),\n",
    "                 param_grid={\n",
    "        \"n_neighbors\": np.arange(1, 10, step=2),\n",
    "        'weights': ['uniform', 'distance'],\n",
    "        'algorithm': ['auto', 'ball_tree', 'kd_tree', 'brute'],\n",
    "        'leaf_size': np.arange(30, 60, step=10),\n",
    "        'p':  [1, 2]\n",
    "    },\n",
    "        cv=5,\n",
    "        refit=True))\n",
    "\n",
    "knn.fit(X_train, y_train)\n",
    "knn.get_params()['gridsearchcv'].best_params_\n",
    "y_pred = knn.predict(X_test)\n",
    "info['knn_mm'] = {'parms': knn.get_params()['gridsearchcv'].best_params_, 'score': score(y_test, y_pred), 'pred_sd': y_pred}\n",
    "score(y_test, y_pred)"
   ]
  },
  {
   "cell_type": "code",
   "execution_count": 74,
   "metadata": {},
   "outputs": [
    {
     "data": {
      "text/plain": [
       "{'MAE': 55452.57865150885,\n",
       " 'MSE': 5842867142.034476,\n",
       " 'RMSE': 76438.64953042065,\n",
       " 'R2': 0.5681853037466841}"
      ]
     },
     "execution_count": 74,
     "metadata": {},
     "output_type": "execute_result"
    }
   ],
   "source": [
    "dtr = make_pipeline(\n",
    "    StandardScaler(),\n",
    "    GridSearchCV(DecisionTreeRegressor(),\n",
    "                 param_grid={\n",
    "        'splitter': ['best', 'random'],\n",
    "        'max_depth': [5, 10, 20, 50],\n",
    "        'max_features': ['auto', 'sqrt', 'log2']\n",
    "    },\n",
    "        cv=5,\n",
    "        refit=True))\n",
    "\n",
    "dtr.fit(X_train, y_train)\n",
    "dtr.get_params()['gridsearchcv'].best_params_\n",
    "y_pred = dtr.predict(X_test)\n",
    "info['dtr_sd'] = {'parms': dtr.get_params()['gridsearchcv'].best_params_, 'score': score(y_test, y_pred), 'pred_sd': y_pred}\n",
    "score(y_test, y_pred)"
   ]
  },
  {
   "cell_type": "code",
   "execution_count": 75,
   "metadata": {},
   "outputs": [
    {
     "data": {
      "text/plain": [
       "{'MAE': 55452.57865150885,\n",
       " 'MSE': 5842867142.034476,\n",
       " 'RMSE': 76438.64953042065,\n",
       " 'R2': 0.5681853037466841}"
      ]
     },
     "execution_count": 75,
     "metadata": {},
     "output_type": "execute_result"
    }
   ],
   "source": [
    "dtr = make_pipeline(\n",
    "        MinMaxScaler(),\n",
    "    GridSearchCV(DecisionTreeRegressor(),\n",
    "                 param_grid={\n",
    "        'splitter': ['best', 'random'],\n",
    "        'max_depth': [5, 10, 20, 50],\n",
    "        'max_features': ['auto', 'sqrt', 'log2']\n",
    "    },\n",
    "        cv=5,\n",
    "        refit=True))\n",
    "\n",
    "dtr.fit(X_train, y_train)\n",
    "dtr.get_params()['gridsearchcv'].best_params_\n",
    "y_pred = dtr.predict(X_test)\n",
    "info['dtr_mm'] = {'parms': dtr.get_params()['gridsearchcv'].best_params_, 'score': score(y_test, y_pred), 'pred_sd': y_pred}\n",
    "score(y_test, y_pred)"
   ]
  },
  {
   "cell_type": "code",
   "execution_count": 76,
   "metadata": {},
   "outputs": [
    {
     "data": {
      "text/plain": [
       "{'MAE': 88611.62980495807,\n",
       " 'MSE': 14251475641.97443,\n",
       " 'RMSE': 119379.54448721284,\n",
       " 'R2': -0.05324945371903622}"
      ]
     },
     "execution_count": 76,
     "metadata": {},
     "output_type": "execute_result"
    }
   ],
   "source": [
    "svr = make_pipeline(\n",
    "    StandardScaler(),\n",
    "    GridSearchCV(SVR(),\n",
    "                 param_grid={\n",
    "        'C': np.arange(0.1, 0.2),\n",
    "        'kernel': ['linear', 'poly', 'rbf', 'sigmoid'],\n",
    "        'degree': np.arange(1, 3)\n",
    "    },\n",
    "        cv=5,\n",
    "        refit=True))\n",
    "\n",
    "svr.fit(X_train, y_train)\n",
    "svr.get_params()['gridsearchcv'].best_params_\n",
    "y_pred = svr.predict(X_test)\n",
    "info['svr_sd'] = {'parms': svr.get_params()['gridsearchcv'].best_params_, 'score': score(y_test, y_pred), 'pred_sd': y_pred}\n",
    "\n",
    "score(y_test, y_pred)"
   ]
  },
  {
   "cell_type": "code",
   "execution_count": 77,
   "metadata": {},
   "outputs": [
    {
     "data": {
      "text/plain": [
       "{'MAE': 88923.15725058582,\n",
       " 'MSE': 14346611694.87608,\n",
       " 'RMSE': 119777.3421598429,\n",
       " 'R2': -0.0602804446328844}"
      ]
     },
     "execution_count": 77,
     "metadata": {},
     "output_type": "execute_result"
    }
   ],
   "source": [
    "svr = make_pipeline(\n",
    "    MinMaxScaler(),\n",
    "    GridSearchCV(SVR(),\n",
    "                 param_grid={\n",
    "        'C': np.arange(0.1, 0.2),\n",
    "        'kernel': ['linear', 'poly', 'rbf', 'sigmoid'],\n",
    "        'degree': np.arange(1, 3)\n",
    "    },\n",
    "        cv=5,\n",
    "        refit=True))\n",
    "\n",
    "svr.fit(X_train, y_train)\n",
    "svr.get_params()['gridsearchcv'].best_params_\n",
    "y_pred = svr.predict(X_test)\n",
    "info['svr_mm'] = {'parms': svr.get_params()['gridsearchcv'].best_params_, 'score': score(y_test, y_pred), 'pred_sd': y_pred}\n",
    "score(y_test, y_pred)"
   ]
  },
  {
   "cell_type": "code",
   "execution_count": 78,
   "metadata": {},
   "outputs": [
    {
     "data": {
      "text/plain": [
       "{'MAE': 43628.154726028006,\n",
       " 'MSE': 3864271093.73405,\n",
       " 'RMSE': 62163.26160791476,\n",
       " 'R2': 0.7144126320147308}"
      ]
     },
     "execution_count": 78,
     "metadata": {},
     "output_type": "execute_result"
    }
   ],
   "source": [
    "rfr = make_pipeline(\n",
    "    StandardScaler(),\n",
    "    GridSearchCV(RandomForestRegressor(),\n",
    "                 param_grid={\n",
    "        'max_depth': [5, 10, 20, 50],\n",
    "        'max_features': ['sqrt', 'log2', None],\n",
    "        'bootstrap': [True, False],\n",
    "    },\n",
    "        cv=5,\n",
    "        refit=True))\n",
    "\n",
    "rfr.fit(X_train, y_train)\n",
    "rfr.get_params()['gridsearchcv'].best_params_\n",
    "rfr.get_params()['gridsearchcv'].best_params_\n",
    "y_pred = rfr.predict(X_test)\n",
    "info['rfr_sd'] = {'parms': rfr.get_params()['gridsearchcv'].best_params_, 'score': score(y_test, y_pred), 'pred_sd': y_pred}\n",
    "score(y_test, y_pred)"
   ]
  },
  {
   "cell_type": "code",
   "execution_count": 79,
   "metadata": {},
   "outputs": [
    {
     "data": {
      "text/plain": [
       "{'MAE': 43576.074426470586,\n",
       " 'MSE': 3855185230.3789587,\n",
       " 'RMSE': 62090.137947817115,\n",
       " 'R2': 0.7150841190140933}"
      ]
     },
     "execution_count": 79,
     "metadata": {},
     "output_type": "execute_result"
    }
   ],
   "source": [
    "rfr = make_pipeline(\n",
    "    MinMaxScaler(),\n",
    "    GridSearchCV(RandomForestRegressor(),\n",
    "                 param_grid={\n",
    "        'max_depth': [5, 10, 20, 50],\n",
    "        'max_features': ['sqrt', 'log2', None],\n",
    "        'bootstrap': [True, False],\n",
    "    },\n",
    "        cv=5,\n",
    "        refit=True))\n",
    "\n",
    "rfr.fit(X_train, y_train)\n",
    "rfr.get_params()['gridsearchcv'].best_params_\n",
    "rfr.get_params()['gridsearchcv'].best_params_\n",
    "y_pred = rfr.predict(X_test)\n",
    "info['rfr_mm'] = {'parms': rfr.get_params()['gridsearchcv'].best_params_, 'score': score(y_test, y_pred), 'pred_sd': y_pred}\n",
    "score(y_test, y_pred)"
   ]
  },
  {
   "cell_type": "code",
   "execution_count": 80,
   "metadata": {},
   "outputs": [
    {
     "data": {
      "text/plain": [
       "{'MAE': 43012.379582950365,\n",
       " 'MSE': 3744573795.670835,\n",
       " 'RMSE': 61192.922758034976,\n",
       " 'R2': 0.7232588116640446}"
      ]
     },
     "execution_count": 80,
     "metadata": {},
     "output_type": "execute_result"
    }
   ],
   "source": [
    "xgbr = make_pipeline(\n",
    "    StandardScaler(),\n",
    "    GridSearchCV(xgb.XGBRegressor(),\n",
    "                 param_grid={\n",
    "        'learning_rate': [0.01, 0.1],\n",
    "        'max_depth': [3, 5, 7, 10],\n",
    "        'min_child_weight': [1, 3, 5],\n",
    "        'subsample': [0.5, 0.7],\n",
    "        'colsample_bytree': [0.5, 0.7],\n",
    "        'objective': ['reg:squarederror']\n",
    "    },\n",
    "        cv=5,\n",
    "        refit=True))\n",
    "\n",
    "xgbr.fit(X_train, y_train)\n",
    "xgbr.get_params()['gridsearchcv'].best_params_\n",
    "y_pred = xgbr.predict(X_test)\n",
    "info['xgbr_sd'] = {'parms': xgbr.get_params()['gridsearchcv'].best_params_, 'score': score(y_test, y_pred), 'pred_sd': y_pred}\n",
    "score(y_test, y_pred)"
   ]
  },
  {
   "cell_type": "code",
   "execution_count": 81,
   "metadata": {},
   "outputs": [
    {
     "data": {
      "text/plain": [
       "{'MAE': 43175.905369944856,\n",
       " 'MSE': 3770020788.5769587,\n",
       " 'RMSE': 61400.49501898953,\n",
       " 'R2': 0.7213781621053261}"
      ]
     },
     "execution_count": 81,
     "metadata": {},
     "output_type": "execute_result"
    }
   ],
   "source": [
    "xgbr = make_pipeline(\n",
    "    MinMaxScaler(),\n",
    "    GridSearchCV(xgb.XGBRegressor(),\n",
    "                 param_grid={\n",
    "        'learning_rate': [0.01, 0.1],\n",
    "        'max_depth': [3, 5, 7, 10],\n",
    "        'min_child_weight': [1, 3, 5],\n",
    "        'subsample': [0.5, 0.7],\n",
    "        'colsample_bytree': [0.5, 0.7],\n",
    "        'objective': ['reg:squarederror']\n",
    "    },\n",
    "        cv=5,\n",
    "        refit=True))\n",
    "\n",
    "xgbr.fit(X_train, y_train)\n",
    "xgbr.get_params()['gridsearchcv'].best_params_\n",
    "y_pred = xgbr.predict(X_test)\n",
    "info['xgbr_mm'] = {'parms': xgbr.get_params()['gridsearchcv'].best_params_, 'score': score(y_test, y_pred), 'pred_sd': y_pred}\n",
    "\n",
    "score(y_test, y_pred)"
   ]
  },
  {
   "cell_type": "code",
   "execution_count": 82,
   "metadata": {
    "id": "MQzN3X-qAK04"
   },
   "outputs": [
    {
     "data": {
      "text/plain": [
       "{'MAE': 79847.56459809428,\n",
       " 'MSE': 10432935291.994114,\n",
       " 'RMSE': 102141.74118348538,\n",
       " 'R2': 0.2289582024323984}"
      ]
     },
     "execution_count": 82,
     "metadata": {},
     "output_type": "execute_result"
    }
   ],
   "source": [
    "cbr = make_pipeline(\n",
    "    StandardScaler(),\n",
    "    GridSearchCV(cb.CatBoostRegressor(verbose=False),\n",
    "                 param_grid={\n",
    "        'depth': [6, 8, 10, 50],\n",
    "        'learning_rate': [0.01, 0.05, 0.1],\n",
    "        'iterations': [30, 50, 100]\n",
    "    },\n",
    "        cv=5,\n",
    "        refit=True))\n",
    "\n",
    "cbr.fit(X_train, y_train)\n",
    "cbr.get_params()['gridsearchcv'].best_params_\n",
    "y_pred = cbr.predict(X_test)\n",
    "info['cbr_sd'] = {'parms': xgbr.get_params()['gridsearchcv'].best_params_, 'score': score(y_test, y_pred), 'pred_sd': y_pred}\n",
    "score(y_test, y_pred)"
   ]
  },
  {
   "cell_type": "code",
   "execution_count": 172,
   "metadata": {},
   "outputs": [
    {
     "data": {
      "text/plain": [
       "{'MAE': 79847.56459809428,\n",
       " 'MSE': 10432935291.994114,\n",
       " 'RMSE': 102141.74118348538,\n",
       " 'R2': 0.2289582024323984}"
      ]
     },
     "execution_count": 172,
     "metadata": {},
     "output_type": "execute_result"
    }
   ],
   "source": [
    "cbr = make_pipeline(\n",
    "    MinMaxScaler(),\n",
    "    GridSearchCV(cb.CatBoostRegressor(verbose=False),\n",
    "                 param_grid={\n",
    "        'depth': [6, 8, 10, 50],\n",
    "        'learning_rate': [0.01, 0.05, 0.1],\n",
    "        'iterations': [30, 50, 100, 500, 1000]\n",
    "    },\n",
    "        cv=5,\n",
    "        refit=True))\n",
    "\n",
    "cbr.fit(X_train, y_train)\n",
    "cbr.get_params()['gridsearchcv'].best_params_\n",
    "y_pred = cbr.predict(X_test)\n",
    "info['cbr_mm'] = {'parms': cbr.get_params()['gridsearchcv'].best_params_, 'score': score(y_test, y_pred), 'pred_sd': y_pred}\n",
    "score(y_test, y_pred)"
   ]
  },
  {
   "cell_type": "code",
   "execution_count": 84,
   "metadata": {},
   "outputs": [
    {
     "data": {
      "text/plain": [
       "{'MAE': 42983.03058522772,\n",
       " 'MSE': 3772839886.1763363,\n",
       " 'RMSE': 61423.44736479984,\n",
       " 'R2': 0.7211698178551504}"
      ]
     },
     "execution_count": 84,
     "metadata": {},
     "output_type": "execute_result"
    }
   ],
   "source": [
    "lgbr = make_pipeline(\n",
    "    StandardScaler(),\n",
    "    GridSearchCV(lgb.LGBMRegressor(verbose=-1),\n",
    "                 param_grid={\n",
    "        'boosting_type': ['gbdt', 'dart', 'goss', 'rf'],\n",
    "        'reg_alpha': [0.1, 0.01, 0.001],\n",
    "        \n",
    "        'max_depth': [6, 8, 10]\n",
    "    },\n",
    "        cv=5,\n",
    "        refit=True))\n",
    "lgbr.fit(X_train, y_train)\n",
    "lgbr.get_params()['gridsearchcv'].best_params_\n",
    "y_pred = lgbr.predict(X_test)\n",
    "info['lgbr_sd'] = {'parms': cbr.get_params()['gridsearchcv'].best_params_, 'score': score(y_test, y_pred), 'pred_sd': y_pred}\n",
    "\n",
    "score(y_test, y_pred)"
   ]
  },
  {
   "cell_type": "code",
   "execution_count": 85,
   "metadata": {},
   "outputs": [
    {
     "data": {
      "text/plain": [
       "{'MAE': 42747.81046204539,\n",
       " 'MSE': 3733683783.1407394,\n",
       " 'RMSE': 61103.876989441014,\n",
       " 'R2': 0.724063633567156}"
      ]
     },
     "execution_count": 85,
     "metadata": {},
     "output_type": "execute_result"
    }
   ],
   "source": [
    "lgbr = make_pipeline(\n",
    "    MinMaxScaler(),\n",
    "    GridSearchCV(lgb.LGBMRegressor(),\n",
    "                 param_grid={\n",
    "        'boosting_type': ['gbdt', 'dart', 'goss', 'rf'],\n",
    "        'reg_alpha': [0.1, 0.01, 0.001],\n",
    "        \n",
    "        'max_depth': [6, 8, 10]\n",
    "    },\n",
    "        cv=5,\n",
    "        refit=True))\n",
    "lgbr.fit(X_train, y_train)\n",
    "lgbr.get_params()['gridsearchcv'].best_params_\n",
    "y_pred = lgbr.predict(X_test)\n",
    "info['lgbr_mm'] = {'parms': lgbr.get_params()['gridsearchcv'].best_params_, 'score': score(y_test, y_pred), 'pred_sd': y_pred}\n",
    "score(y_test, y_pred)"
   ]
  },
  {
   "cell_type": "code",
   "execution_count": 86,
   "metadata": {},
   "outputs": [
    {
     "data": {
      "text/plain": [
       "'\\n\\n\\n'"
      ]
     },
     "execution_count": 86,
     "metadata": {},
     "output_type": "execute_result"
    }
   ],
   "source": [
    "'''\n",
    "After finding the best hyperparameters, all models have better R2 with both MinMax and Standard scaler.\n",
    "Both LGBMRegressor and XGBRegressor are good with the R2 0.72.\n",
    "Even with different hyperparameters SVR still the worst and R2 is in negative.\n",
    "CatBoostRegressor R2 is 0.2 which is weird because without using Gridsearch the R2 was 0.7.\n",
    "\n",
    "'''"
   ]
  },
  {
   "cell_type": "code",
   "execution_count": 275,
   "metadata": {},
   "outputs": [],
   "source": [
    "import pickle\n",
    "\n",
    "# Store data (serialize)\n",
    "#with open('reg_info.pickle', 'wb') as handle:\n",
    "#    pickle.dump(info, handle, protocol=pickle.HIGHEST_PROTOCOL)\n",
    "\n",
    "# Load data (deserialize)\n",
    "#with open('reg_info.pickle', 'rb') as handle:\n",
    "#    info = pickle.load(handle)"
   ]
  },
  {
   "cell_type": "code",
   "execution_count": 174,
   "metadata": {},
   "outputs": [],
   "source": [
    "y_test =  y_test.to_numpy().flatten()"
   ]
  },
  {
   "cell_type": "code",
   "execution_count": 175,
   "metadata": {},
   "outputs": [],
   "source": [
    "mapping = {\n",
    "    'Linear regression':['lr_sd', 'lr_mm'], 'Decision tree regression':['dtr_sd', 'dtr_mm'], 'kNN':['knn_sd', 'knn_mm'], ' Support vector machine regression':['svr_sd', 'svr_mm'],\n",
    "             'Random Forest regression':['rfr_sd', 'rfr_mm'], 'XGBoost regression':['xgbr_sd', 'xgbr_mm'], 'Cat Boost regression':['cbr_sd', 'cbr_mm'], 'Light GBM regression':['lgbr_sd', 'lgbr_mm']\n",
    "}"
   ]
  },
  {
   "cell_type": "code",
   "execution_count": 176,
   "metadata": {},
   "outputs": [],
   "source": [
    "selected = []"
   ]
  },
  {
   "cell_type": "code",
   "execution_count": 259,
   "metadata": {},
   "outputs": [],
   "source": [
    " full_name = widgets.Label(value='Ehab Ghannoum')"
   ]
  },
  {
   "cell_type": "code",
   "execution_count": 177,
   "metadata": {},
   "outputs": [],
   "source": [
    "#####################################\n",
    "def get_selected_model(selected_model):\n",
    "    selected.clear()\n",
    "    print(selected_model.new)\n",
    "    selected.append(selected_model.new)\n",
    "model_dropdown = widgets.Dropdown(\n",
    "    options=['Linear regression', 'Decision tree regression', 'kNN', ' Support vector machine regression',\n",
    "             'Random Forest regression', 'XGBoost regression', 'Cat Boost regression', 'Light GBM regression'],\n",
    "    value='Linear regression',\n",
    "    description='Model:',\n",
    "    disabled=False,\n",
    ")\n",
    "model_dropdown.observe(get_selected_model, names='value')\n",
    "\n",
    "\n",
    "def get_selected_metrics(selected_metrics):\n",
    "    print(str(selected_metrics['owner']))\n",
    "    selected.append(str(selected_metrics['owner']))\n",
    "    \n",
    "r2_checkbox = widgets.Checkbox(\n",
    "    value=0,\n",
    "    description='R2',\n",
    "    disabled=False,\n",
    "    indent=False\n",
    ")\n",
    "r2_checkbox.observe(get_selected_metrics, names='value')\n",
    "\n",
    "def get_selected_metrics(selected_metrics):\n",
    "    print(str(selected_metrics['owner']))\n",
    "    selected.append(str(selected_metrics['owner']))\n",
    "\n",
    "msr_checkbox = widgets.Checkbox(\n",
    "    value=0,\n",
    "    description='MSE',\n",
    "    disabled=False,\n",
    "    indent=False\n",
    ")\n",
    "msr_checkbox.observe(get_selected_metrics, names='value')\n",
    "\n",
    "\n",
    "def get_selected_metrics(selected_metrics):\n",
    "    print(str(selected_metrics['owner']))\n",
    "    selected.append(str(selected_metrics['owner']))\n",
    "    \n",
    "rmse_checkbox = widgets.Checkbox(\n",
    "    value=0,\n",
    "    description='RMSE',\n",
    "    disabled=False,\n",
    "    indent=False\n",
    ")\n",
    "rmse_checkbox.observe(get_selected_metrics, names='value')\n",
    "\n",
    "def get_selected_metrics(selected_metrics):\n",
    "    print(str(selected_metrics['owner']))\n",
    "    selected.append(str(selected_metrics['owner']))\n",
    "    \n",
    "mae_checkbox = widgets.Checkbox(\n",
    "    value=0,\n",
    "    description='MAE',\n",
    "    disabled=False,\n",
    "    indent=False\n",
    ")\n",
    "mae_checkbox.observe(get_selected_metrics, names='value')\n",
    "\n",
    "\n",
    "\n",
    "def get_selected_scaler(selected_scaler):\n",
    "    print(selected_scaler['new'])\n",
    "    selected.append(selected_scaler['new'])\n",
    "    \n",
    "scaler_radiobuttons = widgets.RadioButtons(\n",
    "    options=['Standard Scaler', 'MinMaxScaler'],\n",
    "    description='Scaler:',\n",
    "    disabled=False\n",
    ")\n",
    "scaler_radiobuttons.observe(get_selected_scaler, names='value')"
   ]
  },
  {
   "cell_type": "code",
   "execution_count": 178,
   "metadata": {},
   "outputs": [],
   "source": [
    "def create_scatter(feature1, feature2):\n",
    "    with plt.style.context(\"ggplot\"):\n",
    "        fig = plt.figure(figsize=(8, 4))\n",
    "        plt.scatter(x=df[feature1],\n",
    "                    y=df[feature2],\n",
    "                    s=20\n",
    "                    )\n",
    "        plt.xlabel(feature1.capitalize())\n",
    "        plt.ylabel(feature2.capitalize())\n",
    "        plt.title(\"%s vs %s\" % (feature1.capitalize(), feature2.capitalize()))\n",
    "\n",
    "\n",
    "feature1_drop = widgets.Dropdown(options=df.columns, value=df.columns[0])\n",
    "feature2_drop = widgets.Dropdown(options=df.columns, value=df.columns[1])\n",
    "_2dplots = widgets.interactive_output(\n",
    "    create_scatter, {'feature1': feature1_drop, 'feature2': feature2_drop})\n",
    "\n",
    "widgets.interact(train=(X_train), test=(X_test))\n",
    "\n",
    "\n",
    "def train_test_bar_plot():\n",
    "    with plt.style.context(\"ggplot\"):\n",
    "        fig = plt.figure(figsize=(8, 4))\n",
    "        xaxis = ['train set', 'test set']\n",
    "        yaxis = [X_train.shape[0], X_test.shape[0]]\n",
    "        plt.bar(x=xaxis,\n",
    "                height=yaxis,\n",
    "                )\n",
    "        plt.title(\"Size of train and test sets\")\n",
    "\n",
    "size_barplots = interactive(train_test_bar_plot)\n",
    "\n",
    "\n",
    "widgets.interact(df=(df))\n",
    "def correlation_matrix_plot():\n",
    "    with plt.style.context(\"ggplot\"):\n",
    "        fig = plt.figure(figsize=(8, 4))\n",
    "        sns.heatmap(df.corr().abs(), annot=True)\n",
    "        plt.title(\"Correlation_Matrix\")\n",
    "\n",
    "correlation_matrix_plot = interactive(correlation_matrix_plot)"
   ]
  },
  {
   "cell_type": "code",
   "execution_count": 179,
   "metadata": {},
   "outputs": [],
   "source": [
    "out = widgets.Output()\n",
    "\n",
    "def foo(b):\n",
    "    model = selected[0]\n",
    "    metrics = []\n",
    "    scaler = selected[-1]\n",
    "    for i in selected:\n",
    "        if 'Checkbox' in i:\n",
    "            i = i[9:-1]\n",
    "            result = [n.strip() for n in i.split(',')]\n",
    "            if 'True'  in result[0]:\n",
    "                metrics.append(result[1][12:])\n",
    "    metrics = [eval(i) for i in metrics]\n",
    "    metrics = set(metrics)\n",
    "    selection =  [model, metrics, scaler]\n",
    "    a = ''\n",
    "    if scaler == 'Standard Scaler':\n",
    "        a = mapping[model][0]\n",
    "    else:\n",
    "        a = mapping[model][1]\n",
    "    my_scores = {}\n",
    "    for m in metrics:\n",
    "        my_scores[m] = info[a]['score'][m]\n",
    "    with out:\n",
    "        from IPython.display import clear_output\n",
    "        clear_output()\n",
    "        label = display('The model:', model)\n",
    "        label = display('The hyperparameters: ', info[a]['parms'])\n",
    "        label = display('scores: ', my_scores)\n",
    "        label = display(f'The scaler: ', scaler)\n",
    "button = widgets.Button(description=\"Display\")\n",
    "button.on_click(foo)"
   ]
  },
  {
   "cell_type": "code",
   "execution_count": 258,
   "metadata": {},
   "outputs": [],
   "source": [
    "from sklearn.metrics import mean_absolute_error\n",
    "\n",
    "out1 = widgets.Output()\n",
    "def train(b):\n",
    "    model = selected[0]\n",
    "    metrics = []\n",
    "    scaler = selected[-1]\n",
    "    for i in selected:\n",
    "        if 'Checkbox' in i:\n",
    "            i = i[9:-1]\n",
    "            result = [n.strip() for n in i.split(',')]\n",
    "            if 'True'  in result[0]:\n",
    "                metrics.append(result[1][12:])\n",
    "    metrics = [eval(i) for i in metrics]\n",
    "    metrics = set(metrics)\n",
    "    selection =  [model, metrics, scaler]\n",
    "\n",
    "    \n",
    "    a = ''\n",
    "    if scaler == 'Standard Scaler':\n",
    "        a = mapping[model][0]\n",
    "    else:\n",
    "        a = mapping[model][1]\n",
    "        y_pred = info[a]['pred_sd']\n",
    "        with out1:\n",
    "            from IPython.display import clear_output\n",
    "            clear_output()\n",
    "            err = np.abs(y_test - y_pred).flatten()\n",
    "            err = pd.Series(err)\n",
    "            test = pd.Series(y_test)\n",
    "            ypred = pd.Series(y_pred)\n",
    "            res = pd.DataFrame([err,test, y_pred]).T\n",
    "            res.columns = ['test', 'pred', 'err']\n",
    "            res.sort_values(by='err', ascending=True)\n",
    "            display(res)\n",
    "\n",
    "    \n",
    "button1 = widgets.Button(description=\"Train\")\n",
    "button1.on_click(train)"
   ]
  },
  {
   "cell_type": "code",
   "execution_count": 260,
   "metadata": {},
   "outputs": [],
   "source": [
    "control = VBox(children=[full_name ,model_dropdown,\n",
    "                         r2_checkbox, msr_checkbox, rmse_checkbox, mae_checkbox, scaler_radiobuttons\n",
    "                         ])\n"
   ]
  },
  {
   "cell_type": "code",
   "execution_count": 269,
   "metadata": {},
   "outputs": [],
   "source": [
    "preprocessing = VBox(children=[full_name,widgets.HBox(\n",
    "    [feature1_drop, feature2_drop]), _2dplots, size_barplots, correlation_matrix_plot])\n"
   ]
  },
  {
   "cell_type": "code",
   "execution_count": 270,
   "metadata": {},
   "outputs": [],
   "source": [
    "model_info = VBox(children=[full_name,button, out\n",
    "                         ])"
   ]
  },
  {
   "cell_type": "code",
   "execution_count": 271,
   "metadata": {},
   "outputs": [],
   "source": [
    "forecast = VBox(children=[full_name,button1,\n",
    "                         out1])"
   ]
  },
  {
   "cell_type": "code",
   "execution_count": 273,
   "metadata": {},
   "outputs": [
    {
     "data": {
      "application/vnd.jupyter.widget-view+json": {
       "model_id": "1a3e630e24714dac8947c577c2aaef8e",
       "version_major": 2,
       "version_minor": 0
      },
      "text/plain": [
       "VBox(children=(Tab(children=(VBox(children=(Label(value='Ehab Ghannoum'), Dropdown(description='Model:', index…"
      ]
     },
     "metadata": {},
     "output_type": "display_data"
    }
   ],
   "source": [
    "tab = widgets.Tab(children=[control, preprocessing, model_info, forecast])\n",
    "tab.set_title(0, 'control')\n",
    "tab.set_title(1, 'Preporcessing')\n",
    "tab.set_title(2, 'Model info')\n",
    "tab.set_title(3, 'Forecasting')\n",
    "VBox(children=[tab])\n",
    "\n"
   ]
  },
  {
   "cell_type": "code",
   "execution_count": 236,
   "metadata": {},
   "outputs": [],
   "source": [
    "scores_sd = {}\n",
    "for key, value in info.items():\n",
    "    if 'sd' in key:\n",
    "        scores_sd[key] = info[key]['score']\n",
    "scores_sd = pd.DataFrame(scores_sd).transpose()"
   ]
  },
  {
   "cell_type": "code",
   "execution_count": 216,
   "metadata": {},
   "outputs": [
    {
     "data": {
      "application/vnd.plotly.v1+json": {
       "config": {
        "plotlyServerURL": "https://plot.ly"
       },
       "data": [
        {
         "alignmentgroup": "True",
         "hovertemplate": "variable=MAE<br>index=%{x}<br>value=%{y}<extra></extra>",
         "legendgroup": "MAE",
         "marker": {
          "color": "#636efa",
          "pattern": {
           "shape": ""
          }
         },
         "name": "MAE",
         "offsetgroup": "MAE",
         "orientation": "v",
         "showlegend": true,
         "textposition": "auto",
         "type": "bar",
         "x": [
          "lr_sd",
          "knn_sd",
          "dtr_sd",
          "svr_sd",
          "rfr_sd",
          "xgbr_sd",
          "cbr_sd",
          "lgbr_sd"
         ],
         "xaxis": "x",
         "y": [
          59958.59895847045,
          47246.20976856097,
          55452.57865150885,
          88611.62980495807,
          43628.154726028006,
          43012.379582950365,
          79847.56459809428,
          42983.03058522772
         ],
         "yaxis": "y"
        },
        {
         "alignmentgroup": "True",
         "hovertemplate": "variable=MSE<br>index=%{x}<br>value=%{y}<extra></extra>",
         "legendgroup": "MSE",
         "marker": {
          "color": "#EF553B",
          "pattern": {
           "shape": ""
          }
         },
         "name": "MSE",
         "offsetgroup": "MSE",
         "orientation": "v",
         "showlegend": true,
         "textposition": "auto",
         "type": "bar",
         "x": [
          "lr_sd",
          "knn_sd",
          "dtr_sd",
          "svr_sd",
          "rfr_sd",
          "xgbr_sd",
          "cbr_sd",
          "lgbr_sd"
         ],
         "xaxis": "x",
         "y": [
          6485490671.691809,
          4461866916.899056,
          5842867142.034476,
          14251475641.97443,
          3864271093.73405,
          3744573795.670835,
          10432935291.994114,
          3772839886.1763363
         ],
         "yaxis": "y"
        },
        {
         "alignmentgroup": "True",
         "hovertemplate": "variable=RMSE<br>index=%{x}<br>value=%{y}<extra></extra>",
         "legendgroup": "RMSE",
         "marker": {
          "color": "#00cc96",
          "pattern": {
           "shape": ""
          }
         },
         "name": "RMSE",
         "offsetgroup": "RMSE",
         "orientation": "v",
         "showlegend": true,
         "textposition": "auto",
         "type": "bar",
         "x": [
          "lr_sd",
          "knn_sd",
          "dtr_sd",
          "svr_sd",
          "rfr_sd",
          "xgbr_sd",
          "cbr_sd",
          "lgbr_sd"
         ],
         "xaxis": "x",
         "y": [
          80532.54417744301,
          66797.20740344656,
          76438.64953042065,
          119379.54448721284,
          62163.26160791476,
          61192.922758034976,
          102141.74118348538,
          61423.44736479984
         ],
         "yaxis": "y"
        },
        {
         "alignmentgroup": "True",
         "hovertemplate": "variable=R2<br>index=%{x}<br>value=%{y}<extra></extra>",
         "legendgroup": "R2",
         "marker": {
          "color": "#ab63fa",
          "pattern": {
           "shape": ""
          }
         },
         "name": "R2",
         "offsetgroup": "R2",
         "orientation": "v",
         "showlegend": true,
         "textposition": "auto",
         "type": "bar",
         "x": [
          "lr_sd",
          "knn_sd",
          "dtr_sd",
          "svr_sd",
          "rfr_sd",
          "xgbr_sd",
          "cbr_sd",
          "lgbr_sd"
         ],
         "xaxis": "x",
         "y": [
          0.520692475736292,
          0.670247558158132,
          0.5681853037466841,
          -0.05324945371903622,
          0.7144126320147308,
          0.7232588116640446,
          0.2289582024323984,
          0.7211698178551504
         ],
         "yaxis": "y"
        }
       ],
       "layout": {
        "barmode": "relative",
        "legend": {
         "title": {
          "text": "variable"
         },
         "tracegroupgap": 0
        },
        "margin": {
         "t": 60
        },
        "template": {
         "data": {
          "bar": [
           {
            "error_x": {
             "color": "#2a3f5f"
            },
            "error_y": {
             "color": "#2a3f5f"
            },
            "marker": {
             "line": {
              "color": "#E5ECF6",
              "width": 0.5
             },
             "pattern": {
              "fillmode": "overlay",
              "size": 10,
              "solidity": 0.2
             }
            },
            "type": "bar"
           }
          ],
          "barpolar": [
           {
            "marker": {
             "line": {
              "color": "#E5ECF6",
              "width": 0.5
             },
             "pattern": {
              "fillmode": "overlay",
              "size": 10,
              "solidity": 0.2
             }
            },
            "type": "barpolar"
           }
          ],
          "carpet": [
           {
            "aaxis": {
             "endlinecolor": "#2a3f5f",
             "gridcolor": "white",
             "linecolor": "white",
             "minorgridcolor": "white",
             "startlinecolor": "#2a3f5f"
            },
            "baxis": {
             "endlinecolor": "#2a3f5f",
             "gridcolor": "white",
             "linecolor": "white",
             "minorgridcolor": "white",
             "startlinecolor": "#2a3f5f"
            },
            "type": "carpet"
           }
          ],
          "choropleth": [
           {
            "colorbar": {
             "outlinewidth": 0,
             "ticks": ""
            },
            "type": "choropleth"
           }
          ],
          "contour": [
           {
            "colorbar": {
             "outlinewidth": 0,
             "ticks": ""
            },
            "colorscale": [
             [
              0,
              "#0d0887"
             ],
             [
              0.1111111111111111,
              "#46039f"
             ],
             [
              0.2222222222222222,
              "#7201a8"
             ],
             [
              0.3333333333333333,
              "#9c179e"
             ],
             [
              0.4444444444444444,
              "#bd3786"
             ],
             [
              0.5555555555555556,
              "#d8576b"
             ],
             [
              0.6666666666666666,
              "#ed7953"
             ],
             [
              0.7777777777777778,
              "#fb9f3a"
             ],
             [
              0.8888888888888888,
              "#fdca26"
             ],
             [
              1,
              "#f0f921"
             ]
            ],
            "type": "contour"
           }
          ],
          "contourcarpet": [
           {
            "colorbar": {
             "outlinewidth": 0,
             "ticks": ""
            },
            "type": "contourcarpet"
           }
          ],
          "heatmap": [
           {
            "colorbar": {
             "outlinewidth": 0,
             "ticks": ""
            },
            "colorscale": [
             [
              0,
              "#0d0887"
             ],
             [
              0.1111111111111111,
              "#46039f"
             ],
             [
              0.2222222222222222,
              "#7201a8"
             ],
             [
              0.3333333333333333,
              "#9c179e"
             ],
             [
              0.4444444444444444,
              "#bd3786"
             ],
             [
              0.5555555555555556,
              "#d8576b"
             ],
             [
              0.6666666666666666,
              "#ed7953"
             ],
             [
              0.7777777777777778,
              "#fb9f3a"
             ],
             [
              0.8888888888888888,
              "#fdca26"
             ],
             [
              1,
              "#f0f921"
             ]
            ],
            "type": "heatmap"
           }
          ],
          "heatmapgl": [
           {
            "colorbar": {
             "outlinewidth": 0,
             "ticks": ""
            },
            "colorscale": [
             [
              0,
              "#0d0887"
             ],
             [
              0.1111111111111111,
              "#46039f"
             ],
             [
              0.2222222222222222,
              "#7201a8"
             ],
             [
              0.3333333333333333,
              "#9c179e"
             ],
             [
              0.4444444444444444,
              "#bd3786"
             ],
             [
              0.5555555555555556,
              "#d8576b"
             ],
             [
              0.6666666666666666,
              "#ed7953"
             ],
             [
              0.7777777777777778,
              "#fb9f3a"
             ],
             [
              0.8888888888888888,
              "#fdca26"
             ],
             [
              1,
              "#f0f921"
             ]
            ],
            "type": "heatmapgl"
           }
          ],
          "histogram": [
           {
            "marker": {
             "pattern": {
              "fillmode": "overlay",
              "size": 10,
              "solidity": 0.2
             }
            },
            "type": "histogram"
           }
          ],
          "histogram2d": [
           {
            "colorbar": {
             "outlinewidth": 0,
             "ticks": ""
            },
            "colorscale": [
             [
              0,
              "#0d0887"
             ],
             [
              0.1111111111111111,
              "#46039f"
             ],
             [
              0.2222222222222222,
              "#7201a8"
             ],
             [
              0.3333333333333333,
              "#9c179e"
             ],
             [
              0.4444444444444444,
              "#bd3786"
             ],
             [
              0.5555555555555556,
              "#d8576b"
             ],
             [
              0.6666666666666666,
              "#ed7953"
             ],
             [
              0.7777777777777778,
              "#fb9f3a"
             ],
             [
              0.8888888888888888,
              "#fdca26"
             ],
             [
              1,
              "#f0f921"
             ]
            ],
            "type": "histogram2d"
           }
          ],
          "histogram2dcontour": [
           {
            "colorbar": {
             "outlinewidth": 0,
             "ticks": ""
            },
            "colorscale": [
             [
              0,
              "#0d0887"
             ],
             [
              0.1111111111111111,
              "#46039f"
             ],
             [
              0.2222222222222222,
              "#7201a8"
             ],
             [
              0.3333333333333333,
              "#9c179e"
             ],
             [
              0.4444444444444444,
              "#bd3786"
             ],
             [
              0.5555555555555556,
              "#d8576b"
             ],
             [
              0.6666666666666666,
              "#ed7953"
             ],
             [
              0.7777777777777778,
              "#fb9f3a"
             ],
             [
              0.8888888888888888,
              "#fdca26"
             ],
             [
              1,
              "#f0f921"
             ]
            ],
            "type": "histogram2dcontour"
           }
          ],
          "mesh3d": [
           {
            "colorbar": {
             "outlinewidth": 0,
             "ticks": ""
            },
            "type": "mesh3d"
           }
          ],
          "parcoords": [
           {
            "line": {
             "colorbar": {
              "outlinewidth": 0,
              "ticks": ""
             }
            },
            "type": "parcoords"
           }
          ],
          "pie": [
           {
            "automargin": true,
            "type": "pie"
           }
          ],
          "scatter": [
           {
            "fillpattern": {
             "fillmode": "overlay",
             "size": 10,
             "solidity": 0.2
            },
            "type": "scatter"
           }
          ],
          "scatter3d": [
           {
            "line": {
             "colorbar": {
              "outlinewidth": 0,
              "ticks": ""
             }
            },
            "marker": {
             "colorbar": {
              "outlinewidth": 0,
              "ticks": ""
             }
            },
            "type": "scatter3d"
           }
          ],
          "scattercarpet": [
           {
            "marker": {
             "colorbar": {
              "outlinewidth": 0,
              "ticks": ""
             }
            },
            "type": "scattercarpet"
           }
          ],
          "scattergeo": [
           {
            "marker": {
             "colorbar": {
              "outlinewidth": 0,
              "ticks": ""
             }
            },
            "type": "scattergeo"
           }
          ],
          "scattergl": [
           {
            "marker": {
             "colorbar": {
              "outlinewidth": 0,
              "ticks": ""
             }
            },
            "type": "scattergl"
           }
          ],
          "scattermapbox": [
           {
            "marker": {
             "colorbar": {
              "outlinewidth": 0,
              "ticks": ""
             }
            },
            "type": "scattermapbox"
           }
          ],
          "scatterpolar": [
           {
            "marker": {
             "colorbar": {
              "outlinewidth": 0,
              "ticks": ""
             }
            },
            "type": "scatterpolar"
           }
          ],
          "scatterpolargl": [
           {
            "marker": {
             "colorbar": {
              "outlinewidth": 0,
              "ticks": ""
             }
            },
            "type": "scatterpolargl"
           }
          ],
          "scatterternary": [
           {
            "marker": {
             "colorbar": {
              "outlinewidth": 0,
              "ticks": ""
             }
            },
            "type": "scatterternary"
           }
          ],
          "surface": [
           {
            "colorbar": {
             "outlinewidth": 0,
             "ticks": ""
            },
            "colorscale": [
             [
              0,
              "#0d0887"
             ],
             [
              0.1111111111111111,
              "#46039f"
             ],
             [
              0.2222222222222222,
              "#7201a8"
             ],
             [
              0.3333333333333333,
              "#9c179e"
             ],
             [
              0.4444444444444444,
              "#bd3786"
             ],
             [
              0.5555555555555556,
              "#d8576b"
             ],
             [
              0.6666666666666666,
              "#ed7953"
             ],
             [
              0.7777777777777778,
              "#fb9f3a"
             ],
             [
              0.8888888888888888,
              "#fdca26"
             ],
             [
              1,
              "#f0f921"
             ]
            ],
            "type": "surface"
           }
          ],
          "table": [
           {
            "cells": {
             "fill": {
              "color": "#EBF0F8"
             },
             "line": {
              "color": "white"
             }
            },
            "header": {
             "fill": {
              "color": "#C8D4E3"
             },
             "line": {
              "color": "white"
             }
            },
            "type": "table"
           }
          ]
         },
         "layout": {
          "annotationdefaults": {
           "arrowcolor": "#2a3f5f",
           "arrowhead": 0,
           "arrowwidth": 1
          },
          "autotypenumbers": "strict",
          "coloraxis": {
           "colorbar": {
            "outlinewidth": 0,
            "ticks": ""
           }
          },
          "colorscale": {
           "diverging": [
            [
             0,
             "#8e0152"
            ],
            [
             0.1,
             "#c51b7d"
            ],
            [
             0.2,
             "#de77ae"
            ],
            [
             0.3,
             "#f1b6da"
            ],
            [
             0.4,
             "#fde0ef"
            ],
            [
             0.5,
             "#f7f7f7"
            ],
            [
             0.6,
             "#e6f5d0"
            ],
            [
             0.7,
             "#b8e186"
            ],
            [
             0.8,
             "#7fbc41"
            ],
            [
             0.9,
             "#4d9221"
            ],
            [
             1,
             "#276419"
            ]
           ],
           "sequential": [
            [
             0,
             "#0d0887"
            ],
            [
             0.1111111111111111,
             "#46039f"
            ],
            [
             0.2222222222222222,
             "#7201a8"
            ],
            [
             0.3333333333333333,
             "#9c179e"
            ],
            [
             0.4444444444444444,
             "#bd3786"
            ],
            [
             0.5555555555555556,
             "#d8576b"
            ],
            [
             0.6666666666666666,
             "#ed7953"
            ],
            [
             0.7777777777777778,
             "#fb9f3a"
            ],
            [
             0.8888888888888888,
             "#fdca26"
            ],
            [
             1,
             "#f0f921"
            ]
           ],
           "sequentialminus": [
            [
             0,
             "#0d0887"
            ],
            [
             0.1111111111111111,
             "#46039f"
            ],
            [
             0.2222222222222222,
             "#7201a8"
            ],
            [
             0.3333333333333333,
             "#9c179e"
            ],
            [
             0.4444444444444444,
             "#bd3786"
            ],
            [
             0.5555555555555556,
             "#d8576b"
            ],
            [
             0.6666666666666666,
             "#ed7953"
            ],
            [
             0.7777777777777778,
             "#fb9f3a"
            ],
            [
             0.8888888888888888,
             "#fdca26"
            ],
            [
             1,
             "#f0f921"
            ]
           ]
          },
          "colorway": [
           "#636efa",
           "#EF553B",
           "#00cc96",
           "#ab63fa",
           "#FFA15A",
           "#19d3f3",
           "#FF6692",
           "#B6E880",
           "#FF97FF",
           "#FECB52"
          ],
          "font": {
           "color": "#2a3f5f"
          },
          "geo": {
           "bgcolor": "white",
           "lakecolor": "white",
           "landcolor": "#E5ECF6",
           "showlakes": true,
           "showland": true,
           "subunitcolor": "white"
          },
          "hoverlabel": {
           "align": "left"
          },
          "hovermode": "closest",
          "mapbox": {
           "style": "light"
          },
          "paper_bgcolor": "white",
          "plot_bgcolor": "#E5ECF6",
          "polar": {
           "angularaxis": {
            "gridcolor": "white",
            "linecolor": "white",
            "ticks": ""
           },
           "bgcolor": "#E5ECF6",
           "radialaxis": {
            "gridcolor": "white",
            "linecolor": "white",
            "ticks": ""
           }
          },
          "scene": {
           "xaxis": {
            "backgroundcolor": "#E5ECF6",
            "gridcolor": "white",
            "gridwidth": 2,
            "linecolor": "white",
            "showbackground": true,
            "ticks": "",
            "zerolinecolor": "white"
           },
           "yaxis": {
            "backgroundcolor": "#E5ECF6",
            "gridcolor": "white",
            "gridwidth": 2,
            "linecolor": "white",
            "showbackground": true,
            "ticks": "",
            "zerolinecolor": "white"
           },
           "zaxis": {
            "backgroundcolor": "#E5ECF6",
            "gridcolor": "white",
            "gridwidth": 2,
            "linecolor": "white",
            "showbackground": true,
            "ticks": "",
            "zerolinecolor": "white"
           }
          },
          "shapedefaults": {
           "line": {
            "color": "#2a3f5f"
           }
          },
          "ternary": {
           "aaxis": {
            "gridcolor": "white",
            "linecolor": "white",
            "ticks": ""
           },
           "baxis": {
            "gridcolor": "white",
            "linecolor": "white",
            "ticks": ""
           },
           "bgcolor": "#E5ECF6",
           "caxis": {
            "gridcolor": "white",
            "linecolor": "white",
            "ticks": ""
           }
          },
          "title": {
           "x": 0.05
          },
          "xaxis": {
           "automargin": true,
           "gridcolor": "white",
           "linecolor": "white",
           "ticks": "",
           "title": {
            "standoff": 15
           },
           "zerolinecolor": "white",
           "zerolinewidth": 2
          },
          "yaxis": {
           "automargin": true,
           "gridcolor": "white",
           "linecolor": "white",
           "ticks": "",
           "title": {
            "standoff": 15
           },
           "zerolinecolor": "white",
           "zerolinewidth": 2
          }
         }
        },
        "xaxis": {
         "anchor": "y",
         "domain": [
          0,
          1
         ],
         "title": {
          "text": "index"
         }
        },
        "yaxis": {
         "anchor": "x",
         "domain": [
          0,
          1
         ],
         "title": {
          "text": "value"
         }
        }
       }
      },
      "text/html": [
       "<div>                            <div id=\"2a18df57-7391-421b-9a50-980b89f03df7\" class=\"plotly-graph-div\" style=\"height:525px; width:100%;\"></div>            <script type=\"text/javascript\">                require([\"plotly\"], function(Plotly) {                    window.PLOTLYENV=window.PLOTLYENV || {};                                    if (document.getElementById(\"2a18df57-7391-421b-9a50-980b89f03df7\")) {                    Plotly.newPlot(                        \"2a18df57-7391-421b-9a50-980b89f03df7\",                        [{\"alignmentgroup\":\"True\",\"hovertemplate\":\"variable=MAE<br>index=%{x}<br>value=%{y}<extra></extra>\",\"legendgroup\":\"MAE\",\"marker\":{\"color\":\"#636efa\",\"pattern\":{\"shape\":\"\"}},\"name\":\"MAE\",\"offsetgroup\":\"MAE\",\"orientation\":\"v\",\"showlegend\":true,\"textposition\":\"auto\",\"x\":[\"lr_sd\",\"knn_sd\",\"dtr_sd\",\"svr_sd\",\"rfr_sd\",\"xgbr_sd\",\"cbr_sd\",\"lgbr_sd\"],\"xaxis\":\"x\",\"y\":[59958.59895847045,47246.20976856097,55452.57865150885,88611.62980495807,43628.154726028006,43012.379582950365,79847.56459809428,42983.03058522772],\"yaxis\":\"y\",\"type\":\"bar\"},{\"alignmentgroup\":\"True\",\"hovertemplate\":\"variable=MSE<br>index=%{x}<br>value=%{y}<extra></extra>\",\"legendgroup\":\"MSE\",\"marker\":{\"color\":\"#EF553B\",\"pattern\":{\"shape\":\"\"}},\"name\":\"MSE\",\"offsetgroup\":\"MSE\",\"orientation\":\"v\",\"showlegend\":true,\"textposition\":\"auto\",\"x\":[\"lr_sd\",\"knn_sd\",\"dtr_sd\",\"svr_sd\",\"rfr_sd\",\"xgbr_sd\",\"cbr_sd\",\"lgbr_sd\"],\"xaxis\":\"x\",\"y\":[6485490671.691809,4461866916.899056,5842867142.034476,14251475641.97443,3864271093.73405,3744573795.670835,10432935291.994114,3772839886.1763363],\"yaxis\":\"y\",\"type\":\"bar\"},{\"alignmentgroup\":\"True\",\"hovertemplate\":\"variable=RMSE<br>index=%{x}<br>value=%{y}<extra></extra>\",\"legendgroup\":\"RMSE\",\"marker\":{\"color\":\"#00cc96\",\"pattern\":{\"shape\":\"\"}},\"name\":\"RMSE\",\"offsetgroup\":\"RMSE\",\"orientation\":\"v\",\"showlegend\":true,\"textposition\":\"auto\",\"x\":[\"lr_sd\",\"knn_sd\",\"dtr_sd\",\"svr_sd\",\"rfr_sd\",\"xgbr_sd\",\"cbr_sd\",\"lgbr_sd\"],\"xaxis\":\"x\",\"y\":[80532.54417744301,66797.20740344656,76438.64953042065,119379.54448721284,62163.26160791476,61192.922758034976,102141.74118348538,61423.44736479984],\"yaxis\":\"y\",\"type\":\"bar\"},{\"alignmentgroup\":\"True\",\"hovertemplate\":\"variable=R2<br>index=%{x}<br>value=%{y}<extra></extra>\",\"legendgroup\":\"R2\",\"marker\":{\"color\":\"#ab63fa\",\"pattern\":{\"shape\":\"\"}},\"name\":\"R2\",\"offsetgroup\":\"R2\",\"orientation\":\"v\",\"showlegend\":true,\"textposition\":\"auto\",\"x\":[\"lr_sd\",\"knn_sd\",\"dtr_sd\",\"svr_sd\",\"rfr_sd\",\"xgbr_sd\",\"cbr_sd\",\"lgbr_sd\"],\"xaxis\":\"x\",\"y\":[0.520692475736292,0.670247558158132,0.5681853037466841,-0.05324945371903622,0.7144126320147308,0.7232588116640446,0.2289582024323984,0.7211698178551504],\"yaxis\":\"y\",\"type\":\"bar\"}],                        {\"template\":{\"data\":{\"histogram2dcontour\":[{\"type\":\"histogram2dcontour\",\"colorbar\":{\"outlinewidth\":0,\"ticks\":\"\"},\"colorscale\":[[0.0,\"#0d0887\"],[0.1111111111111111,\"#46039f\"],[0.2222222222222222,\"#7201a8\"],[0.3333333333333333,\"#9c179e\"],[0.4444444444444444,\"#bd3786\"],[0.5555555555555556,\"#d8576b\"],[0.6666666666666666,\"#ed7953\"],[0.7777777777777778,\"#fb9f3a\"],[0.8888888888888888,\"#fdca26\"],[1.0,\"#f0f921\"]]}],\"choropleth\":[{\"type\":\"choropleth\",\"colorbar\":{\"outlinewidth\":0,\"ticks\":\"\"}}],\"histogram2d\":[{\"type\":\"histogram2d\",\"colorbar\":{\"outlinewidth\":0,\"ticks\":\"\"},\"colorscale\":[[0.0,\"#0d0887\"],[0.1111111111111111,\"#46039f\"],[0.2222222222222222,\"#7201a8\"],[0.3333333333333333,\"#9c179e\"],[0.4444444444444444,\"#bd3786\"],[0.5555555555555556,\"#d8576b\"],[0.6666666666666666,\"#ed7953\"],[0.7777777777777778,\"#fb9f3a\"],[0.8888888888888888,\"#fdca26\"],[1.0,\"#f0f921\"]]}],\"heatmap\":[{\"type\":\"heatmap\",\"colorbar\":{\"outlinewidth\":0,\"ticks\":\"\"},\"colorscale\":[[0.0,\"#0d0887\"],[0.1111111111111111,\"#46039f\"],[0.2222222222222222,\"#7201a8\"],[0.3333333333333333,\"#9c179e\"],[0.4444444444444444,\"#bd3786\"],[0.5555555555555556,\"#d8576b\"],[0.6666666666666666,\"#ed7953\"],[0.7777777777777778,\"#fb9f3a\"],[0.8888888888888888,\"#fdca26\"],[1.0,\"#f0f921\"]]}],\"heatmapgl\":[{\"type\":\"heatmapgl\",\"colorbar\":{\"outlinewidth\":0,\"ticks\":\"\"},\"colorscale\":[[0.0,\"#0d0887\"],[0.1111111111111111,\"#46039f\"],[0.2222222222222222,\"#7201a8\"],[0.3333333333333333,\"#9c179e\"],[0.4444444444444444,\"#bd3786\"],[0.5555555555555556,\"#d8576b\"],[0.6666666666666666,\"#ed7953\"],[0.7777777777777778,\"#fb9f3a\"],[0.8888888888888888,\"#fdca26\"],[1.0,\"#f0f921\"]]}],\"contourcarpet\":[{\"type\":\"contourcarpet\",\"colorbar\":{\"outlinewidth\":0,\"ticks\":\"\"}}],\"contour\":[{\"type\":\"contour\",\"colorbar\":{\"outlinewidth\":0,\"ticks\":\"\"},\"colorscale\":[[0.0,\"#0d0887\"],[0.1111111111111111,\"#46039f\"],[0.2222222222222222,\"#7201a8\"],[0.3333333333333333,\"#9c179e\"],[0.4444444444444444,\"#bd3786\"],[0.5555555555555556,\"#d8576b\"],[0.6666666666666666,\"#ed7953\"],[0.7777777777777778,\"#fb9f3a\"],[0.8888888888888888,\"#fdca26\"],[1.0,\"#f0f921\"]]}],\"surface\":[{\"type\":\"surface\",\"colorbar\":{\"outlinewidth\":0,\"ticks\":\"\"},\"colorscale\":[[0.0,\"#0d0887\"],[0.1111111111111111,\"#46039f\"],[0.2222222222222222,\"#7201a8\"],[0.3333333333333333,\"#9c179e\"],[0.4444444444444444,\"#bd3786\"],[0.5555555555555556,\"#d8576b\"],[0.6666666666666666,\"#ed7953\"],[0.7777777777777778,\"#fb9f3a\"],[0.8888888888888888,\"#fdca26\"],[1.0,\"#f0f921\"]]}],\"mesh3d\":[{\"type\":\"mesh3d\",\"colorbar\":{\"outlinewidth\":0,\"ticks\":\"\"}}],\"scatter\":[{\"fillpattern\":{\"fillmode\":\"overlay\",\"size\":10,\"solidity\":0.2},\"type\":\"scatter\"}],\"parcoords\":[{\"type\":\"parcoords\",\"line\":{\"colorbar\":{\"outlinewidth\":0,\"ticks\":\"\"}}}],\"scatterpolargl\":[{\"type\":\"scatterpolargl\",\"marker\":{\"colorbar\":{\"outlinewidth\":0,\"ticks\":\"\"}}}],\"bar\":[{\"error_x\":{\"color\":\"#2a3f5f\"},\"error_y\":{\"color\":\"#2a3f5f\"},\"marker\":{\"line\":{\"color\":\"#E5ECF6\",\"width\":0.5},\"pattern\":{\"fillmode\":\"overlay\",\"size\":10,\"solidity\":0.2}},\"type\":\"bar\"}],\"scattergeo\":[{\"type\":\"scattergeo\",\"marker\":{\"colorbar\":{\"outlinewidth\":0,\"ticks\":\"\"}}}],\"scatterpolar\":[{\"type\":\"scatterpolar\",\"marker\":{\"colorbar\":{\"outlinewidth\":0,\"ticks\":\"\"}}}],\"histogram\":[{\"marker\":{\"pattern\":{\"fillmode\":\"overlay\",\"size\":10,\"solidity\":0.2}},\"type\":\"histogram\"}],\"scattergl\":[{\"type\":\"scattergl\",\"marker\":{\"colorbar\":{\"outlinewidth\":0,\"ticks\":\"\"}}}],\"scatter3d\":[{\"type\":\"scatter3d\",\"line\":{\"colorbar\":{\"outlinewidth\":0,\"ticks\":\"\"}},\"marker\":{\"colorbar\":{\"outlinewidth\":0,\"ticks\":\"\"}}}],\"scattermapbox\":[{\"type\":\"scattermapbox\",\"marker\":{\"colorbar\":{\"outlinewidth\":0,\"ticks\":\"\"}}}],\"scatterternary\":[{\"type\":\"scatterternary\",\"marker\":{\"colorbar\":{\"outlinewidth\":0,\"ticks\":\"\"}}}],\"scattercarpet\":[{\"type\":\"scattercarpet\",\"marker\":{\"colorbar\":{\"outlinewidth\":0,\"ticks\":\"\"}}}],\"carpet\":[{\"aaxis\":{\"endlinecolor\":\"#2a3f5f\",\"gridcolor\":\"white\",\"linecolor\":\"white\",\"minorgridcolor\":\"white\",\"startlinecolor\":\"#2a3f5f\"},\"baxis\":{\"endlinecolor\":\"#2a3f5f\",\"gridcolor\":\"white\",\"linecolor\":\"white\",\"minorgridcolor\":\"white\",\"startlinecolor\":\"#2a3f5f\"},\"type\":\"carpet\"}],\"table\":[{\"cells\":{\"fill\":{\"color\":\"#EBF0F8\"},\"line\":{\"color\":\"white\"}},\"header\":{\"fill\":{\"color\":\"#C8D4E3\"},\"line\":{\"color\":\"white\"}},\"type\":\"table\"}],\"barpolar\":[{\"marker\":{\"line\":{\"color\":\"#E5ECF6\",\"width\":0.5},\"pattern\":{\"fillmode\":\"overlay\",\"size\":10,\"solidity\":0.2}},\"type\":\"barpolar\"}],\"pie\":[{\"automargin\":true,\"type\":\"pie\"}]},\"layout\":{\"autotypenumbers\":\"strict\",\"colorway\":[\"#636efa\",\"#EF553B\",\"#00cc96\",\"#ab63fa\",\"#FFA15A\",\"#19d3f3\",\"#FF6692\",\"#B6E880\",\"#FF97FF\",\"#FECB52\"],\"font\":{\"color\":\"#2a3f5f\"},\"hovermode\":\"closest\",\"hoverlabel\":{\"align\":\"left\"},\"paper_bgcolor\":\"white\",\"plot_bgcolor\":\"#E5ECF6\",\"polar\":{\"bgcolor\":\"#E5ECF6\",\"angularaxis\":{\"gridcolor\":\"white\",\"linecolor\":\"white\",\"ticks\":\"\"},\"radialaxis\":{\"gridcolor\":\"white\",\"linecolor\":\"white\",\"ticks\":\"\"}},\"ternary\":{\"bgcolor\":\"#E5ECF6\",\"aaxis\":{\"gridcolor\":\"white\",\"linecolor\":\"white\",\"ticks\":\"\"},\"baxis\":{\"gridcolor\":\"white\",\"linecolor\":\"white\",\"ticks\":\"\"},\"caxis\":{\"gridcolor\":\"white\",\"linecolor\":\"white\",\"ticks\":\"\"}},\"coloraxis\":{\"colorbar\":{\"outlinewidth\":0,\"ticks\":\"\"}},\"colorscale\":{\"sequential\":[[0.0,\"#0d0887\"],[0.1111111111111111,\"#46039f\"],[0.2222222222222222,\"#7201a8\"],[0.3333333333333333,\"#9c179e\"],[0.4444444444444444,\"#bd3786\"],[0.5555555555555556,\"#d8576b\"],[0.6666666666666666,\"#ed7953\"],[0.7777777777777778,\"#fb9f3a\"],[0.8888888888888888,\"#fdca26\"],[1.0,\"#f0f921\"]],\"sequentialminus\":[[0.0,\"#0d0887\"],[0.1111111111111111,\"#46039f\"],[0.2222222222222222,\"#7201a8\"],[0.3333333333333333,\"#9c179e\"],[0.4444444444444444,\"#bd3786\"],[0.5555555555555556,\"#d8576b\"],[0.6666666666666666,\"#ed7953\"],[0.7777777777777778,\"#fb9f3a\"],[0.8888888888888888,\"#fdca26\"],[1.0,\"#f0f921\"]],\"diverging\":[[0,\"#8e0152\"],[0.1,\"#c51b7d\"],[0.2,\"#de77ae\"],[0.3,\"#f1b6da\"],[0.4,\"#fde0ef\"],[0.5,\"#f7f7f7\"],[0.6,\"#e6f5d0\"],[0.7,\"#b8e186\"],[0.8,\"#7fbc41\"],[0.9,\"#4d9221\"],[1,\"#276419\"]]},\"xaxis\":{\"gridcolor\":\"white\",\"linecolor\":\"white\",\"ticks\":\"\",\"title\":{\"standoff\":15},\"zerolinecolor\":\"white\",\"automargin\":true,\"zerolinewidth\":2},\"yaxis\":{\"gridcolor\":\"white\",\"linecolor\":\"white\",\"ticks\":\"\",\"title\":{\"standoff\":15},\"zerolinecolor\":\"white\",\"automargin\":true,\"zerolinewidth\":2},\"scene\":{\"xaxis\":{\"backgroundcolor\":\"#E5ECF6\",\"gridcolor\":\"white\",\"linecolor\":\"white\",\"showbackground\":true,\"ticks\":\"\",\"zerolinecolor\":\"white\",\"gridwidth\":2},\"yaxis\":{\"backgroundcolor\":\"#E5ECF6\",\"gridcolor\":\"white\",\"linecolor\":\"white\",\"showbackground\":true,\"ticks\":\"\",\"zerolinecolor\":\"white\",\"gridwidth\":2},\"zaxis\":{\"backgroundcolor\":\"#E5ECF6\",\"gridcolor\":\"white\",\"linecolor\":\"white\",\"showbackground\":true,\"ticks\":\"\",\"zerolinecolor\":\"white\",\"gridwidth\":2}},\"shapedefaults\":{\"line\":{\"color\":\"#2a3f5f\"}},\"annotationdefaults\":{\"arrowcolor\":\"#2a3f5f\",\"arrowhead\":0,\"arrowwidth\":1},\"geo\":{\"bgcolor\":\"white\",\"landcolor\":\"#E5ECF6\",\"subunitcolor\":\"white\",\"showland\":true,\"showlakes\":true,\"lakecolor\":\"white\"},\"title\":{\"x\":0.05},\"mapbox\":{\"style\":\"light\"}}},\"xaxis\":{\"anchor\":\"y\",\"domain\":[0.0,1.0],\"title\":{\"text\":\"index\"}},\"yaxis\":{\"anchor\":\"x\",\"domain\":[0.0,1.0],\"title\":{\"text\":\"value\"}},\"legend\":{\"title\":{\"text\":\"variable\"},\"tracegroupgap\":0},\"margin\":{\"t\":60},\"barmode\":\"relative\"},                        {\"responsive\": true}                    ).then(function(){\n",
       "                            \n",
       "var gd = document.getElementById('2a18df57-7391-421b-9a50-980b89f03df7');\n",
       "var x = new MutationObserver(function (mutations, observer) {{\n",
       "        var display = window.getComputedStyle(gd).display;\n",
       "        if (!display || display === 'none') {{\n",
       "            console.log([gd, 'removed!']);\n",
       "            Plotly.purge(gd);\n",
       "            observer.disconnect();\n",
       "        }}\n",
       "}});\n",
       "\n",
       "// Listen for the removal of the full notebook cells\n",
       "var notebookContainer = gd.closest('#notebook-container');\n",
       "if (notebookContainer) {{\n",
       "    x.observe(notebookContainer, {childList: true});\n",
       "}}\n",
       "\n",
       "// Listen for the clearing of the current output cell\n",
       "var outputEl = gd.closest('.output');\n",
       "if (outputEl) {{\n",
       "    x.observe(outputEl, {childList: true});\n",
       "}}\n",
       "\n",
       "                        })                };                });            </script>        </div>"
      ]
     },
     "metadata": {},
     "output_type": "display_data"
    }
   ],
   "source": [
    "import plotly.express as px\n",
    "\n",
    "df = scores_sd\n",
    "fig = px.bar(df)\n",
    "fig.show()"
   ]
  },
  {
   "cell_type": "code",
   "execution_count": 215,
   "metadata": {},
   "outputs": [],
   "source": [
    "scores_mm = {}\n",
    "for key, value in info.items():\n",
    "    if 'mm' in key:\n",
    "        scores_mm[key] = info[key]['score']\n",
    "scores_mm = pd.DataFrame(scores_mm).transpose()"
   ]
  },
  {
   "cell_type": "code",
   "execution_count": 218,
   "metadata": {},
   "outputs": [
    {
     "data": {
      "application/vnd.plotly.v1+json": {
       "config": {
        "plotlyServerURL": "https://plot.ly"
       },
       "data": [
        {
         "alignmentgroup": "True",
         "hovertemplate": "variable=MAE<br>index=%{x}<br>value=%{y}<extra></extra>",
         "legendgroup": "MAE",
         "marker": {
          "color": "#636efa",
          "pattern": {
           "shape": ""
          }
         },
         "name": "MAE",
         "offsetgroup": "MAE",
         "orientation": "v",
         "showlegend": true,
         "textposition": "auto",
         "type": "bar",
         "x": [
          "lr_mm",
          "knn_mm",
          "dtr_mm",
          "svr_mm",
          "rfr_mm",
          "xgbr_mm",
          "cbr_mm",
          "lgbr_mm"
         ],
         "xaxis": "x",
         "y": [
          59958.59895847044,
          47132.59795118956,
          55452.57865150885,
          88923.15725058582,
          43576.074426470586,
          43175.905369944856,
          79847.56459809428,
          42747.81046204539
         ],
         "yaxis": "y"
        },
        {
         "alignmentgroup": "True",
         "hovertemplate": "variable=MSE<br>index=%{x}<br>value=%{y}<extra></extra>",
         "legendgroup": "MSE",
         "marker": {
          "color": "#EF553B",
          "pattern": {
           "shape": ""
          }
         },
         "name": "MSE",
         "offsetgroup": "MSE",
         "orientation": "v",
         "showlegend": true,
         "textposition": "auto",
         "type": "bar",
         "x": [
          "lr_mm",
          "knn_mm",
          "dtr_mm",
          "svr_mm",
          "rfr_mm",
          "xgbr_mm",
          "cbr_mm",
          "lgbr_mm"
         ],
         "xaxis": "x",
         "y": [
          6485490671.691809,
          4504055375.952115,
          5842867142.034476,
          14346611694.87608,
          3855185230.3789587,
          3770020788.5769587,
          10432935291.994114,
          3733683783.1407394
         ],
         "yaxis": "y"
        },
        {
         "alignmentgroup": "True",
         "hovertemplate": "variable=RMSE<br>index=%{x}<br>value=%{y}<extra></extra>",
         "legendgroup": "RMSE",
         "marker": {
          "color": "#00cc96",
          "pattern": {
           "shape": ""
          }
         },
         "name": "RMSE",
         "offsetgroup": "RMSE",
         "orientation": "v",
         "showlegend": true,
         "textposition": "auto",
         "type": "bar",
         "x": [
          "lr_mm",
          "knn_mm",
          "dtr_mm",
          "svr_mm",
          "rfr_mm",
          "xgbr_mm",
          "cbr_mm",
          "lgbr_mm"
         ],
         "xaxis": "x",
         "y": [
          80532.54417744301,
          67112.25950563813,
          76438.64953042065,
          119777.3421598429,
          62090.137947817115,
          61400.49501898953,
          102141.74118348538,
          61103.876989441014
         ],
         "yaxis": "y"
        },
        {
         "alignmentgroup": "True",
         "hovertemplate": "variable=R2<br>index=%{x}<br>value=%{y}<extra></extra>",
         "legendgroup": "R2",
         "marker": {
          "color": "#ab63fa",
          "pattern": {
           "shape": ""
          }
         },
         "name": "R2",
         "offsetgroup": "R2",
         "orientation": "v",
         "showlegend": true,
         "textposition": "auto",
         "type": "bar",
         "x": [
          "lr_mm",
          "knn_mm",
          "dtr_mm",
          "svr_mm",
          "rfr_mm",
          "xgbr_mm",
          "cbr_mm",
          "lgbr_mm"
         ],
         "xaxis": "x",
         "y": [
          0.520692475736292,
          0.6671296374201552,
          0.5681853037466841,
          -0.0602804446328844,
          0.7150841190140933,
          0.7213781621053261,
          0.2289582024323984,
          0.724063633567156
         ],
         "yaxis": "y"
        }
       ],
       "layout": {
        "barmode": "relative",
        "legend": {
         "title": {
          "text": "variable"
         },
         "tracegroupgap": 0
        },
        "margin": {
         "t": 60
        },
        "template": {
         "data": {
          "bar": [
           {
            "error_x": {
             "color": "#2a3f5f"
            },
            "error_y": {
             "color": "#2a3f5f"
            },
            "marker": {
             "line": {
              "color": "#E5ECF6",
              "width": 0.5
             },
             "pattern": {
              "fillmode": "overlay",
              "size": 10,
              "solidity": 0.2
             }
            },
            "type": "bar"
           }
          ],
          "barpolar": [
           {
            "marker": {
             "line": {
              "color": "#E5ECF6",
              "width": 0.5
             },
             "pattern": {
              "fillmode": "overlay",
              "size": 10,
              "solidity": 0.2
             }
            },
            "type": "barpolar"
           }
          ],
          "carpet": [
           {
            "aaxis": {
             "endlinecolor": "#2a3f5f",
             "gridcolor": "white",
             "linecolor": "white",
             "minorgridcolor": "white",
             "startlinecolor": "#2a3f5f"
            },
            "baxis": {
             "endlinecolor": "#2a3f5f",
             "gridcolor": "white",
             "linecolor": "white",
             "minorgridcolor": "white",
             "startlinecolor": "#2a3f5f"
            },
            "type": "carpet"
           }
          ],
          "choropleth": [
           {
            "colorbar": {
             "outlinewidth": 0,
             "ticks": ""
            },
            "type": "choropleth"
           }
          ],
          "contour": [
           {
            "colorbar": {
             "outlinewidth": 0,
             "ticks": ""
            },
            "colorscale": [
             [
              0,
              "#0d0887"
             ],
             [
              0.1111111111111111,
              "#46039f"
             ],
             [
              0.2222222222222222,
              "#7201a8"
             ],
             [
              0.3333333333333333,
              "#9c179e"
             ],
             [
              0.4444444444444444,
              "#bd3786"
             ],
             [
              0.5555555555555556,
              "#d8576b"
             ],
             [
              0.6666666666666666,
              "#ed7953"
             ],
             [
              0.7777777777777778,
              "#fb9f3a"
             ],
             [
              0.8888888888888888,
              "#fdca26"
             ],
             [
              1,
              "#f0f921"
             ]
            ],
            "type": "contour"
           }
          ],
          "contourcarpet": [
           {
            "colorbar": {
             "outlinewidth": 0,
             "ticks": ""
            },
            "type": "contourcarpet"
           }
          ],
          "heatmap": [
           {
            "colorbar": {
             "outlinewidth": 0,
             "ticks": ""
            },
            "colorscale": [
             [
              0,
              "#0d0887"
             ],
             [
              0.1111111111111111,
              "#46039f"
             ],
             [
              0.2222222222222222,
              "#7201a8"
             ],
             [
              0.3333333333333333,
              "#9c179e"
             ],
             [
              0.4444444444444444,
              "#bd3786"
             ],
             [
              0.5555555555555556,
              "#d8576b"
             ],
             [
              0.6666666666666666,
              "#ed7953"
             ],
             [
              0.7777777777777778,
              "#fb9f3a"
             ],
             [
              0.8888888888888888,
              "#fdca26"
             ],
             [
              1,
              "#f0f921"
             ]
            ],
            "type": "heatmap"
           }
          ],
          "heatmapgl": [
           {
            "colorbar": {
             "outlinewidth": 0,
             "ticks": ""
            },
            "colorscale": [
             [
              0,
              "#0d0887"
             ],
             [
              0.1111111111111111,
              "#46039f"
             ],
             [
              0.2222222222222222,
              "#7201a8"
             ],
             [
              0.3333333333333333,
              "#9c179e"
             ],
             [
              0.4444444444444444,
              "#bd3786"
             ],
             [
              0.5555555555555556,
              "#d8576b"
             ],
             [
              0.6666666666666666,
              "#ed7953"
             ],
             [
              0.7777777777777778,
              "#fb9f3a"
             ],
             [
              0.8888888888888888,
              "#fdca26"
             ],
             [
              1,
              "#f0f921"
             ]
            ],
            "type": "heatmapgl"
           }
          ],
          "histogram": [
           {
            "marker": {
             "pattern": {
              "fillmode": "overlay",
              "size": 10,
              "solidity": 0.2
             }
            },
            "type": "histogram"
           }
          ],
          "histogram2d": [
           {
            "colorbar": {
             "outlinewidth": 0,
             "ticks": ""
            },
            "colorscale": [
             [
              0,
              "#0d0887"
             ],
             [
              0.1111111111111111,
              "#46039f"
             ],
             [
              0.2222222222222222,
              "#7201a8"
             ],
             [
              0.3333333333333333,
              "#9c179e"
             ],
             [
              0.4444444444444444,
              "#bd3786"
             ],
             [
              0.5555555555555556,
              "#d8576b"
             ],
             [
              0.6666666666666666,
              "#ed7953"
             ],
             [
              0.7777777777777778,
              "#fb9f3a"
             ],
             [
              0.8888888888888888,
              "#fdca26"
             ],
             [
              1,
              "#f0f921"
             ]
            ],
            "type": "histogram2d"
           }
          ],
          "histogram2dcontour": [
           {
            "colorbar": {
             "outlinewidth": 0,
             "ticks": ""
            },
            "colorscale": [
             [
              0,
              "#0d0887"
             ],
             [
              0.1111111111111111,
              "#46039f"
             ],
             [
              0.2222222222222222,
              "#7201a8"
             ],
             [
              0.3333333333333333,
              "#9c179e"
             ],
             [
              0.4444444444444444,
              "#bd3786"
             ],
             [
              0.5555555555555556,
              "#d8576b"
             ],
             [
              0.6666666666666666,
              "#ed7953"
             ],
             [
              0.7777777777777778,
              "#fb9f3a"
             ],
             [
              0.8888888888888888,
              "#fdca26"
             ],
             [
              1,
              "#f0f921"
             ]
            ],
            "type": "histogram2dcontour"
           }
          ],
          "mesh3d": [
           {
            "colorbar": {
             "outlinewidth": 0,
             "ticks": ""
            },
            "type": "mesh3d"
           }
          ],
          "parcoords": [
           {
            "line": {
             "colorbar": {
              "outlinewidth": 0,
              "ticks": ""
             }
            },
            "type": "parcoords"
           }
          ],
          "pie": [
           {
            "automargin": true,
            "type": "pie"
           }
          ],
          "scatter": [
           {
            "fillpattern": {
             "fillmode": "overlay",
             "size": 10,
             "solidity": 0.2
            },
            "type": "scatter"
           }
          ],
          "scatter3d": [
           {
            "line": {
             "colorbar": {
              "outlinewidth": 0,
              "ticks": ""
             }
            },
            "marker": {
             "colorbar": {
              "outlinewidth": 0,
              "ticks": ""
             }
            },
            "type": "scatter3d"
           }
          ],
          "scattercarpet": [
           {
            "marker": {
             "colorbar": {
              "outlinewidth": 0,
              "ticks": ""
             }
            },
            "type": "scattercarpet"
           }
          ],
          "scattergeo": [
           {
            "marker": {
             "colorbar": {
              "outlinewidth": 0,
              "ticks": ""
             }
            },
            "type": "scattergeo"
           }
          ],
          "scattergl": [
           {
            "marker": {
             "colorbar": {
              "outlinewidth": 0,
              "ticks": ""
             }
            },
            "type": "scattergl"
           }
          ],
          "scattermapbox": [
           {
            "marker": {
             "colorbar": {
              "outlinewidth": 0,
              "ticks": ""
             }
            },
            "type": "scattermapbox"
           }
          ],
          "scatterpolar": [
           {
            "marker": {
             "colorbar": {
              "outlinewidth": 0,
              "ticks": ""
             }
            },
            "type": "scatterpolar"
           }
          ],
          "scatterpolargl": [
           {
            "marker": {
             "colorbar": {
              "outlinewidth": 0,
              "ticks": ""
             }
            },
            "type": "scatterpolargl"
           }
          ],
          "scatterternary": [
           {
            "marker": {
             "colorbar": {
              "outlinewidth": 0,
              "ticks": ""
             }
            },
            "type": "scatterternary"
           }
          ],
          "surface": [
           {
            "colorbar": {
             "outlinewidth": 0,
             "ticks": ""
            },
            "colorscale": [
             [
              0,
              "#0d0887"
             ],
             [
              0.1111111111111111,
              "#46039f"
             ],
             [
              0.2222222222222222,
              "#7201a8"
             ],
             [
              0.3333333333333333,
              "#9c179e"
             ],
             [
              0.4444444444444444,
              "#bd3786"
             ],
             [
              0.5555555555555556,
              "#d8576b"
             ],
             [
              0.6666666666666666,
              "#ed7953"
             ],
             [
              0.7777777777777778,
              "#fb9f3a"
             ],
             [
              0.8888888888888888,
              "#fdca26"
             ],
             [
              1,
              "#f0f921"
             ]
            ],
            "type": "surface"
           }
          ],
          "table": [
           {
            "cells": {
             "fill": {
              "color": "#EBF0F8"
             },
             "line": {
              "color": "white"
             }
            },
            "header": {
             "fill": {
              "color": "#C8D4E3"
             },
             "line": {
              "color": "white"
             }
            },
            "type": "table"
           }
          ]
         },
         "layout": {
          "annotationdefaults": {
           "arrowcolor": "#2a3f5f",
           "arrowhead": 0,
           "arrowwidth": 1
          },
          "autotypenumbers": "strict",
          "coloraxis": {
           "colorbar": {
            "outlinewidth": 0,
            "ticks": ""
           }
          },
          "colorscale": {
           "diverging": [
            [
             0,
             "#8e0152"
            ],
            [
             0.1,
             "#c51b7d"
            ],
            [
             0.2,
             "#de77ae"
            ],
            [
             0.3,
             "#f1b6da"
            ],
            [
             0.4,
             "#fde0ef"
            ],
            [
             0.5,
             "#f7f7f7"
            ],
            [
             0.6,
             "#e6f5d0"
            ],
            [
             0.7,
             "#b8e186"
            ],
            [
             0.8,
             "#7fbc41"
            ],
            [
             0.9,
             "#4d9221"
            ],
            [
             1,
             "#276419"
            ]
           ],
           "sequential": [
            [
             0,
             "#0d0887"
            ],
            [
             0.1111111111111111,
             "#46039f"
            ],
            [
             0.2222222222222222,
             "#7201a8"
            ],
            [
             0.3333333333333333,
             "#9c179e"
            ],
            [
             0.4444444444444444,
             "#bd3786"
            ],
            [
             0.5555555555555556,
             "#d8576b"
            ],
            [
             0.6666666666666666,
             "#ed7953"
            ],
            [
             0.7777777777777778,
             "#fb9f3a"
            ],
            [
             0.8888888888888888,
             "#fdca26"
            ],
            [
             1,
             "#f0f921"
            ]
           ],
           "sequentialminus": [
            [
             0,
             "#0d0887"
            ],
            [
             0.1111111111111111,
             "#46039f"
            ],
            [
             0.2222222222222222,
             "#7201a8"
            ],
            [
             0.3333333333333333,
             "#9c179e"
            ],
            [
             0.4444444444444444,
             "#bd3786"
            ],
            [
             0.5555555555555556,
             "#d8576b"
            ],
            [
             0.6666666666666666,
             "#ed7953"
            ],
            [
             0.7777777777777778,
             "#fb9f3a"
            ],
            [
             0.8888888888888888,
             "#fdca26"
            ],
            [
             1,
             "#f0f921"
            ]
           ]
          },
          "colorway": [
           "#636efa",
           "#EF553B",
           "#00cc96",
           "#ab63fa",
           "#FFA15A",
           "#19d3f3",
           "#FF6692",
           "#B6E880",
           "#FF97FF",
           "#FECB52"
          ],
          "font": {
           "color": "#2a3f5f"
          },
          "geo": {
           "bgcolor": "white",
           "lakecolor": "white",
           "landcolor": "#E5ECF6",
           "showlakes": true,
           "showland": true,
           "subunitcolor": "white"
          },
          "hoverlabel": {
           "align": "left"
          },
          "hovermode": "closest",
          "mapbox": {
           "style": "light"
          },
          "paper_bgcolor": "white",
          "plot_bgcolor": "#E5ECF6",
          "polar": {
           "angularaxis": {
            "gridcolor": "white",
            "linecolor": "white",
            "ticks": ""
           },
           "bgcolor": "#E5ECF6",
           "radialaxis": {
            "gridcolor": "white",
            "linecolor": "white",
            "ticks": ""
           }
          },
          "scene": {
           "xaxis": {
            "backgroundcolor": "#E5ECF6",
            "gridcolor": "white",
            "gridwidth": 2,
            "linecolor": "white",
            "showbackground": true,
            "ticks": "",
            "zerolinecolor": "white"
           },
           "yaxis": {
            "backgroundcolor": "#E5ECF6",
            "gridcolor": "white",
            "gridwidth": 2,
            "linecolor": "white",
            "showbackground": true,
            "ticks": "",
            "zerolinecolor": "white"
           },
           "zaxis": {
            "backgroundcolor": "#E5ECF6",
            "gridcolor": "white",
            "gridwidth": 2,
            "linecolor": "white",
            "showbackground": true,
            "ticks": "",
            "zerolinecolor": "white"
           }
          },
          "shapedefaults": {
           "line": {
            "color": "#2a3f5f"
           }
          },
          "ternary": {
           "aaxis": {
            "gridcolor": "white",
            "linecolor": "white",
            "ticks": ""
           },
           "baxis": {
            "gridcolor": "white",
            "linecolor": "white",
            "ticks": ""
           },
           "bgcolor": "#E5ECF6",
           "caxis": {
            "gridcolor": "white",
            "linecolor": "white",
            "ticks": ""
           }
          },
          "title": {
           "x": 0.05
          },
          "xaxis": {
           "automargin": true,
           "gridcolor": "white",
           "linecolor": "white",
           "ticks": "",
           "title": {
            "standoff": 15
           },
           "zerolinecolor": "white",
           "zerolinewidth": 2
          },
          "yaxis": {
           "automargin": true,
           "gridcolor": "white",
           "linecolor": "white",
           "ticks": "",
           "title": {
            "standoff": 15
           },
           "zerolinecolor": "white",
           "zerolinewidth": 2
          }
         }
        },
        "xaxis": {
         "anchor": "y",
         "domain": [
          0,
          1
         ],
         "title": {
          "text": "index"
         }
        },
        "yaxis": {
         "anchor": "x",
         "domain": [
          0,
          1
         ],
         "title": {
          "text": "value"
         }
        }
       }
      },
      "text/html": [
       "<div>                            <div id=\"a6c63e46-a906-45bc-8c1e-40ddb648727b\" class=\"plotly-graph-div\" style=\"height:525px; width:100%;\"></div>            <script type=\"text/javascript\">                require([\"plotly\"], function(Plotly) {                    window.PLOTLYENV=window.PLOTLYENV || {};                                    if (document.getElementById(\"a6c63e46-a906-45bc-8c1e-40ddb648727b\")) {                    Plotly.newPlot(                        \"a6c63e46-a906-45bc-8c1e-40ddb648727b\",                        [{\"alignmentgroup\":\"True\",\"hovertemplate\":\"variable=MAE<br>index=%{x}<br>value=%{y}<extra></extra>\",\"legendgroup\":\"MAE\",\"marker\":{\"color\":\"#636efa\",\"pattern\":{\"shape\":\"\"}},\"name\":\"MAE\",\"offsetgroup\":\"MAE\",\"orientation\":\"v\",\"showlegend\":true,\"textposition\":\"auto\",\"x\":[\"lr_mm\",\"knn_mm\",\"dtr_mm\",\"svr_mm\",\"rfr_mm\",\"xgbr_mm\",\"cbr_mm\",\"lgbr_mm\"],\"xaxis\":\"x\",\"y\":[59958.59895847044,47132.59795118956,55452.57865150885,88923.15725058582,43576.074426470586,43175.905369944856,79847.56459809428,42747.81046204539],\"yaxis\":\"y\",\"type\":\"bar\"},{\"alignmentgroup\":\"True\",\"hovertemplate\":\"variable=MSE<br>index=%{x}<br>value=%{y}<extra></extra>\",\"legendgroup\":\"MSE\",\"marker\":{\"color\":\"#EF553B\",\"pattern\":{\"shape\":\"\"}},\"name\":\"MSE\",\"offsetgroup\":\"MSE\",\"orientation\":\"v\",\"showlegend\":true,\"textposition\":\"auto\",\"x\":[\"lr_mm\",\"knn_mm\",\"dtr_mm\",\"svr_mm\",\"rfr_mm\",\"xgbr_mm\",\"cbr_mm\",\"lgbr_mm\"],\"xaxis\":\"x\",\"y\":[6485490671.691809,4504055375.952115,5842867142.034476,14346611694.87608,3855185230.3789587,3770020788.5769587,10432935291.994114,3733683783.1407394],\"yaxis\":\"y\",\"type\":\"bar\"},{\"alignmentgroup\":\"True\",\"hovertemplate\":\"variable=RMSE<br>index=%{x}<br>value=%{y}<extra></extra>\",\"legendgroup\":\"RMSE\",\"marker\":{\"color\":\"#00cc96\",\"pattern\":{\"shape\":\"\"}},\"name\":\"RMSE\",\"offsetgroup\":\"RMSE\",\"orientation\":\"v\",\"showlegend\":true,\"textposition\":\"auto\",\"x\":[\"lr_mm\",\"knn_mm\",\"dtr_mm\",\"svr_mm\",\"rfr_mm\",\"xgbr_mm\",\"cbr_mm\",\"lgbr_mm\"],\"xaxis\":\"x\",\"y\":[80532.54417744301,67112.25950563813,76438.64953042065,119777.3421598429,62090.137947817115,61400.49501898953,102141.74118348538,61103.876989441014],\"yaxis\":\"y\",\"type\":\"bar\"},{\"alignmentgroup\":\"True\",\"hovertemplate\":\"variable=R2<br>index=%{x}<br>value=%{y}<extra></extra>\",\"legendgroup\":\"R2\",\"marker\":{\"color\":\"#ab63fa\",\"pattern\":{\"shape\":\"\"}},\"name\":\"R2\",\"offsetgroup\":\"R2\",\"orientation\":\"v\",\"showlegend\":true,\"textposition\":\"auto\",\"x\":[\"lr_mm\",\"knn_mm\",\"dtr_mm\",\"svr_mm\",\"rfr_mm\",\"xgbr_mm\",\"cbr_mm\",\"lgbr_mm\"],\"xaxis\":\"x\",\"y\":[0.520692475736292,0.6671296374201552,0.5681853037466841,-0.0602804446328844,0.7150841190140933,0.7213781621053261,0.2289582024323984,0.724063633567156],\"yaxis\":\"y\",\"type\":\"bar\"}],                        {\"template\":{\"data\":{\"histogram2dcontour\":[{\"type\":\"histogram2dcontour\",\"colorbar\":{\"outlinewidth\":0,\"ticks\":\"\"},\"colorscale\":[[0.0,\"#0d0887\"],[0.1111111111111111,\"#46039f\"],[0.2222222222222222,\"#7201a8\"],[0.3333333333333333,\"#9c179e\"],[0.4444444444444444,\"#bd3786\"],[0.5555555555555556,\"#d8576b\"],[0.6666666666666666,\"#ed7953\"],[0.7777777777777778,\"#fb9f3a\"],[0.8888888888888888,\"#fdca26\"],[1.0,\"#f0f921\"]]}],\"choropleth\":[{\"type\":\"choropleth\",\"colorbar\":{\"outlinewidth\":0,\"ticks\":\"\"}}],\"histogram2d\":[{\"type\":\"histogram2d\",\"colorbar\":{\"outlinewidth\":0,\"ticks\":\"\"},\"colorscale\":[[0.0,\"#0d0887\"],[0.1111111111111111,\"#46039f\"],[0.2222222222222222,\"#7201a8\"],[0.3333333333333333,\"#9c179e\"],[0.4444444444444444,\"#bd3786\"],[0.5555555555555556,\"#d8576b\"],[0.6666666666666666,\"#ed7953\"],[0.7777777777777778,\"#fb9f3a\"],[0.8888888888888888,\"#fdca26\"],[1.0,\"#f0f921\"]]}],\"heatmap\":[{\"type\":\"heatmap\",\"colorbar\":{\"outlinewidth\":0,\"ticks\":\"\"},\"colorscale\":[[0.0,\"#0d0887\"],[0.1111111111111111,\"#46039f\"],[0.2222222222222222,\"#7201a8\"],[0.3333333333333333,\"#9c179e\"],[0.4444444444444444,\"#bd3786\"],[0.5555555555555556,\"#d8576b\"],[0.6666666666666666,\"#ed7953\"],[0.7777777777777778,\"#fb9f3a\"],[0.8888888888888888,\"#fdca26\"],[1.0,\"#f0f921\"]]}],\"heatmapgl\":[{\"type\":\"heatmapgl\",\"colorbar\":{\"outlinewidth\":0,\"ticks\":\"\"},\"colorscale\":[[0.0,\"#0d0887\"],[0.1111111111111111,\"#46039f\"],[0.2222222222222222,\"#7201a8\"],[0.3333333333333333,\"#9c179e\"],[0.4444444444444444,\"#bd3786\"],[0.5555555555555556,\"#d8576b\"],[0.6666666666666666,\"#ed7953\"],[0.7777777777777778,\"#fb9f3a\"],[0.8888888888888888,\"#fdca26\"],[1.0,\"#f0f921\"]]}],\"contourcarpet\":[{\"type\":\"contourcarpet\",\"colorbar\":{\"outlinewidth\":0,\"ticks\":\"\"}}],\"contour\":[{\"type\":\"contour\",\"colorbar\":{\"outlinewidth\":0,\"ticks\":\"\"},\"colorscale\":[[0.0,\"#0d0887\"],[0.1111111111111111,\"#46039f\"],[0.2222222222222222,\"#7201a8\"],[0.3333333333333333,\"#9c179e\"],[0.4444444444444444,\"#bd3786\"],[0.5555555555555556,\"#d8576b\"],[0.6666666666666666,\"#ed7953\"],[0.7777777777777778,\"#fb9f3a\"],[0.8888888888888888,\"#fdca26\"],[1.0,\"#f0f921\"]]}],\"surface\":[{\"type\":\"surface\",\"colorbar\":{\"outlinewidth\":0,\"ticks\":\"\"},\"colorscale\":[[0.0,\"#0d0887\"],[0.1111111111111111,\"#46039f\"],[0.2222222222222222,\"#7201a8\"],[0.3333333333333333,\"#9c179e\"],[0.4444444444444444,\"#bd3786\"],[0.5555555555555556,\"#d8576b\"],[0.6666666666666666,\"#ed7953\"],[0.7777777777777778,\"#fb9f3a\"],[0.8888888888888888,\"#fdca26\"],[1.0,\"#f0f921\"]]}],\"mesh3d\":[{\"type\":\"mesh3d\",\"colorbar\":{\"outlinewidth\":0,\"ticks\":\"\"}}],\"scatter\":[{\"fillpattern\":{\"fillmode\":\"overlay\",\"size\":10,\"solidity\":0.2},\"type\":\"scatter\"}],\"parcoords\":[{\"type\":\"parcoords\",\"line\":{\"colorbar\":{\"outlinewidth\":0,\"ticks\":\"\"}}}],\"scatterpolargl\":[{\"type\":\"scatterpolargl\",\"marker\":{\"colorbar\":{\"outlinewidth\":0,\"ticks\":\"\"}}}],\"bar\":[{\"error_x\":{\"color\":\"#2a3f5f\"},\"error_y\":{\"color\":\"#2a3f5f\"},\"marker\":{\"line\":{\"color\":\"#E5ECF6\",\"width\":0.5},\"pattern\":{\"fillmode\":\"overlay\",\"size\":10,\"solidity\":0.2}},\"type\":\"bar\"}],\"scattergeo\":[{\"type\":\"scattergeo\",\"marker\":{\"colorbar\":{\"outlinewidth\":0,\"ticks\":\"\"}}}],\"scatterpolar\":[{\"type\":\"scatterpolar\",\"marker\":{\"colorbar\":{\"outlinewidth\":0,\"ticks\":\"\"}}}],\"histogram\":[{\"marker\":{\"pattern\":{\"fillmode\":\"overlay\",\"size\":10,\"solidity\":0.2}},\"type\":\"histogram\"}],\"scattergl\":[{\"type\":\"scattergl\",\"marker\":{\"colorbar\":{\"outlinewidth\":0,\"ticks\":\"\"}}}],\"scatter3d\":[{\"type\":\"scatter3d\",\"line\":{\"colorbar\":{\"outlinewidth\":0,\"ticks\":\"\"}},\"marker\":{\"colorbar\":{\"outlinewidth\":0,\"ticks\":\"\"}}}],\"scattermapbox\":[{\"type\":\"scattermapbox\",\"marker\":{\"colorbar\":{\"outlinewidth\":0,\"ticks\":\"\"}}}],\"scatterternary\":[{\"type\":\"scatterternary\",\"marker\":{\"colorbar\":{\"outlinewidth\":0,\"ticks\":\"\"}}}],\"scattercarpet\":[{\"type\":\"scattercarpet\",\"marker\":{\"colorbar\":{\"outlinewidth\":0,\"ticks\":\"\"}}}],\"carpet\":[{\"aaxis\":{\"endlinecolor\":\"#2a3f5f\",\"gridcolor\":\"white\",\"linecolor\":\"white\",\"minorgridcolor\":\"white\",\"startlinecolor\":\"#2a3f5f\"},\"baxis\":{\"endlinecolor\":\"#2a3f5f\",\"gridcolor\":\"white\",\"linecolor\":\"white\",\"minorgridcolor\":\"white\",\"startlinecolor\":\"#2a3f5f\"},\"type\":\"carpet\"}],\"table\":[{\"cells\":{\"fill\":{\"color\":\"#EBF0F8\"},\"line\":{\"color\":\"white\"}},\"header\":{\"fill\":{\"color\":\"#C8D4E3\"},\"line\":{\"color\":\"white\"}},\"type\":\"table\"}],\"barpolar\":[{\"marker\":{\"line\":{\"color\":\"#E5ECF6\",\"width\":0.5},\"pattern\":{\"fillmode\":\"overlay\",\"size\":10,\"solidity\":0.2}},\"type\":\"barpolar\"}],\"pie\":[{\"automargin\":true,\"type\":\"pie\"}]},\"layout\":{\"autotypenumbers\":\"strict\",\"colorway\":[\"#636efa\",\"#EF553B\",\"#00cc96\",\"#ab63fa\",\"#FFA15A\",\"#19d3f3\",\"#FF6692\",\"#B6E880\",\"#FF97FF\",\"#FECB52\"],\"font\":{\"color\":\"#2a3f5f\"},\"hovermode\":\"closest\",\"hoverlabel\":{\"align\":\"left\"},\"paper_bgcolor\":\"white\",\"plot_bgcolor\":\"#E5ECF6\",\"polar\":{\"bgcolor\":\"#E5ECF6\",\"angularaxis\":{\"gridcolor\":\"white\",\"linecolor\":\"white\",\"ticks\":\"\"},\"radialaxis\":{\"gridcolor\":\"white\",\"linecolor\":\"white\",\"ticks\":\"\"}},\"ternary\":{\"bgcolor\":\"#E5ECF6\",\"aaxis\":{\"gridcolor\":\"white\",\"linecolor\":\"white\",\"ticks\":\"\"},\"baxis\":{\"gridcolor\":\"white\",\"linecolor\":\"white\",\"ticks\":\"\"},\"caxis\":{\"gridcolor\":\"white\",\"linecolor\":\"white\",\"ticks\":\"\"}},\"coloraxis\":{\"colorbar\":{\"outlinewidth\":0,\"ticks\":\"\"}},\"colorscale\":{\"sequential\":[[0.0,\"#0d0887\"],[0.1111111111111111,\"#46039f\"],[0.2222222222222222,\"#7201a8\"],[0.3333333333333333,\"#9c179e\"],[0.4444444444444444,\"#bd3786\"],[0.5555555555555556,\"#d8576b\"],[0.6666666666666666,\"#ed7953\"],[0.7777777777777778,\"#fb9f3a\"],[0.8888888888888888,\"#fdca26\"],[1.0,\"#f0f921\"]],\"sequentialminus\":[[0.0,\"#0d0887\"],[0.1111111111111111,\"#46039f\"],[0.2222222222222222,\"#7201a8\"],[0.3333333333333333,\"#9c179e\"],[0.4444444444444444,\"#bd3786\"],[0.5555555555555556,\"#d8576b\"],[0.6666666666666666,\"#ed7953\"],[0.7777777777777778,\"#fb9f3a\"],[0.8888888888888888,\"#fdca26\"],[1.0,\"#f0f921\"]],\"diverging\":[[0,\"#8e0152\"],[0.1,\"#c51b7d\"],[0.2,\"#de77ae\"],[0.3,\"#f1b6da\"],[0.4,\"#fde0ef\"],[0.5,\"#f7f7f7\"],[0.6,\"#e6f5d0\"],[0.7,\"#b8e186\"],[0.8,\"#7fbc41\"],[0.9,\"#4d9221\"],[1,\"#276419\"]]},\"xaxis\":{\"gridcolor\":\"white\",\"linecolor\":\"white\",\"ticks\":\"\",\"title\":{\"standoff\":15},\"zerolinecolor\":\"white\",\"automargin\":true,\"zerolinewidth\":2},\"yaxis\":{\"gridcolor\":\"white\",\"linecolor\":\"white\",\"ticks\":\"\",\"title\":{\"standoff\":15},\"zerolinecolor\":\"white\",\"automargin\":true,\"zerolinewidth\":2},\"scene\":{\"xaxis\":{\"backgroundcolor\":\"#E5ECF6\",\"gridcolor\":\"white\",\"linecolor\":\"white\",\"showbackground\":true,\"ticks\":\"\",\"zerolinecolor\":\"white\",\"gridwidth\":2},\"yaxis\":{\"backgroundcolor\":\"#E5ECF6\",\"gridcolor\":\"white\",\"linecolor\":\"white\",\"showbackground\":true,\"ticks\":\"\",\"zerolinecolor\":\"white\",\"gridwidth\":2},\"zaxis\":{\"backgroundcolor\":\"#E5ECF6\",\"gridcolor\":\"white\",\"linecolor\":\"white\",\"showbackground\":true,\"ticks\":\"\",\"zerolinecolor\":\"white\",\"gridwidth\":2}},\"shapedefaults\":{\"line\":{\"color\":\"#2a3f5f\"}},\"annotationdefaults\":{\"arrowcolor\":\"#2a3f5f\",\"arrowhead\":0,\"arrowwidth\":1},\"geo\":{\"bgcolor\":\"white\",\"landcolor\":\"#E5ECF6\",\"subunitcolor\":\"white\",\"showland\":true,\"showlakes\":true,\"lakecolor\":\"white\"},\"title\":{\"x\":0.05},\"mapbox\":{\"style\":\"light\"}}},\"xaxis\":{\"anchor\":\"y\",\"domain\":[0.0,1.0],\"title\":{\"text\":\"index\"}},\"yaxis\":{\"anchor\":\"x\",\"domain\":[0.0,1.0],\"title\":{\"text\":\"value\"}},\"legend\":{\"title\":{\"text\":\"variable\"},\"tracegroupgap\":0},\"margin\":{\"t\":60},\"barmode\":\"relative\"},                        {\"responsive\": true}                    ).then(function(){\n",
       "                            \n",
       "var gd = document.getElementById('a6c63e46-a906-45bc-8c1e-40ddb648727b');\n",
       "var x = new MutationObserver(function (mutations, observer) {{\n",
       "        var display = window.getComputedStyle(gd).display;\n",
       "        if (!display || display === 'none') {{\n",
       "            console.log([gd, 'removed!']);\n",
       "            Plotly.purge(gd);\n",
       "            observer.disconnect();\n",
       "        }}\n",
       "}});\n",
       "\n",
       "// Listen for the removal of the full notebook cells\n",
       "var notebookContainer = gd.closest('#notebook-container');\n",
       "if (notebookContainer) {{\n",
       "    x.observe(notebookContainer, {childList: true});\n",
       "}}\n",
       "\n",
       "// Listen for the clearing of the current output cell\n",
       "var outputEl = gd.closest('.output');\n",
       "if (outputEl) {{\n",
       "    x.observe(outputEl, {childList: true});\n",
       "}}\n",
       "\n",
       "                        })                };                });            </script>        </div>"
      ]
     },
     "metadata": {},
     "output_type": "display_data"
    }
   ],
   "source": [
    "import plotly.express as px\n",
    "\n",
    "df = scores_mm\n",
    "fig = px.bar(df )\n",
    "fig.show()"
   ]
  }
 ],
 "metadata": {
  "colab": {
   "collapsed_sections": [
    "-7gSS1NBA3Hz"
   ],
   "name": "Classification template.ipynb",
   "provenance": []
  },
  "interpreter": {
   "hash": "8b3950a01c8d45d8fdfde33119520d3298a783219b894c12da6f6f15c1b9c098"
  },
  "kernelspec": {
   "display_name": "Python 3 (ipykernel)",
   "language": "python",
   "name": "python3"
  },
  "language_info": {
   "codemirror_mode": {
    "name": "ipython",
    "version": 3
   },
   "file_extension": ".py",
   "mimetype": "text/x-python",
   "name": "python",
   "nbconvert_exporter": "python",
   "pygments_lexer": "ipython3",
   "version": "3.10.4"
  }
 },
 "nbformat": 4,
 "nbformat_minor": 4
}
