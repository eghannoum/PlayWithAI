{
 "cells": [
  {
   "cell_type": "markdown",
   "metadata": {
    "id": "ActTWMg4XZ5v"
   },
   "source": [
    "## Imports\n",
    "\n",
    "Jupyter notebook provides the possibility of using libraries, functions and variables globally. This means, once you import the libraries, functions, etc. you won't have to import them again in the next cell. However, if for any reason you end the session (crash, timeout, etc.), then you'll have to run this cell to have your libraries imported again. So, let's go ahead and import whatever we need in this homework assignment."
   ]
  },
  {
   "cell_type": "code",
   "execution_count": 1,
   "metadata": {
    "id": "LArjND15dGNh",
    "tags": []
   },
   "outputs": [
    {
     "name": "stderr",
     "output_type": "stream",
     "text": [
      "2023-04-30 20:31:07.573354: I tensorflow/core/platform/cpu_feature_guard.cc:193] This TensorFlow binary is optimized with oneAPI Deep Neural Network Library (oneDNN) to use the following CPU instructions in performance-critical operations:  SSE4.1 SSE4.2 AVX\n",
      "To enable them in other operations, rebuild TensorFlow with the appropriate compiler flags.\n"
     ]
    }
   ],
   "source": [
    "import numpy as np\n",
    "import pandas as pd\n",
    "from sklearn.metrics import confusion_matrix\n",
    "import tensorflow as tf\n",
    "\n",
    "import matplotlib.pyplot as plt\n",
    "import seaborn as sns\n"
   ]
  },
  {
   "cell_type": "markdown",
   "metadata": {
    "id": "gpqN-O0F_atv"
   },
   "source": [
    "## System checks\n",
    "\n",
    "Perform some rudimentary system checks. Do we have a CUDA-capable device? Multiple? Is CuDNN active (huge speedups for some networks)?"
   ]
  },
  {
   "cell_type": "code",
   "execution_count": 2,
   "metadata": {
    "colab": {
     "base_uri": "https://localhost:8080/"
    },
    "id": "b1r5yPHY_hsl",
    "outputId": "67a10ff0-2783-4416-99e5-b94ef1035099",
    "tags": []
   },
   "outputs": [
    {
     "name": "stdout",
     "output_type": "stream",
     "text": [
      "[]\n",
      "[PhysicalDevice(name='/physical_device:CPU:0', device_type='CPU')]\n"
     ]
    }
   ],
   "source": [
    "gpus = tf.config.list_physical_devices('GPU')\n",
    "cpus = tf.config.list_physical_devices('CPU')\n",
    "print(gpus)\n",
    "print(cpus)"
   ]
  },
  {
   "cell_type": "markdown",
   "metadata": {
    "id": "olx30IjdagoU"
   },
   "source": [
    "Now check the availability again."
   ]
  },
  {
   "cell_type": "code",
   "execution_count": 3,
   "metadata": {
    "tags": []
   },
   "outputs": [
    {
     "data": {
      "text/plain": [
       "[]"
      ]
     },
     "execution_count": 3,
     "metadata": {},
     "output_type": "execute_result"
    }
   ],
   "source": [
    "tf.config.list_physical_devices('GPU')"
   ]
  },
  {
   "cell_type": "markdown",
   "metadata": {},
   "source": [
    "Choose your device for computation. CPU or one of your CUDA devices"
   ]
  },
  {
   "cell_type": "code",
   "execution_count": 4,
   "metadata": {
    "id": "MMCbCpAFao6q",
    "tags": []
   },
   "outputs": [],
   "source": [
    "tf.config.set_visible_devices(gpus, 'GPU')"
   ]
  },
  {
   "cell_type": "markdown",
   "metadata": {},
   "source": [
    "# Subtask 1.1\n",
    "\n",
    "## Tensors"
   ]
  },
  {
   "cell_type": "markdown",
   "metadata": {},
   "source": [
    "Let us create a tensorflow tensor:"
   ]
  },
  {
   "cell_type": "code",
   "execution_count": 5,
   "metadata": {
    "tags": []
   },
   "outputs": [
    {
     "name": "stderr",
     "output_type": "stream",
     "text": [
      "2023-04-30 20:31:11.200220: I tensorflow/core/platform/cpu_feature_guard.cc:193] This TensorFlow binary is optimized with oneAPI Deep Neural Network Library (oneDNN) to use the following CPU instructions in performance-critical operations:  SSE4.1 SSE4.2 AVX\n",
      "To enable them in other operations, rebuild TensorFlow with the appropriate compiler flags.\n"
     ]
    }
   ],
   "source": [
    "a = tf.constant([[1.0, 2.0],\n",
    "                 [3.0, 4.0]])"
   ]
  },
  {
   "cell_type": "markdown",
   "metadata": {},
   "source": [
    "and find out what the properties of this tensor 'a' are."
   ]
  },
  {
   "cell_type": "code",
   "execution_count": 6,
   "metadata": {
    "tags": []
   },
   "outputs": [
    {
     "name": "stdout",
     "output_type": "stream",
     "text": [
      "tf.Tensor(\n",
      "[[1. 2.]\n",
      " [3. 4.]], shape=(2, 2), dtype=float32)\n"
     ]
    }
   ],
   "source": [
    "# TODO print the array\n",
    "print(a)\n"
   ]
  },
  {
   "cell_type": "code",
   "execution_count": 7,
   "metadata": {
    "tags": []
   },
   "outputs": [
    {
     "name": "stdout",
     "output_type": "stream",
     "text": [
      "<class 'tensorflow.python.framework.ops.EagerTensor'>\n"
     ]
    }
   ],
   "source": [
    "# TODO print its type\n",
    "print(type(a))"
   ]
  },
  {
   "cell_type": "code",
   "execution_count": 8,
   "metadata": {
    "tags": []
   },
   "outputs": [
    {
     "name": "stdout",
     "output_type": "stream",
     "text": [
      "(2, 2)\n"
     ]
    }
   ],
   "source": [
    "# TODO print its shape\n",
    "print(a.shape)\n"
   ]
  },
  {
   "cell_type": "code",
   "execution_count": 9,
   "metadata": {
    "tags": []
   },
   "outputs": [
    {
     "name": "stdout",
     "output_type": "stream",
     "text": [
      "(2, 2)\n"
     ]
    }
   ],
   "source": [
    "# TODO convert the tensor to a numpy array and print its size again\n",
    "a_as_np_arr = a.numpy()\n",
    "print(a.shape)"
   ]
  },
  {
   "cell_type": "code",
   "execution_count": 10,
   "metadata": {
    "tags": []
   },
   "outputs": [
    {
     "name": "stdout",
     "output_type": "stream",
     "text": [
      "tf.Tensor(\n",
      "[[2. 3.]\n",
      " [4. 5.]], shape=(2, 2), dtype=float32) \n",
      "\n",
      "tf.Tensor(\n",
      "[[1. 2.]\n",
      " [3. 4.]], shape=(2, 2), dtype=float32) \n",
      "\n",
      "tf.Tensor(\n",
      "[[3. 3.]\n",
      " [7. 7.]], shape=(2, 2), dtype=float32) \n",
      "\n"
     ]
    }
   ],
   "source": [
    "b = tf.constant([[1.0, 1.0],\n",
    "                 [1.0, 1.0]]) # Could have also said `tf.ones([2,2])`\n",
    "\n",
    "print(tf.add(a, b), \"\\n\")\n",
    "print(tf.multiply(a, b), \"\\n\")\n",
    "print(tf.matmul(a, b), \"\\n\")"
   ]
  },
  {
   "cell_type": "code",
   "execution_count": 11,
   "metadata": {
    "tags": []
   },
   "outputs": [
    {
     "name": "stdout",
     "output_type": "stream",
     "text": [
      "tf.Tensor(\n",
      "[[2. 3.]\n",
      " [4. 5.]], shape=(2, 2), dtype=float32) \n",
      "\n",
      "tf.Tensor(\n",
      "[[1. 2.]\n",
      " [3. 4.]], shape=(2, 2), dtype=float32) \n",
      "\n",
      "tf.Tensor(\n",
      "[[3. 3.]\n",
      " [7. 7.]], shape=(2, 2), dtype=float32) \n",
      "\n"
     ]
    }
   ],
   "source": [
    "# or \n",
    "print(a + b, \"\\n\") # element-wise addition\n",
    "print(a * b, \"\\n\") # element-wise multiplication\n",
    "print(a @ b, \"\\n\") # matrix multiplication"
   ]
  },
  {
   "cell_type": "code",
   "execution_count": 12,
   "metadata": {
    "tags": []
   },
   "outputs": [
    {
     "data": {
      "text/plain": [
       "<tf.Tensor: shape=(), dtype=float32, numpy=2.5>"
      ]
     },
     "execution_count": 12,
     "metadata": {},
     "output_type": "execute_result"
    }
   ],
   "source": [
    "# TODO compute the mean\n",
    "tf.math.reduce_mean(a)"
   ]
  },
  {
   "cell_type": "code",
   "execution_count": 13,
   "metadata": {
    "tags": []
   },
   "outputs": [
    {
     "name": "stdout",
     "output_type": "stream",
     "text": [
      "Index of the index of the smallest value= [0 0]\n"
     ]
    }
   ],
   "source": [
    "# TODO find the index of the smallest value\n",
    "print(f'Index of the index of the smallest value= {tf.math.argmin(a)}')"
   ]
  },
  {
   "cell_type": "code",
   "execution_count": 14,
   "metadata": {
    "tags": []
   },
   "outputs": [
    {
     "data": {
      "text/plain": [
       "<tf.Tensor: shape=(2, 2), dtype=float32, numpy=\n",
       "array([[0.       , 0.6931472],\n",
       "       [1.0986123, 1.3862944]], dtype=float32)>"
      ]
     },
     "execution_count": 14,
     "metadata": {},
     "output_type": "execute_result"
    }
   ],
   "source": [
    "# TODO compute the log\n",
    "tf.math.log(a)"
   ]
  },
  {
   "cell_type": "code",
   "execution_count": 15,
   "metadata": {
    "tags": []
   },
   "outputs": [
    {
     "data": {
      "text/plain": [
       "<tf.Tensor: shape=(), dtype=float32, numpy=1.0>"
      ]
     },
     "execution_count": 15,
     "metadata": {},
     "output_type": "execute_result"
    }
   ],
   "source": [
    "# TODO print out a single value from the tensor\n",
    "a[0,0]"
   ]
  },
  {
   "cell_type": "code",
   "execution_count": 16,
   "metadata": {
    "tags": []
   },
   "outputs": [
    {
     "data": {
      "text/plain": [
       "<tf.Tensor: shape=(4,), dtype=float32, numpy=array([1., 2., 3., 4.], dtype=float32)>"
      ]
     },
     "execution_count": 16,
     "metadata": {},
     "output_type": "execute_result"
    }
   ],
   "source": [
    "# TODO reshape the tensor to a new shape\n",
    "tf.reshape(a, -1)"
   ]
  },
  {
   "cell_type": "markdown",
   "metadata": {},
   "source": [
    "# Subtask 1.2\n",
    "\n",
    "## Variables\n",
    "A tf.Variable represents a tensor whose value can be changed by running ops on it. Specific ops allow you to read and modify the values of this tensor. Higher level libraries like tf.keras use tf.Variable to store model parameters. "
   ]
  },
  {
   "cell_type": "code",
   "execution_count": 17,
   "metadata": {
    "tags": []
   },
   "outputs": [],
   "source": [
    "numpyarray = np.arange(10).reshape(2, 5)\n",
    "# create a tensorflow variable\n",
    "a = tf.Variable(numpyarray, dtype=tf.float32)"
   ]
  },
  {
   "cell_type": "markdown",
   "metadata": {},
   "source": [
    "### Placing variables\n",
    "\n",
    "For better performance, TensorFlow will attempt to place tensors and variables on the fastest device compatible, however, you can override this."
   ]
  },
  {
   "cell_type": "code",
   "execution_count": 18,
   "metadata": {
    "tags": []
   },
   "outputs": [
    {
     "name": "stdout",
     "output_type": "stream",
     "text": [
      "tf.Tensor(\n",
      "[[22. 28.]\n",
      " [49. 64.]], shape=(2, 2), dtype=float32)\n"
     ]
    }
   ],
   "source": [
    "with tf.device('CPU:0'):\n",
    "  # Create some tensors\n",
    "  a = tf.Variable([[1.0, 2.0, 3.0], [4.0, 5.0, 6.0]])\n",
    "  b = tf.Variable([[1.0, 2.0], [3.0, 4.0], [5.0, 6.0]])\n",
    "  c = a @ b\n",
    "\n",
    "print(c)"
   ]
  },
  {
   "cell_type": "code",
   "execution_count": 19,
   "metadata": {
    "tags": []
   },
   "outputs": [
    {
     "name": "stdout",
     "output_type": "stream",
     "text": [
      "tf.Tensor(\n",
      "[[28 33]\n",
      " [16 19]], shape=(2, 2), dtype=int32)\n"
     ]
    }
   ],
   "source": [
    "# TODO create two tf.variables using device 'CPU:0' and do matrix multiplication on device 'GPU:0'\n",
    "with tf.device('GPU:0'):\n",
    "    m1 = tf.Variable([[1, 2, 3], [3, 2, 1]])\n",
    "    m2 = tf.Variable([[1, 2], [3, 2], [7, 9]])\n",
    "    res = m1 @ m2\n",
    "print(res)"
   ]
  },
  {
   "cell_type": "markdown",
   "metadata": {},
   "source": [
    "# Subtask 1.3\n",
    "\n",
    "### Loading the flood dataset"
   ]
  },
  {
   "cell_type": "code",
   "execution_count": 20,
   "metadata": {
    "tags": []
   },
   "outputs": [
    {
     "data": {
      "text/html": [
       "<div>\n",
       "<style scoped>\n",
       "    .dataframe tbody tr th:only-of-type {\n",
       "        vertical-align: middle;\n",
       "    }\n",
       "\n",
       "    .dataframe tbody tr th {\n",
       "        vertical-align: top;\n",
       "    }\n",
       "\n",
       "    .dataframe thead th {\n",
       "        text-align: right;\n",
       "    }\n",
       "</style>\n",
       "<table border=\"1\" class=\"dataframe\">\n",
       "  <thead>\n",
       "    <tr style=\"text-align: right;\">\n",
       "      <th></th>\n",
       "      <th>Margarethenklippe</th>\n",
       "      <th>Sennhuette</th>\n",
       "      <th>labels</th>\n",
       "    </tr>\n",
       "  </thead>\n",
       "  <tbody>\n",
       "    <tr>\n",
       "      <th>0</th>\n",
       "      <td>6.5</td>\n",
       "      <td>4.1</td>\n",
       "      <td>0.0</td>\n",
       "    </tr>\n",
       "    <tr>\n",
       "      <th>1</th>\n",
       "      <td>6.4</td>\n",
       "      <td>4.1</td>\n",
       "      <td>0.0</td>\n",
       "    </tr>\n",
       "    <tr>\n",
       "      <th>2</th>\n",
       "      <td>6.3</td>\n",
       "      <td>3.9</td>\n",
       "      <td>0.0</td>\n",
       "    </tr>\n",
       "    <tr>\n",
       "      <th>3</th>\n",
       "      <td>6.3</td>\n",
       "      <td>3.9</td>\n",
       "      <td>0.0</td>\n",
       "    </tr>\n",
       "    <tr>\n",
       "      <th>4</th>\n",
       "      <td>6.4</td>\n",
       "      <td>4.1</td>\n",
       "      <td>0.0</td>\n",
       "    </tr>\n",
       "    <tr>\n",
       "      <th>...</th>\n",
       "      <td>...</td>\n",
       "      <td>...</td>\n",
       "      <td>...</td>\n",
       "    </tr>\n",
       "    <tr>\n",
       "      <th>6245</th>\n",
       "      <td>6.9</td>\n",
       "      <td>3.3</td>\n",
       "      <td>0.0</td>\n",
       "    </tr>\n",
       "    <tr>\n",
       "      <th>6246</th>\n",
       "      <td>6.9</td>\n",
       "      <td>3.4</td>\n",
       "      <td>0.0</td>\n",
       "    </tr>\n",
       "    <tr>\n",
       "      <th>6247</th>\n",
       "      <td>6.8</td>\n",
       "      <td>3.5</td>\n",
       "      <td>0.0</td>\n",
       "    </tr>\n",
       "    <tr>\n",
       "      <th>6248</th>\n",
       "      <td>6.7</td>\n",
       "      <td>3.2</td>\n",
       "      <td>0.0</td>\n",
       "    </tr>\n",
       "    <tr>\n",
       "      <th>6249</th>\n",
       "      <td>6.8</td>\n",
       "      <td>3.1</td>\n",
       "      <td>0.0</td>\n",
       "    </tr>\n",
       "  </tbody>\n",
       "</table>\n",
       "<p>6250 rows × 3 columns</p>\n",
       "</div>"
      ],
      "text/plain": [
       "      Margarethenklippe  Sennhuette  labels\n",
       "0                   6.5         4.1     0.0\n",
       "1                   6.4         4.1     0.0\n",
       "2                   6.3         3.9     0.0\n",
       "3                   6.3         3.9     0.0\n",
       "4                   6.4         4.1     0.0\n",
       "...                 ...         ...     ...\n",
       "6245                6.9         3.3     0.0\n",
       "6246                6.9         3.4     0.0\n",
       "6247                6.8         3.5     0.0\n",
       "6248                6.7         3.2     0.0\n",
       "6249                6.8         3.1     0.0\n",
       "\n",
       "[6250 rows x 3 columns]"
      ]
     },
     "execution_count": 20,
     "metadata": {},
     "output_type": "execute_result"
    }
   ],
   "source": [
    "data = pd.read_csv('Flood_Data_Classification.csv')\n",
    "data"
   ]
  },
  {
   "cell_type": "markdown",
   "metadata": {},
   "source": [
    "# Subtask 1.4\n",
    "\n",
    "### Inspect the data\n",
    "Let us plot the data for each of the variables and color them based on the labels:\n",
    "\n",
    "**Note:** Do not forget to add title, axis labels and a legend!\n",
    "This applies in general, please keep in mind for future exercise sheets."
   ]
  },
  {
   "cell_type": "code",
   "execution_count": 21,
   "metadata": {
    "tags": []
   },
   "outputs": [
    {
     "data": {
      "text/plain": [
       "<matplotlib.legend.Legend at 0x7fa05daaac80>"
      ]
     },
     "execution_count": 21,
     "metadata": {},
     "output_type": "execute_result"
    },
    {
     "data": {
      "image/png": "[encoded data removed]",
      "text/plain": [
       "<Figure size 800x500 with 2 Axes>"
      ]
     },
     "metadata": {},
     "output_type": "display_data"
    }
   ],
   "source": [
    "fig, ax = plt.subplots(2, 1, figsize=(8, 5), sharex=True)\n",
    "\n",
    "ax[0].plot(np.where(data['labels']==0, data['Margarethenklippe'], None), color='tab:blue', label='Normal')\n",
    "# TODO fill in the missing lines ...\n",
    "ax[0].plot(np.where(data['labels']==1, data['Sennhuette'], None), color='tab:red', label='Flood')\n",
    "ax[1].plot(np.where(data['labels']==0, data['Margarethenklippe'], None), color='tab:blue' )\n",
    "ax[1].plot(np.where(data['labels']==1, data['Sennhuette'], None), color='tab:red')\n",
    "ax[0].legend(['Normal', 'Flood warning'])"
   ]
  },
  {
   "cell_type": "code",
   "execution_count": 22,
   "metadata": {
    "tags": []
   },
   "outputs": [
    {
     "data": {
      "text/plain": [
       "Text(0.5, 1.0, 'Correlation Matrix')"
      ]
     },
     "execution_count": 22,
     "metadata": {},
     "output_type": "execute_result"
    },
    {
     "data": {
      "image/png": "[encoded data removed]",
      "text/plain": [
       "<Figure size 640x480 with 1 Axes>"
      ]
     },
     "metadata": {},
     "output_type": "display_data"
    }
   ],
   "source": [
    "# TODO fill in the missing lines\n",
    "corr = data.corr()\n",
    "\n",
    "# TODO plot the correlation matrix using pyplot.imshow\n",
    "\n",
    "plt.imshow(corr)\n",
    "plt.title('Correlation Matrix')"
   ]
  },
  {
   "cell_type": "markdown",
   "metadata": {},
   "source": [
    "Another interesting plot that may give you a good understanding about the complexity of the dataset is the pairwise relationships. We can use *seaborn* library as below."
   ]
  },
  {
   "cell_type": "code",
   "execution_count": 24,
   "metadata": {},
   "outputs": [
    {
     "data": {
      "text/plain": [
       "<seaborn.axisgrid.PairGrid at 0x7f43c05039d0>"
      ]
     },
     "execution_count": 24,
     "metadata": {},
     "output_type": "execute_result"
    },
    {
     "data": {
      "image/png": "[encoded data removed]",
      "text/plain": [
       "<Figure size 750x750 with 12 Axes>"
      ]
     },
     "metadata": {},
     "output_type": "display_data"
    }
   ],
   "source": [
    "sns.pairplot(data)"
   ]
  },
  {
   "cell_type": "markdown",
   "metadata": {},
   "source": [
    "# Subtask 1.5\n",
    "\n",
    "### Split the data to inputs and outputs\n",
    "\n",
    "We consider the data from Margarethenklippe and Sennhuette, i.e. the first two columns, as the input and design a classifier based on the perceptron algorithm to detect flood events.\n",
    "Therefore, we have:"
   ]
  },
  {
   "cell_type": "code",
   "execution_count": 24,
   "metadata": {
    "tags": []
   },
   "outputs": [],
   "source": [
    "# TODO fill in the missing lines\n",
    "X = data.loc[:, data.columns != 'labels']\n",
    "y = data.loc[:, data.columns == 'labels']"
   ]
  },
  {
   "cell_type": "code",
   "execution_count": 25,
   "metadata": {
    "tags": []
   },
   "outputs": [
    {
     "data": {
      "text/html": [
       "<div>\n",
       "<style scoped>\n",
       "    .dataframe tbody tr th:only-of-type {\n",
       "        vertical-align: middle;\n",
       "    }\n",
       "\n",
       "    .dataframe tbody tr th {\n",
       "        vertical-align: top;\n",
       "    }\n",
       "\n",
       "    .dataframe thead th {\n",
       "        text-align: right;\n",
       "    }\n",
       "</style>\n",
       "<table border=\"1\" class=\"dataframe\">\n",
       "  <thead>\n",
       "    <tr style=\"text-align: right;\">\n",
       "      <th></th>\n",
       "      <th>count</th>\n",
       "      <th>mean</th>\n",
       "      <th>std</th>\n",
       "      <th>min</th>\n",
       "      <th>25%</th>\n",
       "      <th>50%</th>\n",
       "      <th>75%</th>\n",
       "      <th>max</th>\n",
       "    </tr>\n",
       "  </thead>\n",
       "  <tbody>\n",
       "    <tr>\n",
       "      <th>Margarethenklippe</th>\n",
       "      <td>6250.0</td>\n",
       "      <td>10.553440</td>\n",
       "      <td>6.396791</td>\n",
       "      <td>3.7</td>\n",
       "      <td>6.8</td>\n",
       "      <td>9.05</td>\n",
       "      <td>12.4</td>\n",
       "      <td>155.8</td>\n",
       "    </tr>\n",
       "    <tr>\n",
       "      <th>Sennhuette</th>\n",
       "      <td>6250.0</td>\n",
       "      <td>7.821264</td>\n",
       "      <td>6.642199</td>\n",
       "      <td>1.5</td>\n",
       "      <td>4.0</td>\n",
       "      <td>6.00</td>\n",
       "      <td>9.4</td>\n",
       "      <td>170.4</td>\n",
       "    </tr>\n",
       "    <tr>\n",
       "      <th>labels</th>\n",
       "      <td>6250.0</td>\n",
       "      <td>0.320800</td>\n",
       "      <td>0.466821</td>\n",
       "      <td>0.0</td>\n",
       "      <td>0.0</td>\n",
       "      <td>0.00</td>\n",
       "      <td>1.0</td>\n",
       "      <td>1.0</td>\n",
       "    </tr>\n",
       "  </tbody>\n",
       "</table>\n",
       "</div>"
      ],
      "text/plain": [
       "                    count       mean       std  min  25%   50%   75%    max\n",
       "Margarethenklippe  6250.0  10.553440  6.396791  3.7  6.8  9.05  12.4  155.8\n",
       "Sennhuette         6250.0   7.821264  6.642199  1.5  4.0  6.00   9.4  170.4\n",
       "labels             6250.0   0.320800  0.466821  0.0  0.0  0.00   1.0    1.0"
      ]
     },
     "execution_count": 25,
     "metadata": {},
     "output_type": "execute_result"
    }
   ],
   "source": [
    "## TODO print the statistics of the input/output (e.g. count, mean, std, min, max)\n",
    "data.describe().T"
   ]
  },
  {
   "cell_type": "markdown",
   "metadata": {
    "id": "aUpPhyFZfMWM"
   },
   "source": [
    "# Subtask 1.6\n",
    "### Training/validation data and normalization\n",
    "\n",
    "Let's consider 50% of the data for training and 50% for validation:\n"
   ]
  },
  {
   "cell_type": "code",
   "execution_count": 26,
   "metadata": {
    "tags": []
   },
   "outputs": [
    {
     "data": {
      "text/html": [
       "<div>\n",
       "<style scoped>\n",
       "    .dataframe tbody tr th:only-of-type {\n",
       "        vertical-align: middle;\n",
       "    }\n",
       "\n",
       "    .dataframe tbody tr th {\n",
       "        vertical-align: top;\n",
       "    }\n",
       "\n",
       "    .dataframe thead th {\n",
       "        text-align: right;\n",
       "    }\n",
       "</style>\n",
       "<table border=\"1\" class=\"dataframe\">\n",
       "  <thead>\n",
       "    <tr style=\"text-align: right;\">\n",
       "      <th></th>\n",
       "      <th>Margarethenklippe</th>\n",
       "      <th>Sennhuette</th>\n",
       "    </tr>\n",
       "  </thead>\n",
       "  <tbody>\n",
       "    <tr>\n",
       "      <th>2729</th>\n",
       "      <td>13.0</td>\n",
       "      <td>12.9</td>\n",
       "    </tr>\n",
       "    <tr>\n",
       "      <th>3462</th>\n",
       "      <td>16.0</td>\n",
       "      <td>13.6</td>\n",
       "    </tr>\n",
       "    <tr>\n",
       "      <th>502</th>\n",
       "      <td>23.7</td>\n",
       "      <td>24.2</td>\n",
       "    </tr>\n",
       "    <tr>\n",
       "      <th>2525</th>\n",
       "      <td>7.2</td>\n",
       "      <td>6.2</td>\n",
       "    </tr>\n",
       "    <tr>\n",
       "      <th>4847</th>\n",
       "      <td>10.6</td>\n",
       "      <td>7.6</td>\n",
       "    </tr>\n",
       "    <tr>\n",
       "      <th>...</th>\n",
       "      <td>...</td>\n",
       "      <td>...</td>\n",
       "    </tr>\n",
       "    <tr>\n",
       "      <th>3478</th>\n",
       "      <td>13.9</td>\n",
       "      <td>11.5</td>\n",
       "    </tr>\n",
       "    <tr>\n",
       "      <th>2371</th>\n",
       "      <td>4.4</td>\n",
       "      <td>2.2</td>\n",
       "    </tr>\n",
       "    <tr>\n",
       "      <th>2335</th>\n",
       "      <td>5.5</td>\n",
       "      <td>2.2</td>\n",
       "    </tr>\n",
       "    <tr>\n",
       "      <th>451</th>\n",
       "      <td>7.0</td>\n",
       "      <td>4.1</td>\n",
       "    </tr>\n",
       "    <tr>\n",
       "      <th>4992</th>\n",
       "      <td>15.6</td>\n",
       "      <td>14.2</td>\n",
       "    </tr>\n",
       "  </tbody>\n",
       "</table>\n",
       "<p>6250 rows × 2 columns</p>\n",
       "</div>"
      ],
      "text/plain": [
       "      Margarethenklippe  Sennhuette\n",
       "2729               13.0        12.9\n",
       "3462               16.0        13.6\n",
       "502                23.7        24.2\n",
       "2525                7.2         6.2\n",
       "4847               10.6         7.6\n",
       "...                 ...         ...\n",
       "3478               13.9        11.5\n",
       "2371                4.4         2.2\n",
       "2335                5.5         2.2\n",
       "451                 7.0         4.1\n",
       "4992               15.6        14.2\n",
       "\n",
       "[6250 rows x 2 columns]"
      ]
     },
     "execution_count": 26,
     "metadata": {},
     "output_type": "execute_result"
    }
   ],
   "source": [
    "idx = np.arange(len(X))\n",
    "np.random.shuffle(idx)\n",
    "X.iloc[idx]"
   ]
  },
  {
   "cell_type": "markdown",
   "metadata": {
    "id": "2SK56a7Rf7w1",
    "tags": []
   },
   "source": [
    "# TODO shuffle the samples\n",
    "np.random.seed(24)\n",
    "idx = np.arange(len(X))\n",
    "np.random.shuffle(idx)\n",
    "\n",
    "X = X.iloc[idx]\n",
    "y = y.iloc[idx]"
   ]
  },
  {
   "cell_type": "code",
   "execution_count": 28,
   "metadata": {
    "id": "DbD1a1PEfu-5",
    "tags": []
   },
   "outputs": [],
   "source": [
    "# TODO split data to train and validation\n",
    "N_train = int(0.5 * len(X))\n",
    "x_train, x_test, y_train, y_test = X.iloc[:N_train].values,  X.iloc[N_train: ].values,  y.iloc[N_train:].values,  y.iloc[:N_train].values"
   ]
  },
  {
   "cell_type": "markdown",
   "metadata": {},
   "source": [
    "In the table of statistics it's easy to see how different the ranges of each feature are. It is good practice to normalize features that use different scales and ranges."
   ]
  },
  {
   "cell_type": "code",
   "execution_count": 29,
   "metadata": {
    "tags": []
   },
   "outputs": [],
   "source": [
    "def standardize(x):\n",
    "    mu = x.mean(0)\n",
    "    std = x.std(0)\n",
    "    return mu, std, (x - mu)/std\n",
    "\n",
    "mu_x, std_x, x_train = standardize(x_train)\n",
    "mu_y, std_y, y_train = standardize(y_train)\n",
    "\n",
    "x_test = (x_test - mu_x)/std_x\n",
    "y_test = (y_test - mu_y)/std_y"
   ]
  },
  {
   "cell_type": "code",
   "execution_count": 30,
   "metadata": {
    "id": "Jstfx0J-jdgm"
   },
   "outputs": [],
   "source": [
    "# TODO Normalize both input and the output using the statistics (mean and std) of the training data\n",
    "mu = x_train.mean()\n",
    "std = x_train.std()\n",
    "\n",
    "muy = y_train.mean()\n",
    "stdy = y_train.std()\n",
    "\n",
    "x_train = (x_train-mu)/std\n",
    "x_test = (x_test-mu)/std\n",
    "\n",
    "y_train = (y_train-muy)/stdy\n",
    "y_test = (y_test-muy)/stdy"
   ]
  },
  {
   "cell_type": "markdown",
   "metadata": {
    "id": "g48rvntriAwy"
   },
   "source": [
    "# Subtask 1.7\n",
    "### Classification based on the perceptron algorithm.\n",
    "\n",
    "Let's build and train a model as:\n",
    "\\begin{equation}\n",
    "y = sign(\\mathbf{w}^{\\mathtt{T}}X),\n",
    "\\end{equation}\n",
    "where $\\mathbf{w}$ represents the weights. We need to do the following steps:\n",
    " - Create the model by initializing the weights.\n",
    " - Define the loss function. \n",
    " - Train the model. We will use the perceptron algorithm to minimize the loss.\n",
    " \n",
    "First, let us define a function for plotting the results as: "
   ]
  },
  {
   "cell_type": "code",
   "execution_count": 31,
   "metadata": {},
   "outputs": [],
   "source": [
    "def plot(w, X, y):\n",
    "    \"\"\" Defines the plot function: \n",
    "    inputs: w (N + 1) array\n",
    "            X (M, N) array\n",
    "            y (M) array\n",
    "    returns:\n",
    "    \"\"\" \n",
    "    a = -w[1] / w[2]\n",
    "    xx = np.linspace(X.min(), 0.5 * X.max())\n",
    "    yy = a * xx + w[0] / w[1]  \n",
    "    fig, ax = plt.subplots(1, 1, figsize = (4, 4))\n",
    "    ax.scatter(X[:,0], X[:,1], c = y, cmap = 'bwr', label = 'Data')\n",
    "    ax.plot(xx, yy, 'k', label = 'Classifier')\n",
    "\n",
    "    ax.set_xlabel('Margarethenklippe')\n",
    "    ax.set_ylabel('Sennhuette')\n",
    "#     ax.set_aspect('equal')\n",
    "    ax.legend()"
   ]
  },
  {
   "cell_type": "code",
   "execution_count": 32,
   "metadata": {},
   "outputs": [
    {
     "data": {
      "image/png": "[encoded data removed]",
      "text/plain": [
       "<Figure size 400x400 with 1 Axes>"
      ]
     },
     "metadata": {},
     "output_type": "display_data"
    }
   ],
   "source": [
    "# TODO use the plot function above to show the results for the training data and the suggested weights:\n",
    "W = [0.1, 0.05, 1.0]\n",
    "plot(W, x_train, y_train)"
   ]
  },
  {
   "cell_type": "markdown",
   "metadata": {},
   "source": [
    "## Create the perceptron model as a Python class\n",
    "\n",
    "We will need the following functions:\n",
    "- **init**: where you can initialize the model parameters and set the learning rate.\n",
    "- **loss_fn**: where the loss (or error) needs to be computed by comparing the prediction to the reference data.\n",
    "- **call**: or the forward pass, where the prediction is made using the previously defined model on the input data.\n",
    "- **train_step**: where we define the computation performed at one step of training. Here, the model learns and updates its weights.\n",
    "- **test_step**: where we define the computation performed at one step of evaluation."
   ]
  },
  {
   "cell_type": "code",
   "execution_count": 234,
   "metadata": {},
   "outputs": [],
   "source": [
    "class Perceptron(tf.keras.Model):\n",
    "    \"\"\"\n",
    "    Classification model based on the perceptron algorithm.\n",
    "    \"\"\"\n",
    "    def __init__(self, input_dim = 2, lr = 0.001):\n",
    "        super(Perceptron, self).__init__()\n",
    "        # TODO define the model weights\n",
    "        self.W = tf.Variable(tf.zeros(shape=(input_dim+1, 1), dtype='double'))\n",
    "        # TODO Define the optimizer. In this case, we use Stochastic Gradient Descent (SGD).\n",
    "        self.lr = lr\n",
    "        self.opt = tf.keras.optimizers.SGD(learning_rate=lr)\n",
    "    \n",
    "    def loss_fn(self, y_pred, y_true):\n",
    "        \"\"\" Defines the loss function \"\"\"\n",
    "        # TODO compute the loss\n",
    "        bce = tf.keras.losses.BinaryCrossentropy(from_logits=True)\n",
    "        loss = bce(y_true=y_true, y_pred=y_pred)\n",
    "        return loss\n",
    "\n",
    "\n",
    "    def call(self, inputs):\n",
    "        \"\"\" Defines the computation performed at every call. \"\"\"\n",
    "        # TODO run the data through the layer\n",
    "        inputs = np.hstack([np.ones((len(inputs), 1)), inputs])\n",
    "        z = tf.matmul(inputs, self.W)\n",
    "        outputs = tf.math.sign(z)\n",
    "        #return outputs.reshape((-1, 1))\n",
    "        return tf.reshape(outputs, -1)\n",
    "\n",
    "    def train_step(self, data):\n",
    "        \"\"\" Defines the computation performed at one step of training.\n",
    "            This typically includes the: \n",
    "            - forward pass \n",
    "            - loss calculation \n",
    "            - weight updates. \n",
    "            - metric updates.\n",
    "        \"\"\"\n",
    "        inputs, labels = data\n",
    "        \n",
    "        # TODO compute the loss and update the weights\n",
    "        \n",
    "        outputs = self.call(inputs)\n",
    "        loss = self.loss_fn(outputs, labels)\n",
    "\n",
    "        loss = tf.reshape(loss, -1)\n",
    "        inputs = np.hstack([np.ones((len(inputs), 1)), inputs])\n",
    "\n",
    "        updates = (inputs * loss * self.lr)\n",
    "        updates = tf.reduce_mean(updates, axis=0)\n",
    "        self.W = self.W +  updates\n",
    "        return tf.reduce_mean(loss**2, axis=0)\n",
    "\n",
    "    def test_step(self, data):\n",
    "        \"\"\" Defines the computation performed at one step of evaluation.\n",
    "            This typically includes the: \n",
    "            - forward pass \n",
    "            - loss calculation \n",
    "            - metric updates.\n",
    "        \"\"\"\n",
    "        inputs, labels = data\n",
    "        \n",
    "        # TODO compute the gradients and update the weights\n",
    "        outputs = self.call(inputs=inputs)\n",
    "        loss = self.loss_fn(outputs, labels)\n",
    "        loss = tf.reshape(loss, -1)\n",
    "\n",
    "        return tf.reduce_mean(loss**2)\n",
    "    \n"
   ]
  },
  {
   "cell_type": "markdown",
   "metadata": {},
   "source": [
    "## Instantiate the model"
   ]
  },
  {
   "cell_type": "code",
   "execution_count": 235,
   "metadata": {},
   "outputs": [],
   "source": [
    "# TODO instantiate the model using the Perceptron class you defined\n",
    "model = Perceptron()"
   ]
  },
  {
   "cell_type": "markdown",
   "metadata": {},
   "source": [
    "# Subtask 1.8\n",
    "### Train the model\n",
    "\n",
    "Everything is set for the model to train! Now, we need a training loop:"
   ]
  },
  {
   "cell_type": "code",
   "execution_count": null,
   "metadata": {},
   "outputs": [],
   "source": [
    "import tensorflow as tf\n",
    "\n",
    "num_epochs = 20\n",
    "batch_size = 32  \n",
    "\n",
    "hist = {'loss':[], 'val_loss':[]}\n",
    "\n",
    "train_dataset = tf.data.Dataset.from_tensor_slices((x_train, y_train)).batch(batch_size)\n",
    "test_dataset = tf.data.Dataset.from_tensor_slices((x_test, y_test)).batch(batch_size)\n",
    "\n",
    "train_losses = []\n",
    "test_losses = []\n",
    "\n",
    "for epoch in range(num_epochs):        \n",
    "    train_loss = tf.keras.metrics.Mean(name='train_loss')\n",
    "    for x_batch, y_batch in train_dataset:\n",
    "        loss = model.train_step((x_batch, y_batch))\n",
    "        train_loss.update_state(loss)\n",
    "    train_losses.append(train_loss.result().numpy())\n",
    "    \n",
    "    test_loss = tf.keras.metrics.Mean(name='test_loss')\n",
    "    for x_batch, y_batch in test_dataset:\n",
    "        loss = model.test_step((x_batch, y_batch))\n",
    "        test_loss.update_state(loss)\n",
    "    test_losses.append(test_loss.result().numpy())\n",
    "\n",
    "    print(f\"Epoch {epoch + 1}: train loss = {train_losses[-1]:.4f}, test loss = {test_losses[-1]:.4f}\")\n",
    "\n",
    "hist['loss'] = train_losses\n",
    "hist['val_loss'] = test_losses\n"
   ]
  },
  {
   "cell_type": "code",
   "execution_count": 48,
   "metadata": {},
   "outputs": [
    {
     "data": {
      "image/png": "[encoded data removed]",
      "text/plain": [
       "<Figure size 400x400 with 1 Axes>"
      ]
     },
     "metadata": {},
     "output_type": "display_data"
    }
   ],
   "source": [
    "# TODO plot the results for the learned weights using our plot function \n",
    "plot(X=X, y=y, w=W)"
   ]
  },
  {
   "cell_type": "markdown",
   "metadata": {},
   "source": [
    "# Subtask 1.9\n",
    "\n",
    "### Plot the training and validation error\n",
    "\n",
    "Create a plot using pyplot that contains both the losses on training set and the losses on the validation set.\n",
    "\n"
   ]
  },
  {
   "cell_type": "code",
   "execution_count": 49,
   "metadata": {},
   "outputs": [
    {
     "data": {
      "text/plain": [
       "<matplotlib.legend.Legend at 0x7f39f06bdaf0>"
      ]
     },
     "execution_count": 49,
     "metadata": {},
     "output_type": "execute_result"
    },
    {
     "data": {
      "image/png": "[encoded data removed]",
      "text/plain": [
       "<Figure size 640x480 with 1 Axes>"
      ]
     },
     "metadata": {},
     "output_type": "display_data"
    }
   ],
   "source": [
    "# TODO visualize the model's training progress\n",
    "\n",
    "f, ax = plt.subplots(1, 1)\n",
    "ax.plot(train_losses, label = 'train loss')\n",
    "ax.plot(test_losses, label = 'test loss')\n",
    "ax.set_xlabel('Epoch')\n",
    "ax.set_ylabel('MSE loss')\n",
    "ax.legend()"
   ]
  }
 ],
 "metadata": {
  "accelerator": "GPU",
  "colab": {
   "collapsed_sections": [],
   "name": "Exercises1_2021.ipynb",
   "provenance": []
  },
  "kernelspec": {
   "display_name": "Python 3 (ipykernel)",
   "language": "python",
   "name": "python3"
  },
  "language_info": {
   "codemirror_mode": {
    "name": "ipython",
    "version": 3
   },
   "file_extension": ".py",
   "mimetype": "text/x-python",
   "name": "python",
   "nbconvert_exporter": "python",
   "pygments_lexer": "ipython3",
   "version": "3.10.10"
  },
  "nteract": {
   "version": "0.15.0"
  },
  "vscode": {
   "interpreter": {
    "hash": "e61b79be2621c986fdea76ccdbeddc1e4d24bb6e933c4c3e028d2d0018eb94f2"
   }
  }
 },
 "nbformat": 4,
 "nbformat_minor": 4
}
