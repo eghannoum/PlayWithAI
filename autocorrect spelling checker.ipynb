{
 "cells": [
  {
   "cell_type": "code",
   "execution_count": 1,
   "metadata": {},
   "outputs": [],
   "source": [
    "import string\n",
    "import collections\n",
    "import nltk\n",
    "from nltk.tokenize import word_tokenize"
   ]
  },
  {
   "cell_type": "code",
   "execution_count": 17,
   "metadata": {},
   "outputs": [
    {
     "name": "stderr",
     "output_type": "stream",
     "text": [
      "[nltk_data] Downloading package punkt to\n",
      "[nltk_data]     C:\\Users\\eghan\\AppData\\Roaming\\nltk_data...\n",
      "[nltk_data]   Package punkt is already up-to-date!\n"
     ]
    },
    {
     "data": {
      "text/plain": [
       "True"
      ]
     },
     "execution_count": 17,
     "metadata": {},
     "output_type": "execute_result"
    }
   ],
   "source": [
    "nltk.download('punkt')"
   ]
  },
  {
   "cell_type": "code",
   "execution_count": 18,
   "metadata": {},
   "outputs": [],
   "source": [
    "def read_corpus(filename):\n",
    "    with open(file=filename) as f:\n",
    "        content = f.read()\n",
    "    return content\n"
   ]
  },
  {
   "cell_type": "code",
   "execution_count": 19,
   "metadata": {},
   "outputs": [],
   "source": [
    "def tokenize(text):\n",
    "    words = word_tokenize(text)\n",
    "    words = [word.lower() for word in words]\n",
    "    return words"
   ]
  },
  {
   "cell_type": "code",
   "execution_count": 20,
   "metadata": {},
   "outputs": [],
   "source": [
    "dataset_1 = tokenize(read_corpus('words_alpha.txt'))\n",
    "dataset_2 = tokenize(read_corpus('The Complete Works of William Shakespeare.txt'))\n",
    "dataset_3 = tokenize(read_corpus('Oxford English Dictionary.txt'))\n"
   ]
  },
  {
   "cell_type": "code",
   "execution_count": 21,
   "metadata": {},
   "outputs": [
    {
     "name": "stdout",
     "output_type": "stream",
     "text": [
      "Number of words in dataset 1 is 370110\n",
      "Number of words in dataset 2 is 1243138\n",
      "Number of words in dataset 3 is 1020139\n"
     ]
    }
   ],
   "source": [
    "print(f'Number of words in dataset 1 is {len(dataset_1)}')\n",
    "print(f'Number of words in dataset 2 is {len(dataset_2)}')\n",
    "print(f'Number of words in dataset 3 is {len(dataset_3)}')"
   ]
  },
  {
   "cell_type": "code",
   "execution_count": 23,
   "metadata": {},
   "outputs": [],
   "source": [
    "full_data  = dataset_1 + dataset_2 + dataset_3\n"
   ]
  },
  {
   "cell_type": "code",
   "execution_count": 60,
   "metadata": {},
   "outputs": [],
   "source": [
    "vocabs = set(full_data)"
   ]
  },
  {
   "cell_type": "code",
   "execution_count": 24,
   "metadata": {},
   "outputs": [],
   "source": [
    "word_counts = collections.Counter(full_data)"
   ]
  },
  {
   "cell_type": "code",
   "execution_count": 28,
   "metadata": {},
   "outputs": [],
   "source": [
    "total_word_count = float(sum(word_counts.values()))"
   ]
  },
  {
   "cell_type": "code",
   "execution_count": 32,
   "metadata": {},
   "outputs": [],
   "source": [
    "word_probas = {word: word_counts[word]/total_word_count for word in word_counts.keys()}"
   ]
  },
  {
   "cell_type": "code",
   "execution_count": 42,
   "metadata": {},
   "outputs": [],
   "source": [
    "def split(word):\n",
    "    return [(word[:i], word[i:]) for i in range(len(word) + 1)]"
   ]
  },
  {
   "cell_type": "code",
   "execution_count": 44,
   "metadata": {},
   "outputs": [],
   "source": [
    "def delete(word):\n",
    "    return [left + right[1:] for left, right in split(word)]"
   ]
  },
  {
   "cell_type": "code",
   "execution_count": 52,
   "metadata": {},
   "outputs": [],
   "source": [
    "def swap(word):\n",
    "    return [left + right[1] + right[0] + right[2:] for left, right in split(word) if len(right)>1]"
   ]
  },
  {
   "cell_type": "code",
   "execution_count": 53,
   "metadata": {},
   "outputs": [],
   "source": [
    "def replace(word):\n",
    "    letters = string.ascii_lowercase\n",
    "    return [left + c + right[1:] for left, right in split(word) if right for c in letters]"
   ]
  },
  {
   "cell_type": "code",
   "execution_count": 54,
   "metadata": {},
   "outputs": [],
   "source": [
    "def insert(word):\n",
    "    letters = string.ascii_lowercase\n",
    "    return [left + c + right for left, right in split(word) for c in letters]"
   ]
  },
  {
   "cell_type": "code",
   "execution_count": 55,
   "metadata": {},
   "outputs": [],
   "source": [
    "def level_one_edits(word):\n",
    "    return set(delete(word) + swap(word) + replace(word) + insert(word))"
   ]
  },
  {
   "cell_type": "code",
   "execution_count": 57,
   "metadata": {},
   "outputs": [],
   "source": [
    "def level_two_edits(word):\n",
    "    return set(edit2 for edit1 in level_one_edits(word) for edit2 in level_one_edits(edit1))"
   ]
  },
  {
   "cell_type": "code",
   "execution_count": 66,
   "metadata": {},
   "outputs": [],
   "source": [
    "def correct_spelling(word, vocab, word_proba):\n",
    "    if word in vocab:\n",
    "        return f'{word} is correctly spelt'\n",
    "    \n",
    "    suggestion = level_one_edits(word) or level_two_edits(word) or [word]\n",
    "    best_guesses = [w for w in suggestion if w in vocab]\n",
    "    return [(w, word_proba[w]) for w in best_guesses]\n"
   ]
  },
  {
   "cell_type": "code",
   "execution_count": 75,
   "metadata": {},
   "outputs": [
    {
     "data": {
      "text/plain": [
       "[('ashine', 3.797390964563887e-07),\n",
       " ('machine', 6.645434187986801e-05),\n",
       " ('mashie', 3.797390964563887e-07),\n",
       " ('mashing', 3.797390964563887e-07)]"
      ]
     },
     "execution_count": 75,
     "metadata": {},
     "output_type": "execute_result"
    }
   ],
   "source": [
    "correct_spelling('mashine', vocab=vocabs, word_proba=word_probas)"
   ]
  },
  {
   "cell_type": "code",
   "execution_count": 74,
   "metadata": {},
   "outputs": [
    {
     "data": {
      "text/plain": [
       "[('earning', 7.594781929127774e-07),\n",
       " ('learning', 2.2024867594470544e-05),\n",
       " ('yearning', 1.8986954822819434e-06)]"
      ]
     },
     "execution_count": 74,
     "metadata": {},
     "output_type": "execute_result"
    }
   ],
   "source": [
    "correct_spelling('aearning', vocab=vocabs, word_proba=word_probas)\n"
   ]
  },
  {
   "cell_type": "code",
   "execution_count": null,
   "metadata": {},
   "outputs": [],
   "source": []
  }
 ],
 "metadata": {
  "kernelspec": {
   "display_name": "ml",
   "language": "python",
   "name": "python3"
  },
  "language_info": {
   "codemirror_mode": {
    "name": "ipython",
    "version": 3
   },
   "file_extension": ".py",
   "mimetype": "text/x-python",
   "name": "python",
   "nbconvert_exporter": "python",
   "pygments_lexer": "ipython3",
   "version": "3.10.13"
  }
 },
 "nbformat": 4,
 "nbformat_minor": 2
}
